{
 "cells": [
  {
   "cell_type": "code",
   "execution_count": 1,
   "metadata": {
    "collapsed": true
   },
   "outputs": [],
   "source": [
    "import os\n",
    "import sys\n",
    "import glob\n",
    "import itertools\n",
    "import random\n",
    "\n",
    "from IPython.display import Image\n",
    "\n",
    "import matplotlib\n",
    "import matplotlib.pyplot as plt\n",
    "import matplotlib.mlab as mlab\n",
    "from matplotlib.colors import ListedColormap\n",
    "from scipy.stats import multivariate_normal\n",
    "\n",
    "import numpy as np\n",
    "import pandas as pd\n",
    "from scipy.stats import beta\n",
    "from sklearn import mixture\n",
    "from sklearn.cluster import KMeans\n",
    "\n",
    "random.seed(1234)\n",
    "\n",
    "%matplotlib inline"
   ]
  },
  {
   "cell_type": "code",
   "execution_count": 2,
   "metadata": {
    "collapsed": false
   },
   "outputs": [
    {
     "name": "stdout",
     "output_type": "stream",
     "text": [
      "(14, 32)\n"
     ]
    }
   ],
   "source": [
    "# load AML data and table\n",
    "##### X: np.array, flow cytometry data, arcsin transformed\n",
    "##### T: table of expert knowledge\n",
    "\n",
    "np.random.seed(1234)\n",
    "PATH = '/home/disij/projects/acdc/data/'\n",
    "\n",
    "### LOAD DATA ###\n",
    "path = PATH + 'AML_benchmark/'\n",
    "df = pd.read_csv( path + 'AML_benchmark.csv.gz', sep=',', header = 0, compression = 'gzip', engine='python')\n",
    "table = pd.read_csv(path + 'AML_table.csv', sep=',', header=0, index_col=0)\n",
    "print table.shape\n",
    "\n",
    "### PROCESS: discard ungated events ###\n",
    "df = df[df.cell_type != 'NotGated']\n",
    "df = df.drop(['Time', 'Cell_length','file_number', 'event_number', 'DNA1(Ir191)Di',\n",
    "              'DNA2(Ir193)Di', 'Viability(Pt195)Di', 'subject'], axis = 1)\n",
    "channels = [item[:item.find('(')] for item in df.columns[:-1]]\n",
    "df.columns = channels + ['cell_type']\n",
    "df = df.loc[df['cell_type'] != 'NotDebrisSinglets']\n",
    "\n",
    "table = table.fillna(0)\n",
    "X = df[channels].values\n",
    "table_headers = list(table)\n",
    "# df2 = pd.DataFrame([[0]*table.shape[1]], columns=table.columns, index =['unknown'])\n",
    "# table = table.append(df2)\n",
    "\n",
    "### transform data\n",
    "data = np.arcsinh((X-1.)/5.)\n",
    "theta_space = np.array([[data[:,d].min(), data[:,d].max()] for d in range(data.shape[1])])\n",
    "\n",
    "\n",
    "cell_type_name2idx = {x:i for i,x in enumerate(table.index)}\n",
    "Y = np.array([cell_type_name2idx[_] for _ in df.cell_type])"
   ]
  },
  {
   "cell_type": "code",
   "execution_count": 3,
   "metadata": {
    "collapsed": false
   },
   "outputs": [
    {
     "name": "stdout",
     "output_type": "stream",
     "text": [
      "(104184, 32)\n"
     ]
    }
   ],
   "source": [
    "print data.shape"
   ]
  },
  {
   "cell_type": "code",
   "execution_count": 4,
   "metadata": {
    "collapsed": false
   },
   "outputs": [
    {
     "name": "stdout",
     "output_type": "stream",
     "text": [
      "0.861495047224\n",
      "CPU times: user 56.4 s, sys: 2min 5s, total: 3min 2s\n",
      "Wall time: 44.6 s\n"
     ]
    }
   ],
   "source": [
    "%%time\n",
    "gmm = mixture.GaussianMixture(n_components=table.shape[0], covariance_type='full').fit(data)\n",
    "clusters = gmm.predict(data)\n",
    "Y_predict = np.zeros_like(clusters)\n",
    "# assign labels to clusters:\n",
    "for k in range(table.shape[0]):\n",
    "    Y_predict[clusters == k] = np.bincount(Y[clusters==k]).argmax()\n",
    "print sum(Y_predict == Y)*1.0 / len(Y_predict)"
   ]
  },
  {
   "cell_type": "code",
   "execution_count": null,
   "metadata": {
    "collapsed": true
   },
   "outputs": [],
   "source": []
  }
 ],
 "metadata": {
  "kernelspec": {
   "display_name": "Python 2",
   "language": "python",
   "name": "python2"
  },
  "language_info": {
   "codemirror_mode": {
    "name": "ipython",
    "version": 2
   },
   "file_extension": ".py",
   "mimetype": "text/x-python",
   "name": "python",
   "nbconvert_exporter": "python",
   "pygments_lexer": "ipython2",
   "version": "2.7.11"
  }
 },
 "nbformat": 4,
 "nbformat_minor": 0
}
