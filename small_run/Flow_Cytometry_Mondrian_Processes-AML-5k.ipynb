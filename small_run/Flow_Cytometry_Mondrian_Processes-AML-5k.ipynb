{
 "cells": [
  {
   "cell_type": "code",
   "execution_count": 1,
   "metadata": {
    "collapsed": true
   },
   "outputs": [],
   "source": [
    "import os\n",
    "import sys\n",
    "import glob\n",
    "import pickle\n",
    "import itertools\n",
    "import random\n",
    "\n",
    "from IPython.display import Image\n",
    "\n",
    "import matplotlib\n",
    "import matplotlib.pyplot as plt\n",
    "import matplotlib.mlab as mlab\n",
    "from matplotlib.colors import ListedColormap\n",
    "from scipy.stats import multivariate_normal\n",
    "\n",
    "import numpy as np\n",
    "import pandas as pd\n",
    "from scipy.stats import beta\n",
    "\n",
    "\n",
    "random.seed(1234)\n",
    "%matplotlib inline"
   ]
  },
  {
   "cell_type": "markdown",
   "metadata": {},
   "source": [
    "## Mondrian Processes"
   ]
  },
  {
   "cell_type": "markdown",
   "metadata": {},
   "source": [
    "### Various Functions for Mondrian Processes"
   ]
  },
  {
   "cell_type": "markdown",
   "metadata": {},
   "source": [
    "Sampling..."
   ]
  },
  {
   "cell_type": "code",
   "execution_count": 2,
   "metadata": {
    "collapsed": true
   },
   "outputs": [],
   "source": [
    "### SAMPLE MONDRIAN PROCESS ###\n",
    "def draw_Mondrian(theta_space, budget=5):\n",
    "    return draw_Mondrian_at_t(theta_space, 0, budget)\n",
    "    \n",
    "def draw_Mondrian_at_t(theta_space, t, budget):\n",
    "    dists = theta_space[:,1] - theta_space[:,0]\n",
    "    lin_dim = np.sum(dists)\n",
    "    T = np.random.exponential(scale=1./lin_dim)\n",
    "    \n",
    "    if t+T > budget: \n",
    "        return (theta_space, None, None)\n",
    "    \n",
    "    d = np.argmax(np.random.multinomial(n=1, pvals=dists/lin_dim))\n",
    "    x = np.random.uniform(low=theta_space[d,0], high=theta_space[d,1])\n",
    "    \n",
    "    theta_left = np.copy(theta_space)\n",
    "    theta_left[d][1] = x \n",
    "    M_left = draw_Mondrian_at_t(theta_left, t+T, budget)\n",
    "    \n",
    "    theta_right = np.copy(theta_space)\n",
    "    theta_right[d][0] = x \n",
    "    M_right = draw_Mondrian_at_t(theta_right, t+T, budget)\n",
    "    \n",
    "    return (theta_space, M_left, M_right)\n",
    "\n",
    "def comp_log_p_sample(theta_space, data):\n",
    "    if theta_space[1] == None and theta_space[2] == None:\n",
    "        if data.shape[0] == 0:\n",
    "            return 0\n",
    "        else:\n",
    "            mu = np.mean(data, axis = 0)\n",
    "            residual = data - mu\n",
    "            cov = np.dot(residual.T , residual) / data.shape[0] + np.identity(data.shape[1])*0.001\n",
    "            return np.log(multivariate_normal.pdf(data, mean=mu, cov=cov)).sum()\n",
    "    \n",
    "    # find the dimension and location of first cut\n",
    "    root_rec = theta_space[0]\n",
    "    left_rec = theta_space[1][0]\n",
    "    \n",
    "    for _ in range(root_rec.shape[0]):\n",
    "        if root_rec[_,1] != left_rec[_,1]:\n",
    "            break\n",
    "    \n",
    "    dim, pos = _, left_rec[_,1]\n",
    "    idx_left = data[:,dim] < pos\n",
    "    idx_right = data[:,dim] >= pos\n",
    "    log_len_left =  np.log(pos - root_rec[dim,0])\n",
    "    log_len_right = np.log(root_rec[dim,1] - pos)\n",
    "    return comp_log_p_sample(theta_space[1], data[idx_left]) + comp_log_p_sample(theta_space[2], data[idx_right])    "
   ]
  },
  {
   "cell_type": "markdown",
   "metadata": {},
   "source": [
    "Visualization..."
   ]
  },
  {
   "cell_type": "code",
   "execution_count": 3,
   "metadata": {
    "collapsed": true
   },
   "outputs": [],
   "source": [
    "### VISUALIZE 2D MONDRIAN PROCESS ###\n",
    "def print_partitions(p, trans_level=1., color='k'):\n",
    "    if not p[1] and not p[2]: \n",
    "        plt.plot([p[0][0,0], p[0][0,0]], [p[0][1,0], p[0][1,1]], color+'-', linewidth=3, alpha=trans_level)\n",
    "        plt.plot([p[0][0,1], p[0][0,1]], [p[0][1,0], p[0][1,1]], color+'-', linewidth=3, alpha=trans_level)\n",
    "        plt.plot([p[0][0,0], p[0][0,1]], [p[0][1,0], p[0][1,0]], color+'-', linewidth=3, alpha=trans_level)\n",
    "        plt.plot([p[0][0,0], p[0][0,1]], [p[0][1,1], p[0][1,1]], color+'-', linewidth=3, alpha=trans_level)\n",
    "    \n",
    "    else:\n",
    "        print_partitions(p[1], trans_level, color)\n",
    "        print_partitions(p[2], trans_level, color)\n",
    "        \n",
    "        \n",
    "### VISUALIZE 2D POSTERIOR WITH DATA###\n",
    "def print_posterior(data, samples, trans_level=.05, color='k'):\n",
    "\n",
    "    plt.figure()\n",
    "    plt.scatter(data[:,0], data[:,1], c='k', edgecolors='k', s=5, alpha=.5)\n",
    "\n",
    "    #print all samples\n",
    "    for sample in samples:\n",
    "        print_partitions(sample, trans_level, color)\n",
    "        \n",
    "        \n",
    "def print_tree_at_leaf(mp_tree, table):\n",
    "\n",
    "    if mp_tree[1] == None and mp_tree[2] == None: \n",
    "        print table.shape\n",
    "        return 1\n",
    "    \n",
    "    \n",
    "    # find the dimension and location of first cut\n",
    "    root_rec = mp_tree[0]\n",
    "    left_rec = mp_tree[1][0]\n",
    "    \n",
    "    for _ in range(root_rec.shape[0]):\n",
    "        if root_rec[_,1] != left_rec[_,1]:\n",
    "            break\n",
    "    d, pos = _, left_rec[_,1]\n",
    "    \n",
    "    cut_type = ' '.join([str(int(x)) for x in sorted(set(table[table.columns[d]]))]) \n",
    "    \n",
    "    if cut_type in {\"-1 0 1\", '-1 1'}: \n",
    "        idx_table_left = table[table.columns[d]] != 1\n",
    "        table_left = table.loc[idx_table_left]\n",
    "\n",
    "        idx_table_right = table[table.columns[d]] != -1\n",
    "        table_right = table.loc[idx_table_right]\n",
    "    \n",
    "    if cut_type == '-1 0':\n",
    "        idx_table_left = table[table.columns[d]] == -1\n",
    "        table_left = table.loc[idx_table_left]\n",
    "\n",
    "        idx_table_right = table[table.columns[d]] == 0\n",
    "        table_right = table.loc[idx_table_right]\n",
    "        \n",
    "\n",
    "    if cut_type == '0 1':\n",
    "        idx_table_left = table[table.columns[d]] == 0\n",
    "        table_left = table.loc[idx_table_left]\n",
    "\n",
    "        idx_table_right = table[table.columns[d]] == 1\n",
    "        table_right = table.loc[idx_table_right]\n",
    "    \n",
    "    return print_tree_at_leaf(mp_tree[1], table_left) + print_tree_at_leaf(mp_tree[2], table_right)\n"
   ]
  },
  {
   "cell_type": "markdown",
   "metadata": {},
   "source": [
    "## Mondrian Process Generative Model\n",
    "\n",
    "We apply Mondrian Processes (MPs) to flow cytometry data, using the prior information in the table above to guide the axis-aligned cuts.  Instead of uniformly, we draw the cut proportion from $w \\sim \\text{Beta}(a_{0}, b_{0})$. "
   ]
  },
  {
   "cell_type": "markdown",
   "metadata": {},
   "source": [
    "Now let's re-implement the MP sampling function, accounting for the prior information..."
   ]
  },
  {
   "cell_type": "code",
   "execution_count": 4,
   "metadata": {
    "collapsed": true
   },
   "outputs": [],
   "source": [
    "### SAMPLE MONDRIAN PROCESS WITH PRIOR INFORMATION ###\n",
    "def draw_informed_Mondrian(theta_space, table, budget=5):\n",
    "    \n",
    "    # INFORMATIVE PRIORS\n",
    "    upper_cut = (5., 2.)\n",
    "    lower_cut = (2., 5.)\n",
    "    middle_cut = (5., 5.)\n",
    "    neutral_cut = (2., 2.)\n",
    "    priors_dict = { '-1':lower_cut, '0':neutral_cut, '1':upper_cut, \n",
    "                   '-1 0':lower_cut, '-1 1':middle_cut, '0 1':upper_cut,\n",
    "                   '-1 0 1': middle_cut, '': neutral_cut\n",
    "                  }\n",
    "    \n",
    "    cut_history = [1] * theta_space.shape[0]\n",
    "    \n",
    "    return draw_informed_Mondrian_at_t(theta_space, table, priors_dict, cut_history)\n",
    "    \n",
    "\n",
    "def draw_informed_Mondrian_at_t(theta_space, table, priors_dict, cut_history):    \n",
    "    \n",
    "    if sum(cut_history) == 0 or table.shape[0] == 1:\n",
    "        return (theta_space, None, None)\n",
    "\n",
    "    \n",
    "    types_str = [' '.join([str(int(x)) for x in sorted(set(table[table.columns[d]]))]) \n",
    "                 for d in range(table.shape[1])]\n",
    "    \n",
    "    if set([types_str[d] for d in range(table.shape[1]) if cut_history[d] == 1]).issubset({'0','1','-1'}):\n",
    "        return (theta_space, None, None)\n",
    "\n",
    "    \n",
    "    low, medium, high, very_high = 0, 1, 100, 1000\n",
    "    priority_dict = {'-1': low , '0': low, '1': low, \n",
    "                   '-1 0': medium, '0 1': medium,\n",
    "                   '-1 0 1': high, '-1 1':very_high\n",
    "    }    \n",
    "        \n",
    "    types = np.array([priority_dict[_] for _ in types_str])\n",
    "    \n",
    "\n",
    "    dists = (theta_space[:,1] - theta_space[:,0])* types    \n",
    "    lin_dim = np.sum(dists)\n",
    "    # draw dimension to cut\n",
    "    dim_probs = ((dists/lin_dim) * np.array(cut_history)) \n",
    "    dim_probs /= np.sum(dim_probs)\n",
    "    d = np.argmax(np.random.multinomial(n=1, pvals=dim_probs))\n",
    "    cut_history[d] = 0\n",
    "\n",
    "    prior_type_str = ' '.join([str(int(x)) for x in sorted(set(table[table.columns[d]]))])\n",
    "    prior_params = priors_dict[prior_type_str]\n",
    "    \n",
    "    # make scaled cut\n",
    "    x = (theta_space[d,1] - theta_space[d,0]) * np.random.beta(prior_params[0], prior_params[1]) + theta_space[d,0]\n",
    "    \n",
    "    cut_type = types_str[d]\n",
    "    \n",
    "    if cut_type in {\"-1 0 1\", '-1 1'}: \n",
    "        idx_table_left = table[table.columns[d]] != 1\n",
    "        table_left = table.loc[idx_table_left]\n",
    "\n",
    "        idx_table_right = table[table.columns[d]] != -1\n",
    "        table_right = table.loc[idx_table_right]\n",
    "    \n",
    "    if cut_type == '-1 0':\n",
    "        idx_table_left = table[table.columns[d]] == -1\n",
    "        table_left = table.loc[idx_table_left]\n",
    "\n",
    "        idx_table_right = table[table.columns[d]] == 0\n",
    "        table_right = table.loc[idx_table_right]\n",
    "        \n",
    "\n",
    "    if cut_type == '0 1':\n",
    "        idx_table_left = table[table.columns[d]] == 0\n",
    "        table_left = table.loc[idx_table_left]\n",
    "\n",
    "        idx_table_right = table[table.columns[d]] == 1\n",
    "        table_right = table.loc[idx_table_right]\n",
    "\n",
    "    \n",
    "    # make lower partition\n",
    "    theta_left = np.copy(theta_space)\n",
    "    theta_left[d][1] = x\n",
    "    M_left = draw_informed_Mondrian_at_t(theta_left, table_left, priors_dict, list(cut_history))\n",
    "    \n",
    "    # make upper partition\n",
    "    theta_right = np.copy(theta_space)\n",
    "    theta_right[d][0] = x \n",
    "    M_right = draw_informed_Mondrian_at_t(theta_right, table_right, priors_dict,list(cut_history))\n",
    "    \n",
    "    return (theta_space, M_left, M_right)\n",
    "\n",
    "def Mondrian_Gaussian_perturbation(theta_space, old_sample, stepsize):\n",
    "    \"\"\"\n",
    "    Input: \n",
    "    theta_space: a rectangle\n",
    "    old_sample: partioned theta_space of a mondrian process\n",
    "    stepsize: gaussian std\n",
    "    \"\"\"\n",
    "    if old_sample[1] == None and old_sample[2] == None:\n",
    "        return (theta_space, None, None)\n",
    "    \n",
    "    # find the dimension and location of first cut in the old_sample\n",
    "    for _ in range(old_sample[0].shape[0]):\n",
    "        if old_sample[0][_,1] > old_sample[1][0][_,1]:\n",
    "            break    \n",
    "    dim, pos = _, old_sample[1][0][_,1]\n",
    "    # propose position of new cut\n",
    "    good_propose = False\n",
    "    while good_propose == False:\n",
    "        new_pos = pos + np.random.normal(0,(old_sample[0][dim,1] - old_sample[0][dim,0])*stepsize,1)[0]\n",
    "        if new_pos < theta_space[dim,1] and new_pos > theta_space[dim,0]:\n",
    "            good_propose = True\n",
    "    \n",
    "    theta_left = np.copy(theta_space)\n",
    "    theta_left[dim,1] = new_pos\n",
    "    theta_right = np.copy(theta_space)\n",
    "    theta_right[dim,0] = new_pos\n",
    "    \n",
    "    new_M_left= Mondrian_Gaussian_perturbation(theta_left, old_sample[1], stepsize)\n",
    "    new_M_right = Mondrian_Gaussian_perturbation(theta_right, old_sample[2], stepsize)\n",
    "    \n",
    "    return (theta_space, new_M_left, new_M_right)\n",
    "\n",
    "def comp_log_p_prior(theta_space, table, cut_history):\n",
    "    \"\"\"\n",
    "    This function returns prior probability of a Mondrian process theta_space\n",
    "    \"\"\"\n",
    "    if theta_space[1] == None and theta_space[2] == None:\n",
    "        return 0\n",
    "    \n",
    "    log_prior = 0\n",
    "    \n",
    "\n",
    "    # INFORMATIVE PRIORS\n",
    "    upper_cut = (5., 2.)\n",
    "    lower_cut = (2., 5.)\n",
    "    middle_cut = (5., 5.)\n",
    "    neutral_cut = (2., 2.)\n",
    "    priors_dict = { '-1':lower_cut, '0':neutral_cut, '1':upper_cut, \n",
    "                   '-1 0':lower_cut, '-1 1':middle_cut, '0 1':upper_cut,\n",
    "                   '-1 0 1': middle_cut, '': neutral_cut\n",
    "                  }\n",
    "    \n",
    "    \n",
    "    # find the dimension and location of first cut\n",
    "    root_rec = theta_space[0]\n",
    "    left_rec = theta_space[1][0]\n",
    "    \n",
    "    for _ in range(root_rec.shape[0]):\n",
    "        if root_rec[_,1] != left_rec[_,1]:\n",
    "            break\n",
    "    dim  = _\n",
    "    beta_pos =  (left_rec[_,1] - left_rec[dim,0])/(root_rec[dim,1] - root_rec[dim, 0])\n",
    "    \n",
    "    prior_params = priors_dict[' '.join([str(int(x)) \\\n",
    "                                         for x in sorted(set(table[table.columns[dim]]))])]\n",
    "\n",
    "    # compute the log likelihood of the first cut\n",
    "    types_str = [' '.join([str(int(x)) for x in sorted(set(table[table.columns[d]]))]) \n",
    "                 for d in range(table.shape[1])]\n",
    "    \n",
    "    low_priority, medium_priority, high_priority, very_high_priority = 0, 1, 100, 1000\n",
    "    priority_dict = {'-1': low_priority , '0': low_priority, '1': low_priority, \n",
    "                   '-1 0': medium_priority, '0 1': medium_priority,\n",
    "                   '-1 0 1': high_priority, '-1 1':very_high_priority\n",
    "    }    \n",
    "        \n",
    "    types = np.array([priority_dict[_] for _ in types_str])\n",
    "    dists = (root_rec[:,1] - root_rec[:,0])* types    \n",
    "    lin_dim = np.sum(dists)\n",
    "    \n",
    "    # probability of dim\n",
    "    dim_probs = ((dists/lin_dim) * np.array(cut_history)) \n",
    "    dim_probs /= np.sum(dim_probs)\n",
    "    log_prior  += np.log(dim_probs[dim])\n",
    "    \n",
    "    \n",
    "    # probability of pos\n",
    "    log_prior += np.log(beta.pdf(beta_pos, prior_params[0], prior_params[1]))\n",
    "    \n",
    "    # split the table\n",
    "    cut_history[dim] = 0\n",
    "    cut_type = types_str[dim]\n",
    "    \n",
    "    if cut_type in {\"-1 0 1\", '-1 1'}: \n",
    "        idx_table_left = table[table.columns[dim]] != 1\n",
    "        table_left = table.loc[idx_table_left]\n",
    "\n",
    "        idx_table_right = table[table.columns[dim]] != -1\n",
    "        table_right = table.loc[idx_table_right]\n",
    "    \n",
    "    if cut_type == '-1 0':\n",
    "        idx_table_left = table[table.columns[dim]] == -1\n",
    "        table_left = table.loc[idx_table_left]\n",
    "\n",
    "        idx_table_right = table[table.columns[dim]] == 0\n",
    "        table_right = table.loc[idx_table_right]\n",
    "        \n",
    "\n",
    "    if cut_type == '0 1':\n",
    "        idx_table_left = table[table.columns[dim]] == 0\n",
    "        table_left = table.loc[idx_table_left]\n",
    "\n",
    "        idx_table_right = table[table.columns[dim]] == 1\n",
    "        table_right = table.loc[idx_table_right]\n",
    "        \n",
    "        \n",
    "        \n",
    "    return log_prior + comp_log_p_prior(theta_space[1], table_left, list(cut_history)) \\\n",
    "        + comp_log_p_prior(theta_space[2], table_right, list(cut_history))"
   ]
  },
  {
   "cell_type": "markdown",
   "metadata": {},
   "source": [
    "# Classification"
   ]
  },
  {
   "cell_type": "code",
   "execution_count": 5,
   "metadata": {
    "collapsed": true
   },
   "outputs": [],
   "source": [
    "def classify_cells(data, mp_tree, table, cell_type_name2idx):\n",
    "    Y = np.array([1]*data.shape[0])\n",
    "    \n",
    "    if data.shape[0] == 0:\n",
    "        return Y\n",
    "    \n",
    "    if mp_tree[1] == None and mp_tree[2] == None:\n",
    "        if table.shape[0] > 1:\n",
    "#            print \"more than one clusters, number of data points:\", data.shape[0]\n",
    "            labels = [cell_type_name2idx[table.index[_]] for _ in range(table.shape[0])]\n",
    "            return np.array(np.random.choice(labels, data.shape[0],replace = True))\n",
    "        else:\n",
    "            return Y * cell_type_name2idx[table.index[0]]\n",
    "    \n",
    "    \n",
    "    # find the dimension and location of first cut\n",
    "    root_rec = mp_tree[0]\n",
    "    left_rec = mp_tree[1][0]\n",
    "    \n",
    "    for _ in range(root_rec.shape[0]):\n",
    "        if root_rec[_,1] != left_rec[_,1]:\n",
    "            break\n",
    "    dim, pos = _, left_rec[_,1]\n",
    "    \n",
    "    # find labels that match dim info from table\n",
    "    idx_table_left = table[table.columns[dim]] != 1\n",
    "    table_left = table.loc[idx_table_left]\n",
    "\n",
    "    idx_table_right = table[table.columns[dim]] != -1\n",
    "    table_right = table.loc[idx_table_right]\n",
    "    \n",
    "    # find data INDICIES that go high / low on cut position in dimension dim\n",
    "    idx_left = data[:,dim]  < pos\n",
    "    idx_right = data[:,dim]  >= pos\n",
    "    \n",
    "    Y[idx_left] = classify_cells(data[idx_left],mp_tree[1],table_left, cell_type_name2idx)\n",
    "    Y[idx_right] = classify_cells(data[idx_right],mp_tree[2],table_right, cell_type_name2idx)\n",
    "\n",
    "    return Y"
   ]
  },
  {
   "cell_type": "markdown",
   "metadata": {},
   "source": [
    "# Running time of Functions"
   ]
  },
  {
   "cell_type": "code",
   "execution_count": 6,
   "metadata": {
    "collapsed": false
   },
   "outputs": [
    {
     "name": "stdout",
     "output_type": "stream",
     "text": [
      "CPU times: user 14.7 s, sys: 832 ms, total: 15.6 s\n",
      "Wall time: 15.6 s\n"
     ]
    }
   ],
   "source": [
    "%%time\n",
    "# load AML data and table\n",
    "##### X: np.array, flow cytometry data, arcsin transformed\n",
    "##### T: table of expert knowledge\n",
    "\n",
    "np.random.seed(1234)\n",
    "PATH = '/home/disij/projects/acdc/data/'\n",
    "\n",
    "### LOAD DATA ###\n",
    "path = PATH + 'AML_benchmark/'\n",
    "df = pd.read_csv( path + 'AML_benchmark.csv.gz', sep=',', header = 0, compression = 'gzip', engine='python')\n",
    "table = pd.read_csv(path + 'AML_table.csv', sep=',', header=0, index_col=0)\n",
    "\n",
    "### PROCESS: discard ungated events ###\n",
    "df = df[df.cell_type != 'NotGated']\n",
    "df = df.drop(['Time', 'Cell_length','file_number', 'event_number', 'DNA1(Ir191)Di',\n",
    "              'DNA2(Ir193)Di', 'Viability(Pt195)Di', 'subject'], axis = 1)\n",
    "channels = [item[:item.find('(')] for item in df.columns[:-1]]\n",
    "df.columns = channels + ['cell_type']\n",
    "df = df.loc[df['cell_type'] != 'NotDebrisSinglets']\n",
    "\n",
    "table = table.fillna(0)\n",
    "X = df[channels].values\n",
    "table_headers = list(table)\n",
    "df2 = pd.DataFrame([[0]*table.shape[1]], columns=table.columns)\n",
    "table.append(df2)\n",
    "\n",
    "### transform data\n",
    "data = np.arcsinh((X-1.)/5.)\n",
    "theta_space = np.array([[data[:,d].min(), data[:,d].max()] for d in range(data.shape[1])])"
   ]
  },
  {
   "cell_type": "code",
   "execution_count": 7,
   "metadata": {
    "collapsed": true
   },
   "outputs": [],
   "source": [
    "def comp_depth_tree(sample):\n",
    "    if sample == None:\n",
    "        return 0\n",
    "    else:\n",
    "        return 1+ max(comp_depth_tree(sample[1]),comp_depth_tree(sample[2]))"
   ]
  },
  {
   "cell_type": "code",
   "execution_count": 8,
   "metadata": {
    "collapsed": false
   },
   "outputs": [
    {
     "name": "stdout",
     "output_type": "stream",
     "text": [
      "CPU times: user 64.1 ms, sys: 5.63 ms, total: 69.8 ms\n",
      "Wall time: 67.9 ms\n"
     ]
    }
   ],
   "source": [
    "%%time\n",
    "# test efficiency of function draw_informed_Mondrian\n",
    "sample = draw_informed_Mondrian(theta_space, table)"
   ]
  },
  {
   "cell_type": "code",
   "execution_count": 9,
   "metadata": {
    "collapsed": false
   },
   "outputs": [
    {
     "name": "stdout",
     "output_type": "stream",
     "text": [
      "8\n"
     ]
    }
   ],
   "source": [
    "print comp_depth_tree(sample)"
   ]
  },
  {
   "cell_type": "code",
   "execution_count": 10,
   "metadata": {
    "collapsed": false
   },
   "outputs": [
    {
     "name": "stdout",
     "output_type": "stream",
     "text": [
      "-1469188.8690527957\n",
      "CPU times: user 327 ms, sys: 692 ms, total: 1.02 s\n",
      "Wall time: 163 ms\n"
     ]
    }
   ],
   "source": [
    "%%time\n",
    "# test efficiency of function comp_log_p_sample\n",
    "print comp_log_p_sample(sample, data)"
   ]
  },
  {
   "cell_type": "code",
   "execution_count": 11,
   "metadata": {
    "collapsed": false
   },
   "outputs": [
    {
     "name": "stdout",
     "output_type": "stream",
     "text": [
      "-14.5917983027797\n",
      "CPU times: user 195 ms, sys: 516 ms, total: 711 ms\n",
      "Wall time: 87.5 ms\n"
     ]
    }
   ],
   "source": [
    "%%time\n",
    "# test efficiency of function comp_log_p_prior\n",
    "print comp_log_p_prior(sample, table, [1 for _ in range(theta_space.shape[0])])"
   ]
  },
  {
   "cell_type": "code",
   "execution_count": 12,
   "metadata": {
    "collapsed": false
   },
   "outputs": [
    {
     "data": {
      "image/png": "[encoded data removed]",
      "text/plain": [
       "<matplotlib.figure.Figure at 0x256c150>"
      ]
     },
     "metadata": {},
     "output_type": "display_data"
    },
    {
     "name": "stdout",
     "output_type": "stream",
     "text": [
      "CPU times: user 14 s, sys: 325 ms, total: 14.4 s\n",
      "Wall time: 14 s\n"
     ]
    }
   ],
   "source": [
    "%%time\n",
    "samples = [draw_informed_Mondrian(theta_space, table) for _ in range(100)]\n",
    "log_p_priors = [comp_log_p_prior(sample, table, [1 for _ in range(theta_space.shape[0])]) for sample in samples]\n",
    "plt.plot(log_p_priors)\n",
    "plt.show()"
   ]
  },
  {
   "cell_type": "markdown",
   "metadata": {},
   "source": [
    "## Flow Cytometry Data\n",
    "\n",
    "Load AML dataset from [ACDC paper](https://www.ncbi.nlm.nih.gov/pmc/articles/PMC5447237/pdf/btx054.pdf)..."
   ]
  },
  {
   "cell_type": "code",
   "execution_count": 10,
   "metadata": {
    "collapsed": false
   },
   "outputs": [
    {
     "name": "stdout",
     "output_type": "stream",
     "text": [
      "(14, 32)\n"
     ]
    }
   ],
   "source": [
    "# load AML data and table\n",
    "##### X: np.array, flow cytometry data, arcsin transformed\n",
    "##### T: table of expert knowledge\n",
    "\n",
    "np.random.seed(1234)\n",
    "PATH = '/home/disij/projects/acdc/data/'\n",
    "\n",
    "### LOAD DATA ###\n",
    "path = PATH + 'AML_benchmark/'\n",
    "df = pd.read_csv( path + 'AML_benchmark.csv.gz', sep=',', header = 0, compression = 'gzip', engine='python')\n",
    "table = pd.read_csv(path + 'AML_table.csv', sep=',', header=0, index_col=0)\n",
    "print table.shape\n",
    "\n",
    "### PROCESS: discard ungated events ###\n",
    "df = df[df.cell_type != 'NotGated']\n",
    "df = df.drop(['Time', 'Cell_length','file_number', 'event_number', 'DNA1(Ir191)Di',\n",
    "              'DNA2(Ir193)Di', 'Viability(Pt195)Di', 'subject'], axis = 1)\n",
    "channels = [item[:item.find('(')] for item in df.columns[:-1]]\n",
    "df.columns = channels + ['cell_type']\n",
    "df = df.loc[df['cell_type'] != 'NotDebrisSinglets']\n",
    "\n",
    "table = table.fillna(0)\n",
    "X = df[channels].values\n",
    "table_headers = list(table)\n",
    "# df2 = pd.DataFrame([[0]*table.shape[1]], columns=table.columns, index =['unknown'])\n",
    "# table = table.append(df2)\n",
    "\n",
    "### transform data\n",
    "data = np.arcsinh((X-1.)/5.)\n",
    "theta_space = np.array([[data[:,d].min(), data[:,d].max()] for d in range(data.shape[1])])\n",
    "\n",
    "\n",
    "cell_type_name2idx = {x:i for i,x in enumerate(table.index)}\n",
    "Y = np.array([cell_type_name2idx[_] for _ in df.cell_type])"
   ]
  },
  {
   "cell_type": "code",
   "execution_count": 11,
   "metadata": {
    "collapsed": false
   },
   "outputs": [
    {
     "name": "stdout",
     "output_type": "stream",
     "text": [
      "(104184, 32)\n"
     ]
    }
   ],
   "source": [
    "print data.shape"
   ]
  },
  {
   "cell_type": "markdown",
   "metadata": {},
   "source": [
    "## Experiment #-1: Empirical prior.\n",
    "\n",
    "Fit a decision tree to labeled data and extract "
   ]
  },
  {
   "cell_type": "code",
   "execution_count": 12,
   "metadata": {
    "collapsed": false
   },
   "outputs": [],
   "source": [
    "from sklearn import tree\n",
    "decision_tree = tree.DecisionTreeClassifier()\n",
    "decision_tree = decision_tree.fit(df[channels], Y)"
   ]
  },
  {
   "cell_type": "code",
   "execution_count": 13,
   "metadata": {
    "collapsed": false
   },
   "outputs": [
    {
     "name": "stdout",
     "output_type": "stream",
     "text": [
      "CD16\n"
     ]
    }
   ],
   "source": [
    "print channels[21]"
   ]
  },
  {
   "cell_type": "code",
   "execution_count": 14,
   "metadata": {
    "collapsed": false,
    "scrolled": false
   },
   "outputs": [
    {
     "data": {
      "text/plain": [
       "'decision_tree_AML.pdf'"
      ]
     },
     "execution_count": 14,
     "metadata": {},
     "output_type": "execute_result"
    }
   ],
   "source": [
    "import graphviz \n",
    "dot_data = tree.export_graphviz(decision_tree, out_file=None) \n",
    "graph = graphviz.Source(dot_data)\n",
    "graph.render(\"decision_tree_AML\") "
   ]
  },
  {
   "cell_type": "markdown",
   "metadata": {},
   "source": [
    "## Experiment #0: Select pretty 2-D posteriors"
   ]
  },
  {
   "cell_type": "code",
   "execution_count": 15,
   "metadata": {
    "collapsed": false
   },
   "outputs": [
    {
     "name": "stdout",
     "output_type": "stream",
     "text": [
      "CD19\n",
      "CD4\n",
      "CD8\n",
      "CD3\n"
     ]
    }
   ],
   "source": [
    "print table.columns[2]\n",
    "print table.columns[5]\n",
    "print table.columns[6]\n",
    "print table.columns[25]"
   ]
  },
  {
   "cell_type": "code",
   "execution_count": 16,
   "metadata": {
    "collapsed": false
   },
   "outputs": [
    {
     "name": "stdout",
     "output_type": "stream",
     "text": [
      "(1000, 2)\n",
      "[[-0.25232954  4.04016665]\n",
      " [-0.25045594  6.21681658]]\n",
      "                        CD8  CD3\n",
      "Basophils              -1.0   -1\n",
      "CD4 T cells            -1.0    1\n",
      "CD8 T cells             1.0    1\n",
      "CD16- NK cells          0.0   -1\n",
      "CD16+ NK cells          0.0   -1\n",
      "CD34+CD38+CD123- HSPCs -1.0   -1\n",
      "CD34+CD38+CD123+ HSPCs -1.0   -1\n",
      "CD34+CD38lo HSCs       -1.0   -1\n",
      "Mature B cells         -1.0   -1\n",
      "Plasma B cells         -1.0   -1\n",
      "Pre B cells            -1.0   -1\n",
      "Pro B cells            -1.0   -1\n",
      "Monocytes              -1.0   -1\n",
      "pDCs                   -1.0   -1\n",
      "Drawing Chain 0 ...\n",
      "Drawing Chain 5 ...\n",
      "Drawing Chain 10 ...\n",
      "Drawing Chain 15 ...\n",
      "Total number of accepted samples: 333\n",
      "CPU times: user 2min 19s, sys: 318 ms, total: 2min 19s\n",
      "Wall time: 2min 19s\n"
     ]
    }
   ],
   "source": [
    "%%time\n",
    "\n",
    "data_2d = np.hstack([data[:,6][np.newaxis].T, data[:,25][np.newaxis].T])\n",
    "np.random.shuffle(data_2d)\n",
    "data_2d = data_2d[:1000,:]\n",
    "print data_2d.shape\n",
    "\n",
    "x_min, y_min, x_max, y_max = data_2d[:,0].min(), data_2d[:,1].min(), data_2d[:,0].max(), data_2d[:,1].max()\n",
    "theta_space_2d = np.array([[x_min, x_max], [y_min, y_max]])\n",
    "print theta_space_2d\n",
    "\n",
    "table_2d = table[['CD8','CD3']]\n",
    "print table_2d\n",
    "\n",
    "n_mcmc_chain = 20\n",
    "n_mcmc_sample = 1000\n",
    "mcmc_gaussin_std = 0.1 # tune step size s.t. acceptance rate ~50%\n",
    "\n",
    "accepts = [[] for _ in range(n_mcmc_chain)]\n",
    "rejects = [[] for _ in range(n_mcmc_chain)]\n",
    "\n",
    "\n",
    "for chain in range(n_mcmc_chain):\n",
    "    \n",
    "    if chain % 5 == 0:\n",
    "        print \"Drawing Chain %d ...\" % chain\n",
    "    \n",
    "    sample = draw_informed_Mondrian(theta_space_2d, table_2d)\n",
    "    log_p_sample = comp_log_p_sample(sample, data_2d) + \\\n",
    "                     comp_log_p_prior(sample, table_2d, [1 for _ in range(table_2d.shape[1])])\n",
    "    \n",
    "    accepts[chain].append(sample)\n",
    "    \n",
    "    for idx in xrange(n_mcmc_sample):\n",
    "        \n",
    "        new_sample = Mondrian_Gaussian_perturbation(theta_space_2d,sample, mcmc_gaussin_std)\n",
    "\n",
    "        # perform accept-reject step\n",
    "        new_log_p_sample = comp_log_p_sample(new_sample, data_2d) + \\\n",
    "                            comp_log_p_prior(new_sample, table_2d, [1 for _ in range(table_2d.shape[1])])\n",
    "        \n",
    "        if new_log_p_sample <  log_p_sample and \\\n",
    "            np.log(np.random.uniform(low=0, high=1.)) > new_log_p_sample - log_p_sample:\n",
    "                rejects[chain].append(new_sample)\n",
    "        \n",
    "        else:\n",
    "            sample = new_sample\n",
    "            log_p_sample = new_log_p_sample\n",
    "            accepts[chain].append(sample)\n",
    "        \n",
    "\n",
    "        if (idx+1) % 10000 == 0 and (chain+1) % 1 == 0:\n",
    "            print \"Iteration %d, cummulative accepted sample size is %d\" %(idx+1, len(accepts[chain]))\n",
    "\n",
    "print \"Total number of accepted samples: %d\" %(sum([len(accepts[chain]) for chain in range(n_mcmc_chain)]))"
   ]
  },
  {
   "cell_type": "code",
   "execution_count": 17,
   "metadata": {
    "collapsed": false
   },
   "outputs": [
    {
     "data": {
      "image/png": "[encoded data removed]",
      "text/plain": [
       "<matplotlib.figure.Figure at 0x2f277510>"
      ]
     },
     "metadata": {},
     "output_type": "display_data"
    },
    {
     "data": {
      "image/png": "[encoded data removed]",
      "text/plain": [
       "<matplotlib.figure.Figure at 0xdff0fd0>"
      ]
     },
     "metadata": {},
     "output_type": "display_data"
    }
   ],
   "source": [
    "### VISUALIZE 2D MONDRIAN PROCESS ###\n",
    "def print_partitions(p, trans_level=1., color='k'):\n",
    "    if not p[1] and not p[2]: \n",
    "        plt.plot([p[0][0,0], p[0][0,0]], [p[0][1,0], p[0][1,1]], color+'-', linewidth=3, alpha=trans_level)\n",
    "        plt.plot([p[0][0,1], p[0][0,1]], [p[0][1,0], p[0][1,1]], color+'-', linewidth=3, alpha=trans_level)\n",
    "        plt.plot([p[0][0,0], p[0][0,1]], [p[0][1,0], p[0][1,0]], color+'-', linewidth=3, alpha=trans_level)\n",
    "        plt.plot([p[0][0,0], p[0][0,1]], [p[0][1,1], p[0][1,1]], color+'-', linewidth=3, alpha=trans_level)\n",
    "    \n",
    "    else:\n",
    "        print_partitions(p[1], trans_level, color)\n",
    "        print_partitions(p[2], trans_level, color)\n",
    "        \n",
    "        \n",
    "### VISUALIZE 2D POSTERIOR WITH DATA###\n",
    "def print_posterior(data, samples, trans_level=.05, color='k'):\n",
    "\n",
    "    plt.figure()\n",
    "    plt.scatter(data[:,0], data[:,1], c='k', edgecolors='k', s=10, alpha=.2)\n",
    "\n",
    "    #print all samples\n",
    "    for sample in samples:\n",
    "        print_partitions(sample, trans_level, color)\n",
    "        \n",
    "# print prior\n",
    "burnt_accepts = [_ for chain in accepts for _ in chain[0:1]]\n",
    "print_posterior(data_2d, burnt_accepts, trans_level=.2, color='b')\n",
    "\n",
    "plt.xlabel(\"CD8\")\n",
    "plt.ylabel(\"CD3\")\n",
    "plt.title(\"Mondrian Process Prior Samples\")\n",
    "\n",
    "plt.xlim([x_min, x_max])\n",
    "plt.ylim([y_min, y_max])\n",
    "plt.show()\n",
    "\n",
    "\n",
    "# print posterior\n",
    "burnt_accepts = [_ for chain in accepts for _ in chain[-2:]]\n",
    "print_posterior(data_2d, burnt_accepts, trans_level=.1, color='b')\n",
    "\n",
    "plt.xlabel(\"CD8\")\n",
    "plt.ylabel(\"CD3\")\n",
    "#plt.title(\"Mondrian Process Posterior Samples\")\n",
    "\n",
    "plt.xlim([x_min, x_max])\n",
    "plt.ylim([y_min, y_max])\n",
    "plt.show()"
   ]
  },
  {
   "cell_type": "code",
   "execution_count": 45,
   "metadata": {
    "collapsed": false
   },
   "outputs": [
    {
     "name": "stdout",
     "output_type": "stream",
     "text": [
      "(1000, 2)\n",
      "[[-0.25311958  2.28528269]\n",
      " [-0.25201928  6.02917541]]\n",
      "                        CD4  CD3\n",
      "Basophils               0.0   -1\n",
      "CD4 T cells             1.0    1\n",
      "CD8 T cells            -1.0    1\n",
      "CD16- NK cells          0.0   -1\n",
      "CD16+ NK cells          0.0   -1\n",
      "CD34+CD38+CD123- HSPCs  0.0   -1\n",
      "CD34+CD38+CD123+ HSPCs  0.0   -1\n",
      "CD34+CD38lo HSCs        0.0   -1\n",
      "Mature B cells          0.0   -1\n",
      "Plasma B cells          0.0   -1\n",
      "Pre B cells             0.0   -1\n",
      "Pro B cells             0.0   -1\n",
      "Monocytes               0.0   -1\n",
      "pDCs                    0.0   -1\n",
      "Drawing Chain 0 ...\n",
      "Drawing Chain 5 ...\n",
      "Drawing Chain 10 ...\n",
      "Drawing Chain 15 ...\n",
      "Drawing Chain 20 ...\n",
      "Drawing Chain 25 ...\n",
      "Drawing Chain 30 ...\n",
      "Drawing Chain 35 ...\n",
      "Drawing Chain 40 ...\n",
      "Drawing Chain 45 ...\n",
      "Drawing Chain 50 ...\n",
      "Drawing Chain 55 ...\n",
      "Drawing Chain 60 ...\n",
      "Drawing Chain 65 ...\n",
      "Drawing Chain 70 ...\n",
      "Drawing Chain 75 ...\n",
      "Drawing Chain 80 ...\n",
      "Drawing Chain 85 ...\n",
      "Drawing Chain 90 ...\n",
      "Drawing Chain 95 ...\n",
      "Total number of accepted samples: 1387\n",
      "CPU times: user 49.6 s, sys: 124 ms, total: 49.7 s\n",
      "Wall time: 49.7 s\n"
     ]
    }
   ],
   "source": [
    "%%time\n",
    "\n",
    "data_2d = np.hstack([data[:,5][np.newaxis].T, data[:,25][np.newaxis].T])\n",
    "np.random.shuffle(data_2d)\n",
    "data_2d = data_2d[:1000,:]\n",
    "print data_2d.shape\n",
    "\n",
    "x_min, y_min, x_max, y_max = data_2d[:,0].min(), data_2d[:,1].min(), data_2d[:,0].max(), data_2d[:,1].max()\n",
    "theta_space_2d = np.array([[x_min, x_max], [y_min, y_max]])\n",
    "print theta_space_2d\n",
    "\n",
    "table_2d = table[['CD4','CD3']]\n",
    "print table_2d\n",
    "\n",
    "n_mcmc_chain = 100\n",
    "n_mcmc_sample = 100\n",
    "mcmc_gaussin_std = 0.1 # tune step size s.t. acceptance rate ~50%\n",
    "\n",
    "accepts = [[] for _ in range(n_mcmc_chain)]\n",
    "rejects = [[] for _ in range(n_mcmc_chain)]\n",
    "\n",
    "\n",
    "for chain in range(n_mcmc_chain):\n",
    "    \n",
    "    if chain % 5 == 0:\n",
    "        print \"Drawing Chain %d ...\" % chain\n",
    "    \n",
    "    sample = draw_informed_Mondrian(theta_space_2d, table_2d)\n",
    "    log_p_sample = comp_log_p_sample(sample, data_2d) + \\\n",
    "                     comp_log_p_prior(sample, table_2d, [1 for _ in range(table_2d.shape[1])])\n",
    "    \n",
    "    accepts[chain].append(sample)\n",
    "    \n",
    "    for idx in xrange(n_mcmc_sample):\n",
    "        \n",
    "        new_sample = Mondrian_Gaussian_perturbation(theta_space_2d,sample, mcmc_gaussin_std)\n",
    "\n",
    "        # perform accept-reject step\n",
    "        new_log_p_sample = comp_log_p_sample(new_sample, data_2d) + \\\n",
    "                            comp_log_p_prior(new_sample, table_2d, [1 for _ in range(table_2d.shape[1])])\n",
    "        \n",
    "        if new_log_p_sample <  log_p_sample and \\\n",
    "            np.log(np.random.uniform(low=0, high=1.)) > new_log_p_sample - log_p_sample:\n",
    "                rejects[chain].append(new_sample)\n",
    "        \n",
    "        else:\n",
    "            sample = new_sample\n",
    "            log_p_sample = new_log_p_sample\n",
    "            accepts[chain].append(sample)\n",
    "        \n",
    "\n",
    "        if (idx+1) % 10000 == 0 and (chain+1) % 1 == 0:\n",
    "            print \"Iteration %d, cummulative accepted sample size is %d\" %(idx+1, len(accepts[chain]))\n",
    "\n",
    "print \"Total number of accepted samples: %d\" %(sum([len(accepts[chain]) for chain in range(n_mcmc_chain)]))\n"
   ]
  },
  {
   "cell_type": "code",
   "execution_count": 47,
   "metadata": {
    "collapsed": false
   },
   "outputs": [
    {
     "data": {
      "image/png": "[encoded data removed]",
      "text/plain": [
       "<matplotlib.figure.Figure at 0x2dd69590>"
      ]
     },
     "metadata": {},
     "output_type": "display_data"
    },
    {
     "data": {
      "image/png": "[encoded data removed]",
      "text/plain": [
       "<matplotlib.figure.Figure at 0x59ca8d0>"
      ]
     },
     "metadata": {},
     "output_type": "display_data"
    }
   ],
   "source": [
    "### VISUALIZE 2D MONDRIAN PROCESS ###\n",
    "def print_partitions(p, trans_level=1., color='k'):\n",
    "    if not p[1] and not p[2]: \n",
    "        plt.plot([p[0][0,0], p[0][0,0]], [p[0][1,0], p[0][1,1]], color+'-', linewidth=3, alpha=trans_level)\n",
    "        plt.plot([p[0][0,1], p[0][0,1]], [p[0][1,0], p[0][1,1]], color+'-', linewidth=3, alpha=trans_level)\n",
    "        plt.plot([p[0][0,0], p[0][0,1]], [p[0][1,0], p[0][1,0]], color+'-', linewidth=3, alpha=trans_level)\n",
    "        plt.plot([p[0][0,0], p[0][0,1]], [p[0][1,1], p[0][1,1]], color+'-', linewidth=3, alpha=trans_level)\n",
    "    \n",
    "    else:\n",
    "        print_partitions(p[1], trans_level, color)\n",
    "        print_partitions(p[2], trans_level, color)\n",
    "        \n",
    "        \n",
    "### VISUALIZE 2D POSTERIOR WITH DATA###\n",
    "def print_posterior(data, samples, trans_level=.05, color='k'):\n",
    "\n",
    "    plt.figure()\n",
    "    plt.scatter(data[:,0], data[:,1], c='k', edgecolors='k', s=10, alpha=.3)\n",
    "\n",
    "    #print all samples\n",
    "    for sample in samples:\n",
    "        print_partitions(sample, trans_level, color)\n",
    "\n",
    "# print prior\n",
    "burnt_accepts = [_ for chain in accepts for _ in chain[0:1]]\n",
    "print_posterior(data_2d, burnt_accepts, trans_level=.1, color='b')\n",
    "\n",
    "plt.xlabel(\"CD4\")\n",
    "plt.ylabel(\"CD3\")\n",
    "plt.title(\"Mondrian Process Prior Samples\")\n",
    "\n",
    "plt.xlim([x_min, x_max])\n",
    "plt.ylim([y_min, y_max])\n",
    "plt.show()\n",
    "\n",
    "\n",
    "# print posterior\n",
    "burnt_accepts = [_ for chain in accepts for _ in chain[-1:]]\n",
    "print_posterior(data_2d, burnt_accepts, trans_level=.05, color='b')\n",
    "\n",
    "# plt.xlabel(\"CD4\")\n",
    "# plt.ylabel(\"CD3\")\n",
    "#plt.title(\"Mondrian Process Posterior Samples\")\n",
    "\n",
    "plt.xlim([x_min, x_max])\n",
    "plt.ylim([y_min, y_max])\n",
    "plt.show()\n"
   ]
  },
  {
   "cell_type": "code",
   "execution_count": 48,
   "metadata": {
    "collapsed": false
   },
   "outputs": [
    {
     "name": "stdout",
     "output_type": "stream",
     "text": [
      "100\n",
      "{0: 2, 1: 98}\n",
      "dimension of CD4: 2.538402261456195\n",
      "dimension of CD3: 6.281194696224246\n",
      "0.4041273012890494\n"
     ]
    }
   ],
   "source": [
    "# COMPUTE THE NUMBER OF TREES WHOSE FIRST CUT IS ON CD3\n",
    "\n",
    "first_cut_counter = dict()\n",
    "first_cut_counter[0] = 0\n",
    "first_cut_counter[1] = 0\n",
    "\n",
    "print len(burnt_accepts)\n",
    "for tree in burnt_accepts:\n",
    "    root_rec = tree[0]\n",
    "    left_rec = tree[1][0]\n",
    "    for _ in range(2):\n",
    "        if root_rec[_,1] != left_rec[_,1]:\n",
    "            break\n",
    "    d, pos = _, left_rec[_,1]\n",
    "    first_cut_counter[d] += 1\n",
    "print first_cut_counter\n",
    "\n",
    "\n",
    "dim1 = theta_space_2d[0][1] - theta_space_2d[0][0]\n",
    "dim2 = theta_space_2d[1][1] - theta_space_2d[1][0]\n",
    "print \"dimension of CD4:\", dim1\n",
    "print \"dimension of CD3:\", dim2\n",
    "print dim1/dim2"
   ]
  },
  {
   "cell_type": "markdown",
   "metadata": {},
   "source": [
    "## Experiment #1: 2D Simulation\n",
    "\n",
    "Let's now test out the idea on a 2D subset of the data: the *CD4* and *CD8* features."
   ]
  },
  {
   "cell_type": "code",
   "execution_count": null,
   "metadata": {
    "collapsed": false
   },
   "outputs": [],
   "source": [
    "data_2d = np.hstack([data[:,5][np.newaxis].T, data[:,6][np.newaxis].T])\n",
    "np.random.shuffle(data_2d)\n",
    "data_2d = data_2d[:1000,:]\n",
    "print data_2d.shape\n",
    "\n",
    "x_min, y_min, x_max, y_max = data_2d[:,0].min(), data_2d[:,1].min(), data_2d[:,0].max(), data_2d[:,1].max()\n",
    "theta_space_2d = np.array([[x_min, x_max], [y_min, y_max]])\n",
    "print theta_space_2d\n",
    "\n",
    "table_2d = table[['CD4','CD8']]"
   ]
  },
  {
   "cell_type": "code",
   "execution_count": null,
   "metadata": {
    "collapsed": false,
    "scrolled": false
   },
   "outputs": [],
   "source": [
    "# test perturbation function\n",
    "sample = draw_informed_Mondrian(theta_space_2d, table_2d)\n",
    "plt.scatter(data_2d[:,0], data_2d[:,1], c='k', edgecolors='k', s=10, alpha=.5)\n",
    "print_partitions(sample)\n",
    "plt.show()\n",
    "\n",
    "\n",
    "stepsize = 0.1\n",
    "propose_sample = Mondrian_Gaussian_perturbation(theta_space_2d, sample, stepsize)\n",
    "\n",
    "plt.scatter(data_2d[:,0], data_2d[:,1], c='k', edgecolors='k', s=10, alpha=.5)\n",
    "print_partitions(propose_sample)\n",
    "plt.show()"
   ]
  },
  {
   "cell_type": "markdown",
   "metadata": {},
   "source": [
    "Now run MCMC to collect posterior samples..."
   ]
  },
  {
   "cell_type": "code",
   "execution_count": null,
   "metadata": {
    "collapsed": false,
    "scrolled": true
   },
   "outputs": [],
   "source": [
    "%%time\n",
    "\n",
    "n_mcmc_chain = 5\n",
    "n_mcmc_sample = 10000\n",
    "mcmc_gaussin_std = 0.005 # tune step size s.t. acceptance rate ~50%\n",
    "\n",
    "accepts = [[] for _ in range(n_mcmc_chain)]\n",
    "rejects = [[] for _ in range(n_mcmc_chain)]\n",
    "\n",
    "\n",
    "for chain in range(n_mcmc_chain):\n",
    "    \n",
    "    if chain % 5 == 0:\n",
    "        print \"Drawing Chain %d ...\" % chain\n",
    "    \n",
    "    sample = draw_informed_Mondrian(theta_space_2d, table_2d)\n",
    "    log_p_sample = comp_log_p_sample(sample, data_2d) + \\\n",
    "                     comp_log_p_prior(sample, table_2d, [1 for _ in range(table_2d.shape[1])])\n",
    "    \n",
    "    accepts[chain].append(sample)\n",
    "    \n",
    "    for idx in xrange(n_mcmc_sample):\n",
    "        \n",
    "        new_sample = Mondrian_Gaussian_perturbation(theta_space_2d,sample, mcmc_gaussin_std)\n",
    "\n",
    "        # perform accept-reject step\n",
    "        new_log_p_sample = comp_log_p_sample(new_sample, data_2d) + \\\n",
    "                            comp_log_p_prior(new_sample, table_2d, [1 for _ in range(table_2d.shape[1])])\n",
    "        \n",
    "        if new_log_p_sample <  log_p_sample and \\\n",
    "            np.log(np.random.uniform(low=0, high=1.)) > new_log_p_sample - log_p_sample:\n",
    "                rejects[chain].append(new_sample)\n",
    "        \n",
    "        else:\n",
    "            sample = new_sample\n",
    "            log_p_sample = new_log_p_sample\n",
    "            accepts[chain].append(sample)\n",
    "        \n",
    "\n",
    "        if (idx+1) % 10000 == 0 and (chain+1) % 1 == 0:\n",
    "            print \"Iteration %d, cummulative accepted sample size is %d\" %(idx+1, len(accepts[chain]))\n",
    "\n",
    "print \"Total number of accepted samples: %d\" %(sum([len(accepts[chain]) for chain in range(n_mcmc_chain)]))"
   ]
  },
  {
   "cell_type": "code",
   "execution_count": null,
   "metadata": {
    "collapsed": true
   },
   "outputs": [],
   "source": [
    "# get an average model\n",
    "burnt_accepts = np.array([_ for chain in accepts for _ in chain[len(chain)*10/11:]])"
   ]
  },
  {
   "cell_type": "code",
   "execution_count": null,
   "metadata": {
    "collapsed": false,
    "scrolled": true
   },
   "outputs": [],
   "source": [
    "#### plt.figure()\n",
    "\n",
    "np.random.shuffle(burnt_accepts)\n",
    "print_posterior(data_2d, burnt_accepts[:100], trans_level=.005, color='b')\n",
    "\n",
    "plt.xlabel(\"CD4\")\n",
    "plt.ylabel(\"CD8\")\n",
    "plt.title(\"Mondrian Process Posterior Samples\")\n",
    "\n",
    "plt.xlim([x_min, x_max])\n",
    "plt.ylim([y_min, y_max])\n",
    "plt.show()"
   ]
  },
  {
   "cell_type": "code",
   "execution_count": null,
   "metadata": {
    "collapsed": false,
    "scrolled": false
   },
   "outputs": [],
   "source": [
    "#### plt.figure()\n",
    "\n",
    "\n",
    "print_posterior(data_2d, accepts[0][:50], trans_level=.05, color='b')\n",
    "\n",
    "plt.xlabel(\"CD4\")\n",
    "plt.ylabel(\"CD8\")\n",
    "plt.title(\"Mondrian Process Posterior Samples, Chain 0, first 100 acceped samples\")\n",
    "\n",
    "plt.xlim([x_min, x_max])\n",
    "plt.ylim([y_min, y_max])\n",
    "plt.show()\n",
    "\n",
    "\n",
    "\n",
    "print_posterior(data_2d, accepts[0][-50:], trans_level=.05, color='b')\n",
    "\n",
    "plt.xlabel(\"CD4\")\n",
    "plt.ylabel(\"CD8\")\n",
    "plt.title(\"Mondrian Process Posterior Samples, Chain 0, last 100 acceped samples\")\n",
    "\n",
    "plt.xlim([x_min, x_max])\n",
    "plt.ylim([y_min, y_max])\n",
    "plt.show()"
   ]
  },
  {
   "cell_type": "code",
   "execution_count": null,
   "metadata": {
    "collapsed": false,
    "scrolled": false
   },
   "outputs": [],
   "source": [
    "#### plt.figure()\n",
    "\n",
    "print_posterior(data_2d, accepts[1][:50], trans_level=.05, color='b')\n",
    "\n",
    "plt.xlabel(\"CD4\")\n",
    "plt.ylabel(\"CD8\")\n",
    "plt.title(\"Mondrian Process Posterior Samples, Chain 2, first 150 acceped samples\")\n",
    "\n",
    "plt.xlim([x_min, x_max])\n",
    "plt.ylim([y_min, y_max])\n",
    "plt.show()\n",
    "\n",
    "\n",
    "print_posterior(data_2d, accepts[1][-50:], trans_level=.05, color='b')\n",
    "\n",
    "plt.xlabel(\"CD4\")\n",
    "plt.ylabel(\"CD8\")\n",
    "plt.title(\"Mondrian Process Posterior Samples, Chain 2, last 100 acceped samples\")\n",
    "\n",
    "plt.xlim([x_min, x_max])\n",
    "plt.ylim([y_min, y_max])\n",
    "plt.show()"
   ]
  },
  {
   "cell_type": "markdown",
   "metadata": {},
   "source": [
    "## Experiment #2: subset AML data, 3 chains  "
   ]
  },
  {
   "cell_type": "code",
   "execution_count": null,
   "metadata": {
    "collapsed": false
   },
   "outputs": [],
   "source": [
    "from sklearn.utils import shuffle\n",
    "\n",
    "N = 10000\n",
    "new_df = shuffle(df)[:N]\n",
    "X_subset = new_df[channels].values\n",
    "Y_subset = np.array([cell_type_name2idx[_] for _ in new_df.cell_type])\n",
    "# X_subset = df[channels].values\n",
    "# Y_subset = np.array([cell_type_name2idx[_] for _ in df.cell_type])\n",
    "data_subset = np.arcsinh((X_subset-1.)/5.)\n",
    "N, d = data_subset.shape\n",
    "print N,d\n",
    "\n",
    "# rename table header 'HLA-DR' to 'HLADR' to prevent error from '-'\n",
    "temp_headers = list(table)\n",
    "temp_headers[29] = \"HLADR\"\n",
    "table.columns = temp_headers\n",
    "print table.columns\n",
    "\n",
    "emp_bounds = np.array([(data_subset[:,i].min(), data_subset[:,i].max()) for i in range(d)])"
   ]
  },
  {
   "cell_type": "code",
   "execution_count": null,
   "metadata": {
    "collapsed": false,
    "scrolled": true
   },
   "outputs": [],
   "source": [
    "%%time\n",
    "\n",
    "n_mcmc_chain = 10\n",
    "n_mcmc_sample = 5000\n",
    "\n",
    "accepts = [[] for _ in range(n_mcmc_chain)]\n",
    "rejects = [[] for _ in range(n_mcmc_chain)]\n",
    "logl_accepted_trace = [[] for _ in range(n_mcmc_chain)]\n",
    "logl_complete_trace = [[] for _ in range(n_mcmc_chain)]\n",
    "Y_predict_accepted_trace = [[] for _ in range(n_mcmc_chain)]\n",
    "accuracy_accepted_trace = [[] for _ in range(n_mcmc_chain)]\n",
    "\n",
    "\n",
    "for chain in range(n_mcmc_chain):\n",
    "    mcmc_gaussin_std = 0.1 # tune step size s.t. acceptance rate ~50%\n",
    "    print \"Drawing Chain %d ...\" % chain\n",
    "    \n",
    "    sample = draw_informed_Mondrian(emp_bounds, table)\n",
    "    log_p_sample = comp_log_p_sample(sample, data_subset)\n",
    "    \n",
    "    accepts[chain].append(sample)\n",
    "    logl_accepted_trace[chain].append(log_p_sample)\n",
    "    logl_complete_trace[chain].append(log_p_sample)\n",
    "\n",
    "    \n",
    "    Y_predict = classify_cells(data_subset, sample, table, cell_type_name2idx)\n",
    "    accuracy = sum(Y_subset == Y_predict)*1.0/ data_subset.shape[0]\n",
    "    accuracy_accepted_trace[chain].append(accuracy)\n",
    "    Y_predict_accepted_trace[chain].append(Y_predict)\n",
    "    \n",
    "    for idx in range(n_mcmc_sample):\n",
    "        \n",
    "        if idx % (n_mcmc_sample / 10) == 0:\n",
    "            mcmc_gaussin_std /= 2\n",
    "        \n",
    "        new_sample = Mondrian_Gaussian_perturbation(emp_bounds,sample, mcmc_gaussin_std)\n",
    "        new_log_p_sample = comp_log_p_sample(new_sample, data_subset) \n",
    "        logl_complete_trace[chain].append(new_log_p_sample)\n",
    "        \n",
    "        if new_log_p_sample <  log_p_sample and \\\n",
    "            np.log(np.random.uniform(low=0, high=1.)) > (new_log_p_sample - log_p_sample):\n",
    "                rejects[chain].append(new_sample)\n",
    "        \n",
    "        else:\n",
    "            if new_log_p_sample <  log_p_sample:\n",
    "                print \"accepted some bad samples\"\n",
    "                \n",
    "            sample = new_sample\n",
    "            log_p_sample = new_log_p_sample\n",
    "            accepts[chain].append(sample)\n",
    "            logl_accepted_trace[chain].append(log_p_sample)\n",
    "        \n",
    "            Y_predict = classify_cells(data_subset, sample, table, cell_type_name2idx)\n",
    "            accuracy = sum(Y_subset == Y_predict)*1.0/ data_subset.shape[0]\n",
    "            accuracy_accepted_trace[chain].append(accuracy)\n",
    "            Y_predict_accepted_trace[chain].append(Y_predict)\n",
    "        \n",
    "        if (idx+1) % 500 == 0:\n",
    "            print \"Iteration %d, cummulative accepted sample size is %d\" %(idx+1, len(accepts[chain]))\n",
    "            \n",
    "    \n",
    "    if (chain + 1) % 1 == 0:\n",
    "        # prediction and visualization\n",
    "        Y_predict = classify_cells(data_subset, accepts[chain][-1], table, cell_type_name2idx)\n",
    "        accuracy = sum(Y_subset == Y_predict)*1.0/ data_subset.shape[0]\n",
    "        print \"Chain % d accuracy on subset data: %.3f\" % (chain+1,accuracy)\n",
    "\n",
    "            \n",
    "print \"Total number of accepted samples: %d\" %(sum([len(accepts[chain]) for chain in range(n_mcmc_chain)]))\n",
    "# 3 chain, 5000 samples"
   ]
  },
  {
   "cell_type": "markdown",
   "metadata": {},
   "source": [
    "### Visualize hierarchical histograms"
   ]
  },
  {
   "cell_type": "code",
   "execution_count": null,
   "metadata": {
    "collapsed": false
   },
   "outputs": [],
   "source": [
    "# generte tree structures for visualization\n",
    "def find_cuts(list_of_mp_trees):\n",
    "    if len(list_of_mp_trees) == 0:\n",
    "        return None\n",
    "    mp_tree = list_of_mp_trees[0]\n",
    "    if mp_tree[1] == None and mp_tree[2] == None: \n",
    "        return None\n",
    "    \n",
    "    # find the dimension and location of first cut\n",
    "    root_rec = mp_tree[0]\n",
    "    left_rec = mp_tree[1][0]\n",
    "    \n",
    "    for _ in range(root_rec.shape[0]):\n",
    "        if root_rec[_,1] != left_rec[_,1]:\n",
    "            break\n",
    "    d, pos = _, left_rec[_,1]\n",
    "    \n",
    "    first_cut = [d]+[mp_tree[1][0][d,1] for mp_tree in list_of_mp_trees]\n",
    "    \n",
    "    list_of_left_mp_trees = [mp_tree[1] for mp_tree in list_of_mp_trees]\n",
    "    list_of_right_mp_trees = [mp_tree[2] for mp_tree in list_of_mp_trees]\n",
    "    \n",
    "    return [first_cut, find_cuts(list_of_left_mp_trees),find_cuts(list_of_right_mp_trees)]\n",
    "\n",
    "def split_data_by_MP(mp_tree, data):\n",
    "    if mp_tree[1] == None and mp_tree[2] == None:\n",
    "        return [data,None, None]\n",
    "    \n",
    "    # find the dimension and location of first cut\n",
    "    root_rec = mp_tree[0]\n",
    "    left_rec = mp_tree[1][0]\n",
    "    \n",
    "    for _ in range(root_rec.shape[0]):\n",
    "        if root_rec[_,1] != left_rec[_,1]:\n",
    "            break\n",
    "    d, pos = _, left_rec[_,1]    \n",
    "    \n",
    "    data_left = data[data[:,d] < pos]\n",
    "    data_right = data[data[:,d] >= pos]\n",
    "    \n",
    "    return [data,split_data_by_MP(mp_tree[1], data_left),split_data_by_MP(mp_tree[2], data_right)]\n",
    "    \n",
    "def print_cuts_on_hist(tree_tructured_data, theta_space_cuts, node_pos, table):\n",
    "    from scipy.stats import gaussian_kde\n",
    "    \n",
    "    if tree_tructured_data == None:\n",
    "        return\n",
    "    depth = len(node_pos)\n",
    "    cuts = theta_space_cuts\n",
    "    data_leaf = tree_tructured_data\n",
    "    for _ in node_pos:\n",
    "        _ = int(_)\n",
    "        data_leaf = data_leaf[_]\n",
    "\n",
    "    for _ in node_pos:\n",
    "        _ = int(_)\n",
    "        cuts = cuts[_]\n",
    "        if cuts == None:\n",
    "            print \"leaf node\"\n",
    "            print \"size of cell type:,\", data_leaf.shape\n",
    "            return\n",
    "        \n",
    "    dim = cuts[0]\n",
    "    list_pos = cuts[1:]\n",
    "    \n",
    "    print data_leaf.shape\n",
    "    \n",
    "    # plot histogram    \n",
    "    n, b, patches = plt.hist(data_leaf[:,dim], bins=30, \\\n",
    "                             alpha = 0.75, label=table.columns[dim],color = '#0343DF')\n",
    "    plt.legend(loc='upper right',prop={'size': 20})\n",
    "    \n",
    "    plt.yscale('log')\n",
    "    plt.xticks(fontsize=20)\n",
    "    plt.yticks(fontsize=20)\n",
    "    \n",
    "    # plot cuts\n",
    "    for pos in list_pos:\n",
    "        plt.plot([pos,pos],[0,n.max()],color='red',linewidth = 5,alpha= 0.1)\n",
    "    plt.show()\n",
    "    return"
   ]
  },
  {
   "cell_type": "code",
   "execution_count": null,
   "metadata": {
    "collapsed": false,
    "scrolled": true
   },
   "outputs": [],
   "source": [
    "# X_fullset = df[channels].values\n",
    "# Y_fullset = np.array([cell_type_name2idx[_] for _ in df.cell_type])\n",
    "# data_fullset = np.arcsinh((X_fullset-1.)/5.)\n",
    "\n",
    "\n",
    "max_logl_chains =  [sum(_[-1:]) for _ in logl_accepted_trace]\n",
    "optimal_chain = accepts[max_logl_chains.index(max(max_logl_chains))][-3:]\n",
    "\n",
    "#optimal_chain = accepts[2][-3:]\n",
    "\n",
    "optimal_chain = [accepts[7][-1]]\n",
    "theta_space_cuts = find_cuts(optimal_chain)\n",
    "\n",
    "#'0','10','20','110','120',''1110','1120','11110',\n",
    "#'111110','111120', '1111210'\n",
    "# '11112110',,'11112120'\n",
    "#'0','10','20','110','120','1110','1120','1210','11110','11120','12120','111120','111210','111220'\n",
    "node_pos_list = ['0','10','20','110','120','210','1110','1120','11110','111110','111120', '1111210','11112110','11112120']\n",
    "tree_tructured_data = split_data_by_MP(optimal_chain[-1], data_fullset)\n",
    "for node_pos in node_pos_list:\n",
    "    print node_pos\n",
    "    print_cuts_on_hist(tree_tructured_data,theta_space_cuts,node_pos,table)"
   ]
  },
  {
   "cell_type": "code",
   "execution_count": null,
   "metadata": {
    "collapsed": false,
    "scrolled": true
   },
   "outputs": [],
   "source": [
    "n_mcmc_sample = 5000\n",
    "mcmc_gaussin_std = 0.005\n",
    "\n",
    "  \n",
    "sample = accepts_append[-1]\n",
    "log_p_sample = comp_log_p_sample(sample, data_fullset)\n",
    "\n",
    "for idx in range(n_mcmc_sample):\n",
    "\n",
    "    if idx % (n_mcmc_sample / 10) == 0:\n",
    "        mcmc_gaussin_std /= 2\n",
    "\n",
    "    new_sample = Mondrian_Gaussian_perturbation(emp_bounds,sample, mcmc_gaussin_std)\n",
    "    new_log_p_sample = comp_log_p_sample(new_sample, data_fullset) \n",
    "    logl_complete_trace[chain].append(new_log_p_sample)\n",
    "\n",
    "    if new_log_p_sample <  log_p_sample and \\\n",
    "        np.log(np.random.uniform(low=0, high=1.)) > (new_log_p_sample - log_p_sample):\n",
    "            rejects_append.append(new_sample)\n",
    "\n",
    "    else:\n",
    "        if new_log_p_sample <  log_p_sample:\n",
    "            print \"accepted some bad samples\"\n",
    "\n",
    "        sample = new_sample\n",
    "        log_p_sample = new_log_p_sample\n",
    "        accepts_append.append(sample)\n",
    "\n",
    "    if (idx+1) % 500 == 0:\n",
    "        print \"Iteration %d, cummulative accepted sample size is %d\" %(idx+1, len(accepts_append))"
   ]
  },
  {
   "cell_type": "code",
   "execution_count": null,
   "metadata": {
    "collapsed": false,
    "scrolled": true
   },
   "outputs": [],
   "source": [
    "optimal_chain = accepts_append[-100:]\n",
    "#optimal_chain = accepts[7][-100:]\n",
    "theta_space_cuts = find_cuts(optimal_chain)\n",
    "\n",
    "#'0','10','20','110','120',''1110','1120','11110',\n",
    "#'111110','111120', '1111210'\n",
    "# '11112110',,'11112120'\n",
    "#'0','10','20','110','120','1110','1120','1210','11110','11120','12120','111120','111210','111220'\n",
    "node_pos_list = ['0','10','20','110','120','210','1110','1120','11110','111110','111120', '1111210','11112110','11112120']\n",
    "tree_tructured_data = split_data_by_MP(optimal_chain[-1], data_fullset)\n",
    "for node_pos in node_pos_list:\n",
    "    print node_pos\n",
    "    print_cuts_on_hist(tree_tructured_data,theta_space_cuts,node_pos,table)\n",
    "\n",
    "Y_predict = classify_cells(data_subset, optimal_chain[-1], table, cell_type_name2idx)\n",
    "accuracy = sum(Y_subset == Y_predict)*1.0/ data_subset.shape[0]\n",
    "print \"Chain % d accuracy on subset data: %.3f\" % (chain+1,accuracy)"
   ]
  },
  {
   "cell_type": "code",
   "execution_count": null,
   "metadata": {
    "collapsed": false
   },
   "outputs": [],
   "source": [
    "import matplotlib.style\n",
    "import matplotlib as mpl\n",
    "plt.rcParams.update(plt.rcParamsDefault)"
   ]
  },
  {
   "cell_type": "code",
   "execution_count": null,
   "metadata": {
    "collapsed": false,
    "scrolled": true
   },
   "outputs": [],
   "source": [
    "optimal_chain = accepts_append[-100:]\n",
    "#optimal_chain = accepts[7][-100:]\n",
    "theta_space_cuts = find_cuts(optimal_chain)\n",
    "\n",
    "#'0','10','20','110','120',''1110','1120','11110',\n",
    "#'111110','111120', '1111210'\n",
    "# '11112110',,'11112120'\n",
    "#'0','10','20','110','120','1110','1120','1210','11110','11120','12120','111120','111210','111220'\n",
    "node_pos_list = ['0','10','20','110','120','210','1110','1120','11110','111110','111120', '1111210','11112110','11112120']\n",
    "tree_tructured_data = split_data_by_MP(optimal_chain[-1], data_fullset)\n",
    "for node_pos in node_pos_list:\n",
    "    print node_pos\n",
    "    print_cuts_on_hist(tree_tructured_data,theta_space_cuts,node_pos,table)\n",
    "\n",
    "Y_predict = classify_cells(data_subset, optimal_chain[-1], table, cell_type_name2idx)\n",
    "accuracy = sum(Y_subset == Y_predict)*1.0/ data_subset.shape[0]\n",
    "print \"Chain % d accuracy on subset data: %.3f\" % (chain+1,accuracy)"
   ]
  },
  {
   "cell_type": "code",
   "execution_count": null,
   "metadata": {
    "collapsed": false
   },
   "outputs": [],
   "source": [
    "PATH_SAMPLES = \"/home/disij/projects/sandbox/fc_mondrian/output/AML_optimal_chain_for_visualize\"\n",
    "def write_chains_to_file(accepts, PATH):\n",
    "    \"\"\"\n",
    "    accepts: a list of lists of MP trees\n",
    "    PATH: directory to write the samples to\n",
    "    \n",
    "    each sample is written to a pickle file\n",
    "    \"\"\"\n",
    "    \n",
    "    ### remove previous files in the path if the directory exists, otherwise create a new empty directory\n",
    "    if os.path.exists(PATH):\n",
    "        files = [ f for f in os.listdir(PATH) if f.endswith(\".pkl\") ]\n",
    "        for f in files:\n",
    "            os.remove(PATH + '/' + f)\n",
    "    else:\n",
    "        os.makedirs(PATH)\n",
    "        \n",
    "    n_mcmc_chain = len(accepts)\n",
    "    \n",
    "    for i in range(n_mcmc_chain):\n",
    "        for j in range(len(accepts[i])):\n",
    "            filename = '%s/chain_%d_id_%d.pkl' %(PATH,i,j)\n",
    "            with open(filename, \"wb\") as fp:\n",
    "                pickle.dump(accepts[i][j], fp)   \n",
    "write_chains_to_file([optimal_chain], PATH_SAMPLES)"
   ]
  },
  {
   "cell_type": "code",
   "execution_count": null,
   "metadata": {
    "collapsed": true
   },
   "outputs": [],
   "source": [
    "%%time\n",
    "\n",
    "n_mcmc_sample = 5000\n",
    "\n",
    "\n",
    "mcmc_gaussin_std = 0.1 # tune step size s.t. acceptance rate ~50%\n",
    "print \"Drawing Chain %d ...\" % chain\n",
    "\n",
    "sample = draw_informed_Mondrian(emp_bounds, table)\n",
    "log_p_sample = comp_log_p_sample(sample, data_subset)\n",
    "\n",
    "accepts[chain].append(sample)\n",
    "logl_accepted_trace[chain].append(log_p_sample)\n",
    "logl_complete_trace[chain].append(log_p_sample)\n",
    "\n",
    "\n",
    "Y_predict = classify_cells(data_subset, sample, table, cell_type_name2idx)\n",
    "accuracy = sum(Y_subset == Y_predict)*1.0/ data_subset.shape[0]\n",
    "accuracy_accepted_trace[chain].append(accuracy)\n",
    "Y_predict_accepted_trace[chain].append(Y_predict)\n",
    "\n",
    "for idx in range(n_mcmc_sample):\n",
    "\n",
    "    if idx % (n_mcmc_sample / 10) == 0:\n",
    "        mcmc_gaussin_std /= 2\n",
    "\n",
    "    new_sample = Mondrian_Gaussian_perturbation(emp_bounds,sample, mcmc_gaussin_std)\n",
    "    new_log_p_sample = comp_log_p_sample(new_sample, data_subset) \n",
    "    logl_complete_trace[chain].append(new_log_p_sample)\n",
    "\n",
    "    if new_log_p_sample <  log_p_sample and \\\n",
    "        np.log(np.random.uniform(low=0, high=1.)) > (new_log_p_sample - log_p_sample):\n",
    "            rejects[chain].append(new_sample)\n",
    "\n",
    "    else:\n",
    "        if new_log_p_sample <  log_p_sample:\n",
    "            print \"accepted some bad samples\"\n",
    "\n",
    "        sample = new_sample\n",
    "        log_p_sample = new_log_p_sample\n",
    "        accepts[chain].append(sample)\n",
    "        logl_accepted_trace[chain].append(log_p_sample)\n",
    "\n",
    "        Y_predict = classify_cells(data_subset, sample, table, cell_type_name2idx)\n",
    "        accuracy = sum(Y_subset == Y_predict)*1.0/ data_subset.shape[0]\n",
    "        accuracy_accepted_trace[chain].append(accuracy)\n",
    "        Y_predict_accepted_trace[chain].append(Y_predict)\n",
    "\n",
    "    if (idx+1) % 500 == 0:\n",
    "        print \"Iteration %d, cummulative accepted sample size is %d\" %(idx+1, len(accepts[chain]))\n",
    "\n",
    "\n",
    "# prediction and visualization\n",
    "Y_predict = classify_cells(data_subset, accepts[chain][-1], table, cell_type_name2idx)\n",
    "accuracy = sum(Y_subset == Y_predict)*1.0/ data_subset.shape[0]\n",
    "print \"Chain % d accuracy on subset data: %.3f\" % (chain+1,accuracy)\n",
    "\n",
    "\n",
    "print \"Total number of accepted samples: %d\" %(sum([len(accepts[chain]) for chain in range(n_mcmc_chain)]))\n",
    "# 3 chain, 5000 samples"
   ]
  },
  {
   "cell_type": "code",
   "execution_count": null,
   "metadata": {
    "collapsed": false
   },
   "outputs": [],
   "source": [
    "node_pos_list = ['210','220','1220','11210','11220','12110','111110',\\\n",
    "                 '121210','121220','1111210','1111220','1112110','1112120',\\\n",
    "                 '1112210','1112220']\n",
    "tree_tructured_data = split_data_by_MP(optimal_chain[-1], data_subset)\n",
    "for node_pos in node_pos_list:\n",
    "    print_cuts_on_hist(tree_tructured_data,theta_space_cuts,node_pos,table)"
   ]
  },
  {
   "cell_type": "code",
   "execution_count": null,
   "metadata": {
    "collapsed": false,
    "scrolled": true
   },
   "outputs": [],
   "source": [
    "def query_table(table,list_of_condition):\n",
    "    if len(list_of_condition) == 0:\n",
    "        return table\n",
    "    \n",
    "    dim, label = list_of_condition[0]\n",
    "    if label == 1:\n",
    "        table = table[table[dim] >= 0]\n",
    "    else:\n",
    "        table = table[table[dim] <= 0]\n",
    "        \n",
    "    return query_table(table, list_of_condition[1:])\n",
    "\n",
    "conditions  = [['CD3',1],['CD4', -1]]\n",
    "print query_table(table, conditions).index\n",
    "conditions  = [['CD3',1],['CD4', 1]]\n",
    "print query_table(table, conditions).index\n",
    "conditions  = [['CD3',-1],['CD34', 1],['CD123',1]]\n",
    "print query_table(table, conditions).index\n",
    "conditions  = [['CD3',-1],['CD34', -1],['CD123',1],['HLADR',-1]]\n",
    "print query_table(table, conditions).index\n",
    "conditions  = [['CD3',-1],['CD34', -1],['CD123',1],['HLADR',1]]\n",
    "print query_table(table, conditions).index\n",
    "conditions  = [['CD3',-1],['CD34', 1],['CD123',-1],['CD38',-1]]\n",
    "print query_table(table, conditions).index\n",
    "conditions = [['CD3',-1],['CD34',-1],['CD123',-1],['CD19',-1],['CD7',-1]]\n",
    "print query_table(table, conditions).index\n",
    "conditions  = [['CD3',-1],['CD34', 1],['CD123',-1],['CD38',1],['CD19',-1]]\n",
    "print query_table(table, conditions).index\n",
    "conditions  = [['CD3',-1],['CD34', 1],['CD123',-1],['CD38',1],['CD19',1]]\n",
    "print query_table(table, conditions).index\n",
    "conditions = [['CD3',-1],['CD34',-1],['CD123',-1],['CD19',-1],['CD7',1],['CD16',-1]]\n",
    "print query_table(table, conditions).index\n",
    "conditions = [['CD3',-1],['CD34',-1],['CD123',-1],['CD19',-1],['CD7',1],['CD16',-1]]\n",
    "print query_table(table, conditions).index\n",
    "conditions  = [['CD3',-1],['CD34',-1],['CD123',-1],['CD19',1],['HLADR',-1],['CD38',-1]]\n",
    "print query_table(table, conditions).index\n",
    "conditions  = [['CD3',-1],['CD34',-1],['CD123',-1],['CD19',1],['HLADR',-1],['CD38',1]]\n",
    "print query_table(table, conditions).index\n",
    "conditions  = [['CD3',-1],['CD34',-1],['CD123',-1],['CD19',1],['HLADR',1],['CD38',-1]]\n",
    "print query_table(table, conditions).index\n",
    "conditions  = [['CD3',-1],['CD34',-1],['CD123',-1],['CD19',1],['HLADR',1],['CD38',1]]\n",
    "print query_table(table, conditions).index\n",
    "\n",
    "\n",
    "print table.loc['CD34+CD38+CD123+ HSPCs']\n",
    "print table"
   ]
  },
  {
   "cell_type": "code",
   "execution_count": null,
   "metadata": {
    "collapsed": false
   },
   "outputs": [],
   "source": [
    "cell_type_name2idx['Pro B cells']\n",
    "len(Y[Y == 11]) * 1.0 / len(Y)"
   ]
  },
  {
   "cell_type": "code",
   "execution_count": null,
   "metadata": {
    "collapsed": false
   },
   "outputs": [],
   "source": [
    "Y_predict = classify_cells(data, accepts_append[0][-3], table, cell_type_name2idx)\n",
    "accuracy = sum(Y == Y_predict)*1.0/ data.shape[0]\n",
    "print \"Accuracy on data: %.3f\" % accuracy\n",
    "\n",
    "bins = table.shape[0]\n",
    "plt.hist(Y, bins, alpha=0.5, label='Y:cell type')\n",
    "plt.hist(Y_predict, bins, alpha=0.5, label='Z:prediction')\n",
    "plt.legend(loc='upper right')\n",
    "plt.show() "
   ]
  },
  {
   "cell_type": "code",
   "execution_count": null,
   "metadata": {
    "collapsed": false,
    "scrolled": false
   },
   "outputs": [],
   "source": [
    "# plot 5 chains\n",
    "\n",
    "threshold = -113888.425449/data.shape[0]*N\n",
    "fig, axs = plt.subplots(5, 3, figsize=(10,10) )\n",
    "for chain in range(5):\n",
    "    axs[chain, 0].plot(logl_complete_trace[chain])\n",
    "    axs[chain, 1].plot(logl_accepted_trace[chain])\n",
    "    axs[chain, 2].plot(accuracy_accepted_trace[chain])\n",
    "    axs[chain, 0].set_title('Trace of likelihood Chain %d, all samples' % chain, fontsize=8)\n",
    "    axs[chain, 1].set_title('Trace of likelihood Chain %d, accepted samples' % chain, fontsize=8)\n",
    "    axs[chain, 2].set_title('Trace of accuracy Chain %d, accepted samples' % chain, fontsize=8)\n",
    "    \n",
    "fig.tight_layout()"
   ]
  },
  {
   "cell_type": "code",
   "execution_count": null,
   "metadata": {
    "collapsed": false
   },
   "outputs": [],
   "source": [
    "print len(accepts)\n",
    "n_mcmc_chain = 1\n",
    "n_mcmc_sample = 10000\n",
    "mcmc_gaussin_std = 0.01 # tune step size s.t. acceptance rate ~50%\n",
    "\n",
    "accepts_temp = [[] for _ in range(n_mcmc_chain)]\n",
    "rejects_temp = [[] for _ in range(n_mcmc_chain)]\n",
    "\n",
    "for chain in range(n_mcmc_chain):\n",
    "    \n",
    "    sample = accepts[28][-1]\n",
    "    log_p_sample = comp_log_p_sample(sample, data_subset)\n",
    "    accepts_temp[chain].append(sample)\n",
    "    \n",
    "    for idx in range(n_mcmc_sample):\n",
    "        \n",
    "        new_sample = Mondrian_Gaussian_perturbation(emp_bounds,sample, mcmc_gaussin_std)\n",
    "        new_log_p_sample = comp_log_p_sample(new_sample, data_subset) \n",
    "        logl_complete_trace[chain].append(new_log_p_sample)\n",
    "        \n",
    "        if new_log_p_sample <  log_p_sample and \\\n",
    "            np.log(np.random.uniform(low=0, high=1.)) > (new_log_p_sample - log_p_sample):\n",
    "                rejects_temp[chain].append(new_sample)\n",
    "        \n",
    "        else:\n",
    "            if new_log_p_sample <  log_p_sample:\n",
    "                print \"accepted some bad samples\"\n",
    "                \n",
    "            sample = new_sample\n",
    "            log_p_sample = new_log_p_sample\n",
    "            accepts_temp[chain].append(sample)\n",
    "        \n",
    "        if (idx+1) % 500 == 0:\n",
    "            print \"Iteration %d, cummulative accepted sample size is %d\" %(idx+1, len(accepts_append[chain]))\n",
    "                        \n",
    "print \"Total number of accepted samples: %d\" %(sum([len(accepts[chain]) for chain in range(n_mcmc_chain)]))\n",
    "# 3 chain, 5000 samples\n",
    "\n",
    "optimal_chain = accepts_temp[0][-1:]\n",
    "theta_space_cuts = find_cuts(optimal_chain)\n",
    "#'0','10','20','110','120','1110','1120','1210','11110','11120','12120','111120','111210','111220'\n",
    "node_pos_list = ['0','10','20']\n",
    "tree_tructured_data = split_data_by_MP(optimal_chain[-1], data_subset)\n",
    "for node_pos in node_pos_list:\n",
    "    print_cuts_on_hist(tree_tructured_data,theta_space_cuts,node_pos,table)"
   ]
  },
  {
   "cell_type": "code",
   "execution_count": null,
   "metadata": {
    "collapsed": false
   },
   "outputs": [],
   "source": [
    "subtable = table[table['CD3']<=0]\n",
    "subtable = subtable[subtable['CD34']>=0]\n",
    "subtable = subtable[subtable['CD123']<=0]\n",
    "subtable = subtable[subtable['CD38']<=0]\n",
    "subtable"
   ]
  },
  {
   "cell_type": "code",
   "execution_count": null,
   "metadata": {
    "collapsed": false
   },
   "outputs": [],
   "source": [
    "print max_logl_chains.index(max(max_logl_chains))"
   ]
  },
  {
   "cell_type": "code",
   "execution_count": null,
   "metadata": {
    "collapsed": false
   },
   "outputs": [],
   "source": [
    "# vote, and compute accuracy\n",
    "\n",
    "threshold = -113888.425449/data.shape[0]*N  - 10000000000\n",
    "# keep that samples whose likelihood is above threshold\n",
    "burnt_samples = []\n",
    "burnt_predictions = []\n",
    "for i in range(len(accepts)):\n",
    "    accepted_chain = accepts[i]\n",
    "    likelihoods = logl_accepted_trace[i]\n",
    "    predictions = Y_predict_accepted_trace[i]\n",
    "    burnt_samples += [accepted_chain[_] for _ in range(len(accepted_chain)) if likelihoods[_] > threshold]\n",
    "    burnt_predictions += [predictions[_] for _ in range(len(accepted_chain)) if likelihoods[_] > threshold]\n",
    "    \n",
    "# vote\n",
    "votes = np.zeros([data_subset.shape[0], table.shape[0]])\n",
    "for Y_predict in burnt_predictions:\n",
    "    for _ in range(len(Y_predict)):\n",
    "        votes[_,Y_predict[_]] += 1\n",
    "\n",
    "Y_predict_majority = np.argmax(votes, axis=1)\n",
    "\n",
    "print votes.sum()\n",
    "\n",
    "accuracy = sum(Y_subset == Y_predict_majority)*1.0/ data_subset.shape[0]\n",
    "print \"Chain % d accuracy on subset data: %.3f\" % (chain+1,accuracy)\n",
    "\n",
    "bins = table.shape[0]\n",
    "plt.hist(Y_subset, bins, alpha=0.5, label='Y:cell type')\n",
    "plt.hist(Y_predict_majority, bins, alpha=0.5, label='Z:prediction')\n",
    "plt.legend(loc='upper right')\n",
    "plt.show() "
   ]
  },
  {
   "cell_type": "code",
   "execution_count": null,
   "metadata": {
    "collapsed": false
   },
   "outputs": [],
   "source": [
    "# emsemble 100 samples from prior\n",
    "\n",
    "# vote\n",
    "votes = np.zeros([data_subset.shape[0], table.shape[0]])\n",
    "\n",
    "for i in range(n_mcmc_chain):\n",
    "    Y_predict = Y_predict_accepted_trace[i][0]\n",
    "    for _ in range(len(Y_predict)):\n",
    "        votes[_,Y_predict[_]] += 1\n",
    "\n",
    "Y_predict_majority = np.argmax(votes, axis=1)\n",
    "\n",
    "print votes.sum()\n",
    "\n",
    "accuracy = sum(Y_subset == Y_predict_majority)*1.0/ data_subset.shape[0]\n",
    "print \"Chain % d accuracy on subset data: %.3f\" % (chain+1,accuracy)\n",
    "\n",
    "bins = table.shape[0]\n",
    "plt.hist(Y_subset, bins, alpha=0.5, label='Y:cell type')\n",
    "plt.hist(Y_predict_majority, bins, alpha=0.5, label='Z:prediction')\n",
    "plt.legend(loc='upper right')\n",
    "plt.show() "
   ]
  },
  {
   "cell_type": "code",
   "execution_count": null,
   "metadata": {
    "collapsed": false
   },
   "outputs": [],
   "source": [
    "L = min(len(_) for _ in accuracy_accepted_trace)\n",
    "res = []\n",
    "for i in range(L):\n",
    "    res.append(np.array([_[i] for _ in accuracy_accepted_trace]).mean())\n",
    "plt.plot(res)"
   ]
  },
  {
   "cell_type": "code",
   "execution_count": null,
   "metadata": {
    "collapsed": false
   },
   "outputs": [],
   "source": [
    "# vote, and compute accuracy\n",
    "\n",
    "threshold = -113888.425449/data.shape[0]*N  - 10000000000\n",
    "# keep that samples whose likelihood is above threshold\n",
    "burnt_samples = []\n",
    "burnt_predictions = []\n",
    "for i in range(len(accepts)):\n",
    "    accepted_chain = accepts[i]\n",
    "    likelihoods = logl_accepted_trace[i]\n",
    "    predictions = Y_predict_accepted_trace[i]\n",
    "    burnt_samples += [accepted_chain[_] for _ in range(22, len(accepted_chain))]\n",
    "    burnt_predictions +=[classify_cells(data_subset, \\\n",
    "                    sample, table, cell_type_name2idx) for sample in burnt_samples[-1]]\n",
    "    \n",
    "# vote\n",
    "votes = np.zeros([data_subset.shape[0], table.shape[0]])\n",
    "for Y_predict in burnt_predictions:\n",
    "    for _ in range(len(Y_predict)):\n",
    "        votes[_,Y_predict[_]] += 1\n",
    "\n",
    "Y_predict_majority = np.argmax(votes, axis=1)\n",
    "\n",
    "print len(burnt_predictions)\n",
    "\n",
    "accuracy = sum(Y_subset == Y_predict_majority)*1.0/ data_subset.shape[0]\n",
    "print \"Chain % d accuracy on subset data: %.3f\" % (chain+1,accuracy)\n",
    "\n",
    "bins = table.shape[0]\n",
    "plt.hist(Y_subset, bins, alpha=0.5, label='Y:cell type')\n",
    "plt.hist(Y_predict_majority, bins, alpha=0.5, label='Z:prediction')\n",
    "plt.legend(loc='upper right')\n",
    "plt.show() "
   ]
  },
  {
   "cell_type": "code",
   "execution_count": null,
   "metadata": {
    "collapsed": false
   },
   "outputs": [],
   "source": [
    "Y_predict = classify_cells(data, optimal_chain[-1], table, cell_type_name2idx)\n",
    "accuracy = sum(Y == Y_predict)*1.0/ data.shape[0]\n",
    "print accuracy\n",
    "\n",
    "\n",
    "correct_table = table.copy()\n",
    "correct_table.at['Mature B cells','CD38'] = -1.0\n",
    "print correct_table.loc['Mature B cells']['CD38']\n",
    "print table.loc['Pre B cells']['CD38']\n",
    "\n",
    "\n",
    "Y_predict = classify_cells(data_subset, optimal_chain[-1], correct_table, cell_type_name2idx)\n",
    "accuracy = sum(Y_subset== Y_predict)*1.0/ data_subset.shape[0]\n",
    "print accuracy"
   ]
  },
  {
   "cell_type": "code",
   "execution_count": null,
   "metadata": {
    "collapsed": false
   },
   "outputs": [],
   "source": [
    "from sklearn.metrics import confusion_matrix\n",
    "\n",
    "def plot_confusion_matrix(cm, classes,\n",
    "                          normalize=False,\n",
    "                          cmap=plt.cm.Blues):\n",
    "    \"\"\"\n",
    "    This function prints and plots the confusion matrix.\n",
    "    Normalization can be applied by setting `normalize=True`.\n",
    "    \"\"\"\n",
    "    if normalize:\n",
    "        cm = cm.astype('float') / cm.sum(axis=1)[:, np.newaxis]\n",
    "        print(\"Normalized confusion matrix\")\n",
    "    else:\n",
    "        print('Confusion matrix, without normalization')\n",
    "\n",
    "    plt.imshow(cm, interpolation='nearest', cmap=cmap)\n",
    "    plt.colorbar()\n",
    "    tick_marks = np.arange(len(classes))\n",
    "    plt.xticks(tick_marks, classes, rotation=90,fontsize =\"13\")\n",
    "    plt.yticks(tick_marks, classes,fontsize =\"13\")\n",
    "\n",
    "    fmt = '.2f' if normalize else 'd'\n",
    "    thresh = cm.max() / 2.\n",
    "#     for i, j in itertools.product(range(cm.shape[0]), range(cm.shape[1])):\n",
    "#         plt.text(j, i, format(cm[i, j], fmt),\n",
    "#                  horizontalalignment=\"center\",\n",
    "#                  color=\"white\" if cm[i, j] > thresh else \"black\")\n",
    "\n",
    "    plt.tight_layout()\n",
    "    plt.ylabel('True label',fontsize =\"16\")\n",
    "    plt.xlabel('Predicted label',fontsize =\"16\")\n",
    "\n",
    "# Compute confusion matrix\n",
    "cnf_matrix = confusion_matrix(Y_subset, Y_predict_majority)\n",
    "class_names = table.index\n",
    "\n",
    "np.set_printoptions(precision=2)\n",
    "\n",
    "# Plot non-normalized confusion matrix\n",
    "# plt.figure()\n",
    "# plot_confusion_matrix(cnf_matrix, classes=class_names,\n",
    "#                       title='Confusion matrix, without normalization')\n",
    "\n",
    "# Plot normalized confusion matrix\n",
    "plt.figure(figsize=(10,8))\n",
    "plot_confusion_matrix(cnf_matrix, classes=class_names, normalize=True)\n",
    "plt.savefig('confusion_matrix.pdf', format='pdf', dpi=1000)\n",
    "plt.show()"
   ]
  },
  {
   "cell_type": "code",
   "execution_count": null,
   "metadata": {
    "collapsed": false
   },
   "outputs": [],
   "source": [
    "from sklearn.manifold import TSNE\n",
    "tsne = TSNE(n_components=2, random_state=1234)\n",
    "Xre = tsne.fit_transform(data_subset)"
   ]
  },
  {
   "cell_type": "code",
   "execution_count": null,
   "metadata": {
    "collapsed": false
   },
   "outputs": [],
   "source": [
    "import matplotlib.pyplot as plt\n",
    "import matplotlib as mpl   \n",
    "import matplotlib.patches as mpatches\n",
    "\n",
    "cmap = mpl.cm.Accent\n",
    "fig = plt.figure(1, figsize=(11, 11))\n",
    "\n",
    "\n",
    "idx2ct = [key for idx, key in enumerate(table.index)]\n",
    "for idx, key in enumerate(idx2ct):\n",
    "    plt.plot(Xre[Y_subset == idx, 0], Xre[Y_subset == idx, 1], '.',\\\n",
    "                 c=cmap(idx / float(len(idx2ct))), label = key, alpha=0.8)\n",
    "       \n",
    "patches = []\n",
    "for idx, key in enumerate(idx2ct):\n",
    "    patches.append(mpatches.Patch(color=cmap(idx / float(len(idx2ct))), label=key))\n",
    "    \n",
    "plt.legend(handles=patches,loc='upper center', bbox_to_anchor=(0.5, -0.05),\\\n",
    "           ncol=3,prop={'size':15})        \n",
    "plt.xticks([])\n",
    "plt.yticks([])\n",
    "plt.savefig('tsne_true.pdf', format='pdf', dpi=1000)"
   ]
  },
  {
   "cell_type": "code",
   "execution_count": null,
   "metadata": {
    "collapsed": false
   },
   "outputs": [],
   "source": [
    "import matplotlib.pyplot as plt\n",
    "import matplotlib as mpl   \n",
    "import matplotlib.patches as mpatches\n",
    "\n",
    "cmap = mpl.cm.Accent\n",
    "fig = plt.figure(1, figsize=(11, 11))\n",
    "\n",
    "\n",
    "idx2ct = [key for idx, key in enumerate(table.index)]\n",
    "for idx, key in enumerate(idx2ct):\n",
    "    plt.plot(Xre[Y_predict == idx, 0], Xre[Y_predict == idx, 1], '.',\\\n",
    "                 c=cmap(idx / float(len(idx2ct))), label = key, alpha=0.8)\n",
    "       \n",
    "patches = []\n",
    "for idx, key in enumerate(idx2ct):\n",
    "    patches.append(mpatches.Patch(color=cmap(idx / float(len(idx2ct))), label=key))\n",
    "    \n",
    "plt.legend(handles=patches,loc='upper center', bbox_to_anchor=(0.5, -0.05),\\\n",
    "           ncol=3,prop={'size':15})        \n",
    "plt.xticks([])\n",
    "plt.yticks([])\n",
    "plt.savefig('tsne_predict.pdf', format='pdf', dpi=1000)"
   ]
  },
  {
   "cell_type": "code",
   "execution_count": null,
   "metadata": {
    "collapsed": false
   },
   "outputs": [],
   "source": [
    "print set(Y_predict),Y_predict.shape\n",
    "print Y_subset.shape"
   ]
  },
  {
   "cell_type": "code",
   "execution_count": null,
   "metadata": {
    "collapsed": false
   },
   "outputs": [],
   "source": [
    "print len(accepts_append)"
   ]
  },
  {
   "cell_type": "code",
   "execution_count": null,
   "metadata": {
    "collapsed": true
   },
   "outputs": [],
   "source": [
    "for i in range(n_mcmc_chain):\n",
    "    for j in range(len(accepts[i])):\n",
    "        filename = 'AMML_accepted_samples/chain_%d_id_%d.pkl' %(i,j)\n",
    "        with open(filename, \"wb\") as fp:\n",
    "            pickle.dump(accepts[i][j], fp)        "
   ]
  }
 ],
 "metadata": {
  "kernelspec": {
   "display_name": "Python 2",
   "language": "python",
   "name": "python2"
  },
  "language_info": {
   "codemirror_mode": {
    "name": "ipython",
    "version": 2
   },
   "file_extension": ".py",
   "mimetype": "text/x-python",
   "name": "python",
   "nbconvert_exporter": "python",
   "pygments_lexer": "ipython2",
   "version": "2.7.5"
  }
 },
 "nbformat": 4,
 "nbformat_minor": 1
}
