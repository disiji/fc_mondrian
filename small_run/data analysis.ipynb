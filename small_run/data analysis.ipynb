{
 "cells": [
  {
   "cell_type": "code",
   "execution_count": 1,
   "metadata": {
    "collapsed": true
   },
   "outputs": [],
   "source": [
    "import os\n",
    "import sys\n",
    "import glob\n",
    "import matplotlib.pyplot as plt\n",
    "import numpy as np\n",
    "import pandas as pd\n",
    "from sklearn.mixture import GaussianMixture\n",
    "from sklearn.neighbors.kde import KernelDensity\n",
    "\n",
    "%matplotlib inline\n",
    "plt.style.use('ggplot')\n",
    "np.random.seed(1234)"
   ]
  },
  {
   "cell_type": "code",
   "execution_count": 2,
   "metadata": {
    "collapsed": true
   },
   "outputs": [],
   "source": [
    "PATH = '/home/disij/projects/acdc/data/'"
   ]
  },
  {
   "cell_type": "code",
   "execution_count": 3,
   "metadata": {
    "collapsed": false
   },
   "outputs": [],
   "source": [
    "# load BMMC data and table\n",
    "##### X: np.array, flow cytometry data, arcsin transformed\n",
    "##### T: table of expert knowledge\n",
    "\n",
    "channels = ['CD45','CD45RA', 'CD19', 'CD11b', 'CD4', 'CD8', 'CD34',\n",
    "           'CD20', 'CD33', 'CD123', 'CD38', 'CD90', 'CD3']\n",
    "\n",
    "path = PATH + 'BMMC_benchmark/'\n",
    "df = pd.read_csv(path + 'BMMC_benchmark.csv.gz', sep=',', header = 0, compression = 'gzip')\n",
    "## discard ungated events\n",
    "df = df[df.cell_type != 'NotGated']\n",
    "\n",
    "df[channels]= np.arcsinh((df[channels].values-1.)/5.)"
   ]
  },
  {
   "cell_type": "code",
   "execution_count": 4,
   "metadata": {
    "collapsed": false
   },
   "outputs": [
    {
     "name": "stdout",
     "output_type": "stream",
     "text": [
      "not separable:\n",
      "                CD45RA  CD133  CD19  CD22  CD11b  CD4  CD8  CD34  Flt3  CD20  \\\n",
      "Mature B cells     0.0    0.0     1   0.0    0.0  0.0 -1.0    -1   0.0   0.0   \n",
      "Pre B cells        0.0    0.0     1   0.0    0.0  0.0 -1.0    -1   0.0   0.0   \n",
      "\n",
      "                ...   CD44  CD38  CD13  CD3  CD61  CD117  CD49d  HLA-DR  CD64  \\\n",
      "Mature B cells  ...    0.0   0.0   0.0   -1   0.0    0.0    0.0     0.0   0.0   \n",
      "Pre B cells     ...    0.0   1.0   0.0   -1   0.0    0.0    0.0     1.0  -1.0   \n",
      "\n",
      "                CD41  \n",
      "Mature B cells   0.0  \n",
      "Pre B cells      0.0  \n",
      "\n",
      "[2 rows x 32 columns]\n",
      "not separable:\n",
      "                CD45RA  CD133  CD19  CD22  CD11b  CD4  CD8  CD34  Flt3  CD20  \\\n",
      "Mature B cells     0.0    0.0     1   0.0    0.0  0.0 -1.0    -1   0.0   0.0   \n",
      "Plasma B cells     0.0    0.0     1   0.0    0.0  0.0 -1.0    -1   0.0   0.0   \n",
      "\n",
      "                ...   CD44  CD38  CD13  CD3  CD61  CD117  CD49d  HLA-DR  CD64  \\\n",
      "Mature B cells  ...    0.0   0.0   0.0   -1   0.0    0.0    0.0     0.0   0.0   \n",
      "Plasma B cells  ...    0.0   1.0   0.0   -1   0.0    0.0    0.0    -1.0   0.0   \n",
      "\n",
      "                CD41  \n",
      "Mature B cells   0.0  \n",
      "Plasma B cells   0.0  \n",
      "\n",
      "[2 rows x 32 columns]\n",
      "22\n",
      "(19, 13)\n",
      "not separable:\n",
      "             CD45  CD45RA  CD19  CD11b  CD4  CD8  CD34  CD20  CD33  CD123  \\\n",
      "Pre-B I       0.0     0.0     1    0.0   -1   -1   1.0  -1.0    -1    0.0   \n",
      "Plasma cell   0.0     0.0     1    0.0   -1   -1   0.0  -1.0    -1    0.0   \n",
      "\n",
      "             CD38  CD90  CD3  \n",
      "Pre-B I       1.0   0.0   -1  \n",
      "Plasma cell   1.0   0.0   -1  \n",
      "not separable:\n",
      "             CD45  CD45RA  CD19  CD11b  CD4  CD8  CD34  CD20  CD33  CD123  \\\n",
      "Pre-B II      0.0     0.0     1    0.0   -1   -1  -1.0  -1.0    -1    0.0   \n",
      "Plasma cell   0.0     0.0     1    0.0   -1   -1   0.0  -1.0    -1    0.0   \n",
      "\n",
      "             CD38  CD90  CD3  \n",
      "Pre-B II      1.0   0.0   -1  \n",
      "Plasma cell   1.0   0.0   -1  \n",
      "not separable:\n",
      "     CD45  CD45RA  CD19  CD11b  CD4  CD8  CD34  CD20  CD33  CD123  CD38  CD90  \\\n",
      "NK    1.0     1.0    -1    0.0   -1   -1   0.0   0.0    -1    0.0   1.0   0.0   \n",
      "GMP   0.0     1.0    -1    0.0   -1   -1   1.0   0.0    -1   -1.0   1.0   0.0   \n",
      "\n",
      "     CD3  \n",
      "NK    -1  \n",
      "GMP   -1  \n",
      "not separable:\n",
      "                 CD45  CD45RA  CD19  CD11b  CD4  CD8  CD34  CD20  CD33  CD123  \\\n",
      "NK                1.0     1.0    -1    0.0   -1   -1   0.0   0.0    -1    0.0   \n",
      "Plasmacytoid DC   1.0     1.0    -1    0.0   -1   -1  -1.0   0.0    -1    1.0   \n",
      "\n",
      "                 CD38  CD90  CD3  \n",
      "NK                1.0   0.0   -1  \n",
      "Plasmacytoid DC   1.0   0.0   -1  \n",
      "not separable:\n",
      "     CD45  CD45RA  CD19  CD11b  CD4  CD8  CD34  CD20  CD33  CD123  CD38  CD90  \\\n",
      "NK    1.0     1.0    -1    0.0   -1   -1   0.0   0.0    -1    0.0   1.0   0.0   \n",
      "GMP   0.0     1.0    -1    0.0   -1   -1   1.0   0.0    -1   -1.0   1.0   0.0   \n",
      "\n",
      "     CD3  \n",
      "NK    -1  \n",
      "GMP   -1  \n",
      "not separable:\n",
      "                 CD45  CD45RA  CD19  CD11b  CD4  CD8  CD34  CD20  CD33  CD123  \\\n",
      "NK                1.0     1.0    -1    0.0   -1   -1   0.0   0.0    -1    0.0   \n",
      "Plasmacytoid DC   1.0     1.0    -1    0.0   -1   -1  -1.0   0.0    -1    1.0   \n",
      "\n",
      "                 CD38  CD90  CD3  \n",
      "NK                1.0   0.0   -1  \n",
      "Plasmacytoid DC   1.0   0.0   -1  \n",
      "not separable:\n",
      "             CD45  CD45RA  CD19  CD11b  CD4  CD8  CD34  CD20  CD33  CD123  \\\n",
      "Pre-B I       0.0     0.0     1    0.0   -1   -1   1.0  -1.0    -1    0.0   \n",
      "Plasma cell   0.0     0.0     1    0.0   -1   -1   0.0  -1.0    -1    0.0   \n",
      "\n",
      "             CD38  CD90  CD3  \n",
      "Pre-B I       1.0   0.0   -1  \n",
      "Plasma cell   1.0   0.0   -1  \n",
      "not separable:\n",
      "             CD45  CD45RA  CD19  CD11b  CD4  CD8  CD34  CD20  CD33  CD123  \\\n",
      "Pre-B II      0.0     0.0     1    0.0   -1   -1  -1.0  -1.0    -1    0.0   \n",
      "Plasma cell   0.0     0.0     1    0.0   -1   -1   0.0  -1.0    -1    0.0   \n",
      "\n",
      "             CD38  CD90  CD3  \n",
      "Pre-B II      1.0   0.0   -1  \n",
      "Plasma cell   1.0   0.0   -1  \n",
      "37\n"
     ]
    }
   ],
   "source": [
    "# test whether a table is splitable\n",
    "def split_table(table):\n",
    "    if table.shape[0] == 1:\n",
    "        return True\n",
    "    for d in range(len(table.columns)):\n",
    "        prior_type_str = ' '.join([str(int(x)) for x in sorted(set(table[table.columns[d]]))])\n",
    "        if prior_type_str == '-1 1' or prior_type_str == '-1 0 1':\n",
    "            return split_table(table.loc[table[table.columns[d]] == 1]) & \\\n",
    "                    split_table(table.loc[table[table.columns[d]] == -1])\n",
    "    return False\n",
    "\n",
    "\n",
    "def count_node(table):\n",
    "    if table.shape[0] == 1:\n",
    "        return 0\n",
    "    \n",
    "    for marker in table.columns:\n",
    "        prior_type_str = ' '.join([str(int(x)) for x in sorted(set(table[marker]))])\n",
    "        if prior_type_str in ['-1 0 1','-1 1']:\n",
    "            return count_node(table.loc[table[marker] != -1]) + \\\n",
    "                    count_node(table.loc[table[marker] != 1]) + 1\n",
    "\n",
    "    print \"not separable:\\n\", table\n",
    "    return 0\n",
    "    \n",
    "path = PATH + 'AML_benchmark/'\n",
    "AML_table = pd.read_csv(path + 'AML_table.csv', sep=',', header=0, index_col=0)\n",
    "AML_table = AML_table.fillna(0)\n",
    "split_table(AML_table)\n",
    "print count_node(AML_table)\n",
    "\n",
    "path = PATH + 'BMMC_benchmark/'\n",
    "BMMC_table = pd.read_csv(path + 'BMMC_table.csv', sep=',', header=0, index_col=0)\n",
    "BMMC_table = BMMC_table.fillna(0)\n",
    "print BMMC_table.shape\n",
    "split_table(BMMC_table)\n",
    "print count_node(BMMC_table)"
   ]
  },
  {
   "cell_type": "code",
   "execution_count": 4,
   "metadata": {
    "collapsed": false
   },
   "outputs": [
    {
     "name": "stdout",
     "output_type": "stream",
     "text": [
      "240 994 468\n"
     ]
    }
   ],
   "source": [
    "PreB1_cells = df[df.cell_type == 'Pre-B I'] # +1 in CD34\n",
    "PreB2_cells = df[df.cell_type == 'Pre-B II'] # -1 in CD34\n",
    "Plasma_cells = df[df.cell_type == 'Plasma cell'] # 0 in CD34\n",
    "\n",
    "print PreB1_cells.shape[0], PreB2_cells.shape[0], Plasma_cells.shape[0]"
   ]
  },
  {
   "cell_type": "code",
   "execution_count": 5,
   "metadata": {
    "collapsed": false
   },
   "outputs": [
    {
     "data": {
      "image/png": "[encoded data removed]",
      "text/plain": [
       "<matplotlib.figure.Figure at 0x7f2c75831750>"
      ]
     },
     "metadata": {},
     "output_type": "display_data"
    }
   ],
   "source": [
    "f, (ax1, ax2, ax3) = plt.subplots(3, sharex='col', sharey='row',figsize = (10,10))\n",
    "ax1.hist(PreB1_cells['CD34'], color = 'r', alpha = 0.5, bins = 100);\n",
    "ax1.set_title('Histogram of CD45 data, of Pre-B I, Pre-B II, Plasma cell');\n",
    "ax2.hist(PreB2_cells['CD34'], color = 'r', alpha = 0.5, bins = 100);\n",
    "ax3.hist(Plasma_cells['CD34'], color = 'r', alpha = 0.5, bins = 100);"
   ]
  },
  {
   "cell_type": "code",
   "execution_count": null,
   "metadata": {
    "collapsed": true
   },
   "outputs": [],
   "source": [
    "def count_structues(table):\n",
    "    "
   ]
  }
 ],
 "metadata": {
  "kernelspec": {
   "display_name": "Python 2",
   "language": "python",
   "name": "python2"
  },
  "language_info": {
   "codemirror_mode": {
    "name": "ipython",
    "version": 2
   },
   "file_extension": ".py",
   "mimetype": "text/x-python",
   "name": "python",
   "nbconvert_exporter": "python",
   "pygments_lexer": "ipython2",
   "version": "2.7.5"
  }
 },
 "nbformat": 4,
 "nbformat_minor": 0
}
