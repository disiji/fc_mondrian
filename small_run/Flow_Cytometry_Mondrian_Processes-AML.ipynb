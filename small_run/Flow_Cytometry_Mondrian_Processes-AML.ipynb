{
 "cells": [
  {
   "cell_type": "code",
   "execution_count": 1,
   "metadata": {
    "collapsed": false
   },
   "outputs": [],
   "source": [
    "import os\n",
    "import sys\n",
    "import glob\n",
    "import itertools\n",
    "import random\n",
    "\n",
    "from IPython.display import Image\n",
    "\n",
    "import matplotlib\n",
    "import matplotlib.pyplot as plt\n",
    "import matplotlib.mlab as mlab\n",
    "from matplotlib.colors import ListedColormap\n",
    "from scipy.stats import multivariate_normal\n",
    "\n",
    "import numpy as np\n",
    "import pandas as pd\n",
    "from scipy.stats import beta\n",
    "\n",
    "random.seed(1234)\n",
    "\n",
    "%matplotlib inline"
   ]
  },
  {
   "cell_type": "markdown",
   "metadata": {},
   "source": [
    "## Mondrian Processes"
   ]
  },
  {
   "cell_type": "markdown",
   "metadata": {},
   "source": [
    "### Various Functions for Mondrian Processes"
   ]
  },
  {
   "cell_type": "markdown",
   "metadata": {},
   "source": [
    "Sampling..."
   ]
  },
  {
   "cell_type": "code",
   "execution_count": 2,
   "metadata": {
    "collapsed": false
   },
   "outputs": [],
   "source": [
    "### SAMPLE MONDRIAN PROCESS ###\n",
    "def draw_Mondrian(theta_space, budget=5):\n",
    "    return draw_Mondrian_at_t(theta_space, 0, budget)\n",
    "    \n",
    "def draw_Mondrian_at_t(theta_space, t, budget):\n",
    "    dists = theta_space[:,1] - theta_space[:,0]\n",
    "    lin_dim = np.sum(dists)\n",
    "    T = np.random.exponential(scale=1./lin_dim)\n",
    "    \n",
    "    if t+T > budget: \n",
    "        return (theta_space, None, None)\n",
    "    \n",
    "    d = np.argmax(np.random.multinomial(n=1, pvals=dists/lin_dim))\n",
    "    x = np.random.uniform(low=theta_space[d,0], high=theta_space[d,1])\n",
    "    \n",
    "    theta_left = np.copy(theta_space)\n",
    "    theta_left[d][1] = x \n",
    "    M_left = draw_Mondrian_at_t(theta_left, t+T, budget)\n",
    "    \n",
    "    theta_right = np.copy(theta_space)\n",
    "    theta_right[d][0] = x \n",
    "    M_right = draw_Mondrian_at_t(theta_right, t+T, budget)\n",
    "    \n",
    "    return (theta_space, M_left, M_right)\n",
    "\n",
    "def comp_log_p_sample(theta_space, data):\n",
    "    if theta_space[1] == None and theta_space[2] == None:\n",
    "        if data.shape[0] == 0:\n",
    "            return 0\n",
    "        else:\n",
    "            mu = np.mean(data, axis = 0)\n",
    "            residual = data - mu\n",
    "            cov = np.dot(residual.T , residual) / data.shape[0] + np.identity(data.shape[1])*0.001\n",
    "            return np.log(multivariate_normal.pdf(data, mean=mu, cov=cov)).sum()\n",
    "    \n",
    "    # find the dimension and location of first cut\n",
    "    root_rec = theta_space[0]\n",
    "    left_rec = theta_space[1][0]\n",
    "    \n",
    "    for _ in range(root_rec.shape[0]):\n",
    "        if root_rec[_,1] != left_rec[_,1]:\n",
    "            break\n",
    "    \n",
    "    dim, pos = _, left_rec[_,1]\n",
    "    idx_left = data[:,dim] < pos\n",
    "    idx_right = data[:,dim] >= pos\n",
    "    log_len_left =  np.log(pos - root_rec[dim,0])\n",
    "    log_len_right = np.log(root_rec[dim,1] - pos)\n",
    "    return comp_log_p_sample(theta_space[1], data[idx_left]) + comp_log_p_sample(theta_space[2], data[idx_right])"
   ]
  },
  {
   "cell_type": "markdown",
   "metadata": {},
   "source": [
    "Visualization..."
   ]
  },
  {
   "cell_type": "code",
   "execution_count": 3,
   "metadata": {
    "collapsed": false
   },
   "outputs": [],
   "source": [
    "### VISUALIZE 2D MONDRIAN PROCESS ###\n",
    "def print_partitions(p, trans_level=1., color='k'):\n",
    "    if not p[1] and not p[2]: \n",
    "        plt.plot([p[0][0,0], p[0][0,0]], [p[0][1,0], p[0][1,1]], color+'-', linewidth=5, alpha=trans_level)\n",
    "        plt.plot([p[0][0,1], p[0][0,1]], [p[0][1,0], p[0][1,1]], color+'-', linewidth=5, alpha=trans_level)\n",
    "        plt.plot([p[0][0,0], p[0][0,1]], [p[0][1,0], p[0][1,0]], color+'-', linewidth=5, alpha=trans_level)\n",
    "        plt.plot([p[0][0,0], p[0][0,1]], [p[0][1,1], p[0][1,1]], color+'-', linewidth=5, alpha=trans_level)\n",
    "    \n",
    "    else:\n",
    "        print_partitions(p[1], trans_level, color)\n",
    "        print_partitions(p[2], trans_level, color)\n",
    "        \n",
    "        \n",
    "### VISUALIZE 2D POSTERIOR WITH DATA###\n",
    "def print_posterior(data, samples, trans_level=.05, color='k'):\n",
    "\n",
    "    plt.figure()\n",
    "    plt.scatter(data[:,0], data[:,1], c='k', edgecolors='k', s=5, alpha=.5)\n",
    "\n",
    "    #print all samples\n",
    "    for sample in samples:\n",
    "        print_partitions(sample, trans_level, color)\n",
    "        \n",
    "        \n",
    "def print_tree_at_leaf(mp_tree, table):\n",
    "\n",
    "    if mp_tree[1] == None and mp_tree[2] == None: \n",
    "        print table.shape\n",
    "        return 1\n",
    "    \n",
    "    \n",
    "    # find the dimension and location of first cut\n",
    "    root_rec = mp_tree[0]\n",
    "    left_rec = mp_tree[1][0]\n",
    "    \n",
    "    for _ in range(root_rec.shape[0]):\n",
    "        if root_rec[_,1] != left_rec[_,1]:\n",
    "            break\n",
    "    d, pos = _, left_rec[_,1]\n",
    "    \n",
    "    cut_type = ' '.join([str(int(x)) for x in sorted(set(table[table.columns[d]]))]) \n",
    "    \n",
    "    if cut_type in {\"-1 0 1\", '-1 1'}: \n",
    "        idx_table_left = table[table.columns[d]] != 1\n",
    "        table_left = table.loc[idx_table_left]\n",
    "\n",
    "        idx_table_right = table[table.columns[d]] != -1\n",
    "        table_right = table.loc[idx_table_right]\n",
    "    \n",
    "    if cut_type == '-1 0':\n",
    "        idx_table_left = table[table.columns[d]] == -1\n",
    "        table_left = table.loc[idx_table_left]\n",
    "\n",
    "        idx_table_right = table[table.columns[d]] == 0\n",
    "        table_right = table.loc[idx_table_right]\n",
    "        \n",
    "\n",
    "    if cut_type == '0 1':\n",
    "        idx_table_left = table[table.columns[d]] == 0\n",
    "        table_left = table.loc[idx_table_left]\n",
    "\n",
    "        idx_table_right = table[table.columns[d]] == 1\n",
    "        table_right = table.loc[idx_table_right]\n",
    "    \n",
    "    return print_tree_at_leaf(mp_tree[1], table_left) + print_tree_at_leaf(mp_tree[2], table_right)\n"
   ]
  },
  {
   "cell_type": "markdown",
   "metadata": {},
   "source": [
    "## Mondrian Process Generative Model\n",
    "\n",
    "We apply Mondrian Processes (MPs) to flow cytometry data, using the prior information in the table above to guide the axis-aligned cuts.  Instead of uniformly, we draw the cut proportion from $w \\sim \\text{Beta}(a_{0}, b_{0})$. "
   ]
  },
  {
   "cell_type": "markdown",
   "metadata": {},
   "source": [
    "Now let's re-implement the MP sampling function, accounting for the prior information..."
   ]
  },
  {
   "cell_type": "code",
   "execution_count": 4,
   "metadata": {
    "collapsed": true
   },
   "outputs": [],
   "source": [
    "### SAMPLE MONDRIAN PROCESS WITH PRIOR INFORMATION ###\n",
    "def draw_informed_Mondrian(theta_space, table, budget=5):\n",
    "    \n",
    "    # INFORMATIVE PRIORS\n",
    "    upper_cut = (5., 2.)\n",
    "    lower_cut = (2., 5.)\n",
    "    middle_cut = (5., 5.)\n",
    "    neutral_cut = (2., 2.)\n",
    "    priors_dict = { '-1':lower_cut, '0':neutral_cut, '1':upper_cut, \n",
    "                   '-1 0':lower_cut, '-1 1':middle_cut, '0 1':upper_cut,\n",
    "                   '-1 0 1': middle_cut, '': neutral_cut\n",
    "                  }\n",
    "    \n",
    "    cut_history = [1] * theta_space.shape[0]\n",
    "    \n",
    "    return draw_informed_Mondrian_at_t(theta_space, table, priors_dict, cut_history)\n",
    "    \n",
    "\n",
    "def draw_informed_Mondrian_at_t(theta_space, table, priors_dict, cut_history):    \n",
    "    \n",
    "    if sum(cut_history) == 0 or table.shape[0] == 1:\n",
    "        return (theta_space, None, None)\n",
    "\n",
    "    \n",
    "    types_str = [' '.join([str(int(x)) for x in sorted(set(table[table.columns[d]]))]) \n",
    "                 for d in range(table.shape[1])]\n",
    "    \n",
    "    if set([types_str[d] for d in range(table.shape[1]) if cut_history[d] == 1]).issubset({'0','1','-1'}):\n",
    "        return (theta_space, None, None)\n",
    "\n",
    "    \n",
    "    low, medium, high, very_high = 0, 1, 100, 1000\n",
    "    priority_dict = {'-1': low , '0': low, '1': low, \n",
    "                   '-1 0': medium, '0 1': medium,\n",
    "                   '-1 0 1': high, '-1 1':very_high\n",
    "    }    \n",
    "        \n",
    "    types = np.array([priority_dict[_] for _ in types_str])\n",
    "    \n",
    "\n",
    "    dists = (theta_space[:,1] - theta_space[:,0])* types    \n",
    "    lin_dim = np.sum(dists)\n",
    "    # draw dimension to cut\n",
    "    dim_probs = ((dists/lin_dim) * np.array(cut_history)) \n",
    "    dim_probs /= np.sum(dim_probs)\n",
    "    d = np.argmax(np.random.multinomial(n=1, pvals=dim_probs))\n",
    "    cut_history[d] = 0\n",
    "\n",
    "    prior_type_str = ' '.join([str(int(x)) for x in sorted(set(table[table.columns[d]]))])\n",
    "    prior_params = priors_dict[prior_type_str]\n",
    "    \n",
    "    # make scaled cut\n",
    "    x = (theta_space[d,1] - theta_space[d,0]) * np.random.beta(prior_params[0], prior_params[1]) + theta_space[d,0]\n",
    "    \n",
    "    cut_type = types_str[d]\n",
    "    \n",
    "    if cut_type in {\"-1 0 1\", '-1 1'}: \n",
    "        idx_table_left = table[table.columns[d]] != 1\n",
    "        table_left = table.loc[idx_table_left]\n",
    "\n",
    "        idx_table_right = table[table.columns[d]] != -1\n",
    "        table_right = table.loc[idx_table_right]\n",
    "    \n",
    "    if cut_type == '-1 0':\n",
    "        idx_table_left = table[table.columns[d]] == -1\n",
    "        table_left = table.loc[idx_table_left]\n",
    "\n",
    "        idx_table_right = table[table.columns[d]] == 0\n",
    "        table_right = table.loc[idx_table_right]\n",
    "        \n",
    "\n",
    "    if cut_type == '0 1':\n",
    "        idx_table_left = table[table.columns[d]] == 0\n",
    "        table_left = table.loc[idx_table_left]\n",
    "\n",
    "        idx_table_right = table[table.columns[d]] == 1\n",
    "        table_right = table.loc[idx_table_right]\n",
    "\n",
    "    \n",
    "    # make lower partition\n",
    "    theta_left = np.copy(theta_space)\n",
    "    theta_left[d][1] = x\n",
    "    M_left = draw_informed_Mondrian_at_t(theta_left, table_left, priors_dict, list(cut_history))\n",
    "    \n",
    "    # make upper partition\n",
    "    theta_right = np.copy(theta_space)\n",
    "    theta_right[d][0] = x \n",
    "    M_right = draw_informed_Mondrian_at_t(theta_right, table_right, priors_dict,list(cut_history))\n",
    "    \n",
    "    return (theta_space, M_left, M_right)\n",
    "\n",
    "def Mondrian_Gaussian_perturbation(theta_space, old_sample, stepsize):\n",
    "    \"\"\"\n",
    "    Input: \n",
    "    theta_space: a rectangle\n",
    "    old_sample: partioned theta_space of a mondrian process\n",
    "    stepsize: gaussian std\n",
    "    \"\"\"\n",
    "    if old_sample[1] == None and old_sample[2] == None:\n",
    "        return (theta_space, None, None)\n",
    "    \n",
    "    # find the dimension and location of first cut in the old_sample\n",
    "    for _ in range(old_sample[0].shape[0]):\n",
    "        if old_sample[0][_,1] > old_sample[1][0][_,1]:\n",
    "            break    \n",
    "    dim, pos = _, old_sample[1][0][_,1]\n",
    "    # propose position of new cut\n",
    "    good_propose = False\n",
    "    while good_propose == False:\n",
    "        new_pos = pos + np.random.normal(0,(old_sample[0][dim,1] - old_sample[0][dim,0])*stepsize,1)[0]\n",
    "        if new_pos < theta_space[dim,1] and new_pos > theta_space[dim,0]:\n",
    "            good_propose = True\n",
    "    \n",
    "    theta_left = np.copy(theta_space)\n",
    "    theta_left[dim,1] = new_pos\n",
    "    theta_right = np.copy(theta_space)\n",
    "    theta_right[dim,0] = new_pos\n",
    "    \n",
    "    new_M_left= Mondrian_Gaussian_perturbation(theta_left, old_sample[1], stepsize)\n",
    "    new_M_right = Mondrian_Gaussian_perturbation(theta_right, old_sample[2], stepsize)\n",
    "    \n",
    "    return (theta_space, new_M_left, new_M_right)\n",
    "\n",
    "def comp_log_p_prior(theta_space, table, cut_history):\n",
    "    \"\"\"\n",
    "    This function returns prior probability of a Mondrian process theta_space\n",
    "    \"\"\"\n",
    "    if theta_space[1] == None and theta_space[2] == None:\n",
    "        return 0\n",
    "    \n",
    "    log_prior = 0\n",
    "    \n",
    "\n",
    "    # INFORMATIVE PRIORS\n",
    "    upper_cut = (5., 2.)\n",
    "    lower_cut = (2., 5.)\n",
    "    middle_cut = (5., 5.)\n",
    "    neutral_cut = (2., 2.)\n",
    "    priors_dict = { '-1':lower_cut, '0':neutral_cut, '1':upper_cut, \n",
    "                   '-1 0':lower_cut, '-1 1':middle_cut, '0 1':upper_cut,\n",
    "                   '-1 0 1': middle_cut, '': neutral_cut\n",
    "                  }\n",
    "    \n",
    "    \n",
    "    # find the dimension and location of first cut\n",
    "    root_rec = theta_space[0]\n",
    "    left_rec = theta_space[1][0]\n",
    "    \n",
    "    for _ in range(root_rec.shape[0]):\n",
    "        if root_rec[_,1] != left_rec[_,1]:\n",
    "            break\n",
    "    dim  = _\n",
    "    beta_pos =  (left_rec[_,1] - left_rec[dim,0])/(root_rec[dim,1] - root_rec[dim, 0])\n",
    "    \n",
    "    prior_params = priors_dict[' '.join([str(int(x)) \\\n",
    "                                         for x in sorted(set(table[table.columns[dim]]))])]\n",
    "\n",
    "    # compute the log likelihood of the first cut\n",
    "    types_str = [' '.join([str(int(x)) for x in sorted(set(table[table.columns[d]]))]) \n",
    "                 for d in range(table.shape[1])]\n",
    "    \n",
    "    low_priority, medium_priority, high_priority, very_high_priority = 0, 1, 100, 1000\n",
    "    priority_dict = {'-1': low_priority , '0': low_priority, '1': low_priority, \n",
    "                   '-1 0': medium_priority, '0 1': medium_priority,\n",
    "                   '-1 0 1': high_priority, '-1 1':very_high_priority\n",
    "    }    \n",
    "        \n",
    "    types = np.array([priority_dict[_] for _ in types_str])\n",
    "    dists = (root_rec[:,1] - root_rec[:,0])* types    \n",
    "    lin_dim = np.sum(dists)\n",
    "    \n",
    "    # probability of dim\n",
    "    dim_probs = ((dists/lin_dim) * np.array(cut_history)) \n",
    "    dim_probs /= np.sum(dim_probs)\n",
    "    log_prior  += np.log(dim_probs[dim])\n",
    "    \n",
    "    \n",
    "    # probability of pos\n",
    "    log_prior += np.log(beta.pdf(beta_pos, prior_params[0], prior_params[1]))\n",
    "    \n",
    "    # split the table\n",
    "    cut_history[dim] = 0\n",
    "    cut_type = types_str[dim]\n",
    "    \n",
    "    if cut_type in {\"-1 0 1\", '-1 1'}: \n",
    "        idx_table_left = table[table.columns[dim]] != 1\n",
    "        table_left = table.loc[idx_table_left]\n",
    "\n",
    "        idx_table_right = table[table.columns[dim]] != -1\n",
    "        table_right = table.loc[idx_table_right]\n",
    "    \n",
    "    if cut_type == '-1 0':\n",
    "        idx_table_left = table[table.columns[dim]] == -1\n",
    "        table_left = table.loc[idx_table_left]\n",
    "\n",
    "        idx_table_right = table[table.columns[dim]] == 0\n",
    "        table_right = table.loc[idx_table_right]\n",
    "        \n",
    "\n",
    "    if cut_type == '0 1':\n",
    "        idx_table_left = table[table.columns[dim]] == 0\n",
    "        table_left = table.loc[idx_table_left]\n",
    "\n",
    "        idx_table_right = table[table.columns[dim]] == 1\n",
    "        table_right = table.loc[idx_table_right]\n",
    "        \n",
    "        \n",
    "        \n",
    "    return log_prior + comp_log_p_prior(theta_space[1], table_left, list(cut_history)) \\\n",
    "        + comp_log_p_prior(theta_space[2], table_right, list(cut_history))"
   ]
  },
  {
   "cell_type": "markdown",
   "metadata": {},
   "source": [
    "# Classification"
   ]
  },
  {
   "cell_type": "code",
   "execution_count": 5,
   "metadata": {
    "collapsed": true
   },
   "outputs": [],
   "source": [
    "def classify_cells(data, mp_tree, table, cell_type_name2idx):\n",
    "    Y = np.array([1]*data.shape[0])\n",
    "    \n",
    "    if data.shape[0] == 0:\n",
    "        return Y\n",
    "    \n",
    "    if mp_tree[1] == None and mp_tree[2] == None:\n",
    "        if table.shape[0] > 1:\n",
    "#            print \"more than one clusters, number of data points:\", data.shape[0]\n",
    "            labels = [cell_type_name2idx[table.index[_]] for _ in range(table.shape[0])]\n",
    "            return np.array(np.random.choice(labels, data.shape[0],replace = True))\n",
    "        else:\n",
    "            return Y * cell_type_name2idx[table.index[0]]\n",
    "    \n",
    "    \n",
    "    # find the dimension and location of first cut\n",
    "    root_rec = mp_tree[0]\n",
    "    left_rec = mp_tree[1][0]\n",
    "    \n",
    "    for _ in range(root_rec.shape[0]):\n",
    "        if root_rec[_,1] != left_rec[_,1]:\n",
    "            break\n",
    "    dim, pos = _, left_rec[_,1]\n",
    "    \n",
    "    # find labels that match dim info from table\n",
    "    idx_table_left = table[table.columns[dim]] != 1\n",
    "    table_left = table.loc[idx_table_left]\n",
    "\n",
    "    idx_table_right = table[table.columns[dim]] != -1\n",
    "    table_right = table.loc[idx_table_right]\n",
    "    \n",
    "    # find data INDICIES that go high / low on cut position in dimension dim\n",
    "    idx_left = data[:,dim]  < pos\n",
    "    idx_right = data[:,dim]  >= pos\n",
    "    \n",
    "    Y[idx_left] = classify_cells(data[idx_left],mp_tree[1],table_left, cell_type_name2idx)\n",
    "    Y[idx_right] = classify_cells(data[idx_right],mp_tree[2],table_right, cell_type_name2idx)\n",
    "\n",
    "    return Y"
   ]
  },
  {
   "cell_type": "markdown",
   "metadata": {},
   "source": [
    "## Flow Cytometry Data\n",
    "\n",
    "Load AML dataset from [ACDC paper](https://www.ncbi.nlm.nih.gov/pmc/articles/PMC5447237/pdf/btx054.pdf)..."
   ]
  },
  {
   "cell_type": "code",
   "execution_count": 7,
   "metadata": {
    "collapsed": false
   },
   "outputs": [
    {
     "name": "stdout",
     "output_type": "stream",
     "text": [
      "(14, 32)\n"
     ]
    }
   ],
   "source": [
    "# load AML data and table\n",
    "##### X: np.array, flow cytometry data, arcsin transformed\n",
    "##### T: table of expert knowledge\n",
    "\n",
    "np.random.seed(1234)\n",
    "PATH = '/home/disij/projects/acdc/data/'\n",
    "\n",
    "### LOAD DATA ###\n",
    "path = PATH + 'AML_benchmark/'\n",
    "df = pd.read_csv( path + 'AML_benchmark.csv.gz', sep=',', header = 0, compression = 'gzip', engine='python')\n",
    "table = pd.read_csv(path + 'AML_table.csv', sep=',', header=0, index_col=0)\n",
    "print table.shape\n",
    "\n",
    "### PROCESS: discard ungated events ###\n",
    "df = df[df.cell_type != 'NotGated']\n",
    "df = df.drop(['Time', 'Cell_length','file_number', 'event_number', 'DNA1(Ir191)Di',\n",
    "              'DNA2(Ir193)Di', 'Viability(Pt195)Di', 'subject'], axis = 1)\n",
    "channels = [item[:item.find('(')] for item in df.columns[:-1]]\n",
    "df.columns = channels + ['cell_type']\n",
    "df = df.loc[df['cell_type'] != 'NotDebrisSinglets']\n",
    "\n",
    "table = table.fillna(0)\n",
    "X = df[channels].values\n",
    "table_headers = list(table)\n",
    "# df2 = pd.DataFrame([[0]*table.shape[1]], columns=table.columns, index =['unknown'])\n",
    "# table = table.append(df2)\n",
    "\n",
    "### transform data\n",
    "#data = np.arcsinh((X-1.)/5.)\n",
    "data = X\n",
    "theta_space = np.array([[data[:,d].min(), data[:,d].max()] for d in range(data.shape[1])])\n",
    "\n",
    "\n",
    "cell_type_name2idx = {x:i for i,x in enumerate(table.index)}\n",
    "Y = np.array([cell_type_name2idx[_] for _ in df.cell_type])"
   ]
  },
  {
   "cell_type": "code",
   "execution_count": 12,
   "metadata": {
    "collapsed": false
   },
   "outputs": [
    {
     "name": "stdout",
     "output_type": "stream",
     "text": [
      "104184 32\n",
      "Index([u'CD45RA', u'CD133', u'CD19', u'CD22', u'CD11b', u'CD4', u'CD8',\n",
      "       u'CD34', u'Flt3', u'CD20', u'CXCR4', u'CD235ab', u'CD45', u'CD123',\n",
      "       u'CD321', u'CD14', u'CD33', u'CD47', u'CD11c', u'CD7', u'CD15', u'CD16',\n",
      "       u'CD44', u'CD38', u'CD13', u'CD3', u'CD61', u'CD117', u'CD49d',\n",
      "       u'HLADR', u'CD64', u'CD41'],\n",
      "      dtype='object')\n"
     ]
    }
   ],
   "source": [
    "from sklearn.utils import shuffle\n",
    "\n",
    "N = data.shape[0]\n",
    "new_df = shuffle(df)[:N]\n",
    "X_subset = new_df[channels].values\n",
    "data_subset = np.arcsinh((X_subset-1.)/5.)\n",
    "Y_subset = np.array([cell_type_name2idx[_] for _ in new_df.cell_type])\n",
    "N, d = data_subset.shape\n",
    "print N,d\n",
    "\n",
    "# rename table header 'HLA-DR' to 'HLADR' to prevent error from '-'\n",
    "temp_headers = list(table)\n",
    "temp_headers[29] = \"HLADR\"\n",
    "table.columns = temp_headers\n",
    "print table.columns\n",
    "\n",
    "emp_bounds = np.array([(data_subset[:,i].min(), data_subset[:,i].max()) for i in range(d)])"
   ]
  },
  {
   "cell_type": "code",
   "execution_count": 14,
   "metadata": {
    "collapsed": false,
    "scrolled": false
   },
   "outputs": [
    {
     "name": "stdout",
     "output_type": "stream",
     "text": [
      "Drawing Chain 0 ...\n",
      "Iteration 500, cummulative accepted sample size is 12\n",
      "Iteration 1000, cummulative accepted sample size is 14\n",
      "Iteration 1500, cummulative accepted sample size is 16\n",
      "Iteration 2000, cummulative accepted sample size is 16\n",
      "Drawing Chain 1 ...\n",
      "Iteration 500, cummulative accepted sample size is 12\n",
      "Iteration 1000, cummulative accepted sample size is 18\n",
      "Iteration 1500, cummulative accepted sample size is 20\n",
      "Iteration 2000, cummulative accepted sample size is 20\n",
      "Drawing Chain 2 ...\n",
      "Iteration 500, cummulative accepted sample size is 19\n",
      "Iteration 1000, cummulative accepted sample size is 22\n",
      "Iteration 1500, cummulative accepted sample size is 22\n",
      "Iteration 2000, cummulative accepted sample size is 24\n",
      "Drawing Chain 3 ...\n",
      "Iteration 500, cummulative accepted sample size is 20\n",
      "Iteration 1000, cummulative accepted sample size is 20\n",
      "Iteration 1500, cummulative accepted sample size is 20\n",
      "Iteration 2000, cummulative accepted sample size is 20\n",
      "Drawing Chain 4 ...\n",
      "Iteration 500, cummulative accepted sample size is 20\n",
      "Iteration 1000, cummulative accepted sample size is 22\n",
      "Iteration 1500, cummulative accepted sample size is 22\n",
      "Iteration 2000, cummulative accepted sample size is 23\n",
      "Total number of accepted samples: 103\n",
      "CPU times: user 39min 31s, sys: 2h 7min 19s, total: 2h 46min 50s\n",
      "Wall time: 21min 10s\n"
     ]
    }
   ],
   "source": [
    "%%time\n",
    "\n",
    "n_mcmc_chain = 5\n",
    "n_mcmc_sample = 2000\n",
    "mcmc_gaussin_std = 0.1 # tune step size s.t. acceptance rate ~50%\n",
    "\n",
    "accepts = [[] for _ in range(n_mcmc_chain)]\n",
    "rejects = [[] for _ in range(n_mcmc_chain)]\n",
    "logl_accepted_trace = [[] for _ in range(n_mcmc_chain)]\n",
    "logl_complete_trace = [[] for _ in range(n_mcmc_chain)]\n",
    "Y_predict_accepted_trace = [[] for _ in range(n_mcmc_chain)]\n",
    "accuracy_accepted_trace = [[] for _ in range(n_mcmc_chain)]\n",
    "\n",
    "\n",
    "for chain in range(n_mcmc_chain):\n",
    "    \n",
    "    print \"Drawing Chain %d ...\" % chain\n",
    "    \n",
    "    sample = draw_informed_Mondrian(emp_bounds, table)\n",
    "    log_p_sample = comp_log_p_sample(sample, data_subset)\n",
    "    \n",
    "    accepts[chain].append(sample)\n",
    "    logl_accepted_trace[chain].append(log_p_sample)\n",
    "    logl_complete_trace[chain].append(log_p_sample)\n",
    "\n",
    "\n",
    "    \n",
    "    Y_predict = classify_cells(data_subset, sample, table, cell_type_name2idx)\n",
    "    accuracy = sum(Y_subset == Y_predict)*1.0/ data_subset.shape[0]\n",
    "    accuracy_accepted_trace[chain].append(accuracy)\n",
    "    Y_predict_accepted_trace[chain].append(Y_predict)\n",
    "    \n",
    "    for idx in range(n_mcmc_sample):\n",
    "        \n",
    "        new_sample = Mondrian_Gaussian_perturbation(emp_bounds,sample, mcmc_gaussin_std)\n",
    "        new_log_p_sample = comp_log_p_sample(new_sample, data_subset) \n",
    "        logl_complete_trace[chain].append(log_p_sample)\n",
    "        if new_log_p_sample <  log_p_sample and \\\n",
    "            np.log(np.random.uniform(low=0, high=1.)) > (new_log_p_sample - log_p_sample):\n",
    "                rejects[chain].append(new_sample)\n",
    "        \n",
    "        else:\n",
    "            if new_log_p_sample <  log_p_sample:\n",
    "                print \"accepted some bad samples\"\n",
    "                \n",
    "            sample = new_sample\n",
    "            log_p_sample = new_log_p_sample\n",
    "            accepts[chain].append(sample)\n",
    "            logl_accepted_trace[chain].append(log_p_sample)\n",
    "        \n",
    "            Y_predict = classify_cells(data_subset, sample, table, cell_type_name2idx)\n",
    "            accuracy = sum(Y_subset == Y_predict)*1.0/ data_subset.shape[0]\n",
    "            accuracy_accepted_trace[chain].append(accuracy)\n",
    "            Y_predict_accepted_trace[chain].append(Y_predict)\n",
    "        \n",
    "        if (idx+1) % 500 == 0:\n",
    "            print \"Iteration %d, cummulative accepted sample size is %d\" %(idx+1, len(accepts[chain]))\n",
    "            \n",
    "    \n",
    "    if (chain + 1) % 10 == 0:\n",
    "        # prediction and visualization\n",
    "        Y_predict = classify_cells(data_subset, accepts[chain][-1], table, cell_type_name2idx)\n",
    "        accuracy = sum(Y_subset == Y_predict)*1.0/ data_subset.shape[0]\n",
    "        print \"Chain % d accuracy on subset data: %.3f\" % (chain+1,accuracy)         \n",
    "            \n",
    "            \n",
    "print \"Total number of accepted samples: %d\" %(sum([len(accepts[chain]) for chain in range(n_mcmc_chain)]))\n",
    "# 3 chain, 5000 samples"
   ]
  },
  {
   "cell_type": "code",
   "execution_count": null,
   "metadata": {
    "collapsed": false
   },
   "outputs": [],
   "source": [
    "# plot 5 chains\n",
    "fig, axs = plt.subplots(5, 3, figsize=(10,10) )\n",
    "for chain in range(5):\n",
    "    axs[chain, 0].plot(logl_complete_trace[chain])\n",
    "    axs[chain, 1].plot(logl_accepted_trace[chain])\n",
    "    axs[chain, 2].plot(accuracy_accepted_trace[chain])\n",
    "    axs[chain, 0].set_title('Trace of likelihood Chain %d, all samples' % chain, fontsize=8)\n",
    "    axs[chain, 1].set_title('Trace of likelihood Chain %d, accepted samples' % chain, fontsize=8)\n",
    "    axs[chain, 2].set_title('Trace of accuracy Chain %d, accepted samples' % chain, fontsize=8)\n",
    "    \n",
    "fig.tight_layout()"
   ]
  },
  {
   "cell_type": "code",
   "execution_count": 10,
   "metadata": {
    "collapsed": false
   },
   "outputs": [
    {
     "data": {
      "text/plain": [
       "[<matplotlib.lines.Line2D at 0x7f46b543f990>]"
      ]
     },
     "execution_count": 10,
     "metadata": {},
     "output_type": "execute_result"
    },
    {
     "data": {
      "image/png": "[encoded data removed]",
      "text/plain": [
       "<matplotlib.figure.Figure at 0x7f4750f52990>"
      ]
     },
     "metadata": {},
     "output_type": "display_data"
    }
   ],
   "source": [
    "L = min(len(_) for _ in accuracy_accepted_trace)\n",
    "res = []\n",
    "for i in range(L):\n",
    "    res.append(np.array([_[i] for _ in accuracy_accepted_trace]).mean())\n",
    "plt.plot(res)"
   ]
  },
  {
   "cell_type": "code",
   "execution_count": 11,
   "metadata": {
    "collapsed": false
   },
   "outputs": [
    {
     "name": "stdout",
     "output_type": "stream",
     "text": [
      "Accuracy on subset data: 0.922\n"
     ]
    },
    {
     "data": {
      "image/png": "[encoded data removed]",
      "text/plain": [
       "<matplotlib.figure.Figure at 0x7f46b544b3d0>"
      ]
     },
     "metadata": {},
     "output_type": "display_data"
    }
   ],
   "source": [
    "# keep the last 2 samples on each chain\n",
    "burnt_samples = []\n",
    "burnt_predictions = []\n",
    "for i in range(len(accepts)):\n",
    "    accepted_chain = accepts[i]\n",
    "    likelihoods = logl_accepted_trace[i]\n",
    "    predictions = Y_predict_accepted_trace[i]\n",
    "    burnt_samples += [accepted_chain[_] for _ \n",
    "                      in range(len(accepted_chain) - 2,len(accepted_chain)) ]\n",
    "    burnt_predictions += [predictions[_] for _ \n",
    "                          in range(len(accepted_chain) - 2,len(accepted_chain))]\n",
    "    \n",
    "# vote\n",
    "votes = np.zeros([data_subset.shape[0], table.shape[0]])\n",
    "for Y_predict in burnt_predictions:\n",
    "    for _ in range(len(Y_predict)):\n",
    "        votes[_,Y_predict[_]] += 1\n",
    "\n",
    "Y_predict_majority = np.argmax(votes, axis=1)\n",
    "\n",
    "\n",
    "accuracy = sum(Y_subset == Y_predict_majority)*1.0/ data_subset.shape[0]\n",
    "print \"Accuracy on subset data: %.3f\" % (accuracy)\n",
    "\n",
    "bins = table.shape[0]\n",
    "plt.hist(Y_subset, bins, alpha=0.5, label='Y:cell type')\n",
    "plt.hist(Y_predict_majority, bins, alpha=0.5, label='Z:prediction')\n",
    "plt.legend(loc='upper right')\n",
    "plt.show() "
   ]
  },
  {
   "cell_type": "code",
   "execution_count": 12,
   "metadata": {
    "collapsed": false
   },
   "outputs": [
    {
     "name": "stdout",
     "output_type": "stream",
     "text": [
      "5209200.0\n",
      "Chain  5 accuracy on subset data: 0.613\n"
     ]
    },
    {
     "data": {
      "image/png": "[encoded data removed]",
      "text/plain": [
       "<matplotlib.figure.Figure at 0x7f46b57aced0>"
      ]
     },
     "metadata": {},
     "output_type": "display_data"
    }
   ],
   "source": [
    "# emsemble 100 samples from prior\n",
    "\n",
    "# vote\n",
    "votes = np.zeros([data_subset.shape[0], table.shape[0]])\n",
    "\n",
    "for i in range(n_mcmc_chain):\n",
    "    Y_predict = Y_predict_accepted_trace[i][0]\n",
    "    for _ in range(len(Y_predict)):\n",
    "        votes[_,Y_predict[_]] += 1\n",
    "\n",
    "Y_predict_majority = np.argmax(votes, axis=1)\n",
    "\n",
    "print votes.sum()\n",
    "\n",
    "accuracy = sum(Y_subset == Y_predict_majority)*1.0/ data_subset.shape[0]\n",
    "print \"Chain % d accuracy on subset data: %.3f\" % (chain+1,accuracy)\n",
    "\n",
    "bins = table.shape[0]\n",
    "plt.hist(Y_subset, bins, alpha=0.5, label='Y:cell type')\n",
    "plt.hist(Y_predict_majority, bins, alpha=0.5, label='Z:prediction')\n",
    "plt.legend(loc='upper right')\n",
    "plt.show() "
   ]
  },
  {
   "cell_type": "code",
   "execution_count": null,
   "metadata": {
    "collapsed": false
   },
   "outputs": [],
   "source": []
  },
  {
   "cell_type": "code",
   "execution_count": null,
   "metadata": {
    "collapsed": true
   },
   "outputs": [],
   "source": []
  },
  {
   "cell_type": "code",
   "execution_count": null,
   "metadata": {
    "collapsed": true
   },
   "outputs": [],
   "source": []
  }
 ],
 "metadata": {
  "kernelspec": {
   "display_name": "Python 2",
   "language": "python",
   "name": "python2"
  },
  "language_info": {
   "codemirror_mode": {
    "name": "ipython",
    "version": 2
   },
   "file_extension": ".py",
   "mimetype": "text/x-python",
   "name": "python",
   "nbconvert_exporter": "python",
   "pygments_lexer": "ipython2",
   "version": "2.7.5"
  }
 },
 "nbformat": 4,
 "nbformat_minor": 1
}
