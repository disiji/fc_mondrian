{
 "cells": [
  {
   "cell_type": "code",
   "execution_count": 1,
   "metadata": {
    "collapsed": true
   },
   "outputs": [],
   "source": [
    "import os\n",
    "import sys\n",
    "import glob\n",
    "import itertools\n",
    "import random\n",
    "\n",
    "from IPython.display import Image\n",
    "\n",
    "import matplotlib\n",
    "import matplotlib.pyplot as plt\n",
    "import matplotlib.mlab as mlab\n",
    "from matplotlib.colors import ListedColormap\n",
    "from scipy.stats import multivariate_normal\n",
    "\n",
    "import numpy as np\n",
    "import pandas as pd\n",
    "from scipy.stats import beta\n",
    "from sklearn import mixture\n",
    "from sklearn.cluster import KMeans\n",
    "\n",
    "random.seed(1234)\n",
    "\n",
    "%matplotlib inline"
   ]
  },
  {
   "cell_type": "code",
   "execution_count": 2,
   "metadata": {
    "collapsed": false
   },
   "outputs": [
    {
     "name": "stdout",
     "output_type": "stream",
     "text": [
      "(19, 13)\n"
     ]
    }
   ],
   "source": [
    "# load BMMC data and table\n",
    "##### X: np.array, flow cytometry data, arcsin transformed\n",
    "##### T: table of expert knowledge\n",
    "\n",
    "np.random.seed(1234)\n",
    "PATH = '/home/disij/projects/acdc/data/'\n",
    "\n",
    "### LOAD DATA ###\n",
    "path = PATH + 'BMMC_benchmark/'\n",
    "df = pd.read_csv( path + 'BMMC_benchmark.csv.gz', sep=',', header = 0, compression = 'gzip', engine='python')\n",
    "table = pd.read_csv(path + 'BMMC_table.csv', sep=',', header=0, index_col=0)\n",
    "print table.shape\n",
    "\n",
    "### PROCESS: discard ungated events ###\n",
    "channels = ['CD45','CD45RA', 'CD19', 'CD11b', 'CD4', 'CD8', 'CD34',\n",
    "           'CD20', 'CD33', 'CD123', 'CD38', 'CD90', 'CD3']\n",
    "df.columns = channels + ['cell_type']\n",
    "df = df[df.cell_type != 'NotGated']\n",
    "df = df.loc[df['cell_type'] != 'NotDebrisSinglets']\n",
    "df = df.loc[df['cell_type'] != 'Megakaryocyte']\n",
    "df = df.loc[df['cell_type'] != 'CD11bmid Monocyte']\n",
    "df = df.loc[df['cell_type'] != 'Platelet']\n",
    "df = df.loc[df['cell_type'] != 'Myelocyte']\n",
    "df = df.loc[df['cell_type'] != 'Erythroblast']\n",
    "\n",
    "table = table.fillna(0)\n",
    "X = df[channels].values\n",
    "\n",
    "### transform data\n",
    "data = np.arcsinh((X-1.)/5.)\n",
    "theta_space = np.array([[data[:,d].min(), data[:,d].max()] for d in range(data.shape[1])])\n",
    "\n",
    "\n",
    "cell_type_name2idx = {x:i for i,x in enumerate(table.index)}\n",
    "cell_type_name2idx['unknown'] = len(cell_type_name2idx)\n",
    "Y = np.array([cell_type_name2idx[_]  \n",
    "              if _ in cell_type_name2idx else cell_type_name2idx['unknown']\n",
    "             for _ in df.cell_type])"
   ]
  },
  {
   "cell_type": "code",
   "execution_count": 3,
   "metadata": {
    "collapsed": false
   },
   "outputs": [
    {
     "name": "stdout",
     "output_type": "stream",
     "text": [
      "(61725, 13)\n"
     ]
    }
   ],
   "source": [
    "print data.shape"
   ]
  },
  {
   "cell_type": "code",
   "execution_count": 4,
   "metadata": {
    "collapsed": false
   },
   "outputs": [
    {
     "name": "stdout",
     "output_type": "stream",
     "text": [
      "0.841344673957\n",
      "CPU times: user 22.5 s, sys: 54.8 s, total: 1min 17s\n",
      "Wall time: 14.3 s\n"
     ]
    }
   ],
   "source": [
    "%%time\n",
    "gmm = mixture.GaussianMixture(n_components=table.shape[0], covariance_type='full').fit(data)\n",
    "\n",
    "clusters = gmm.predict(data)\n",
    "Y_predict = np.zeros_like(clusters)\n",
    "# assign labels to clusters:\n",
    "for k in range(table.shape[0]):\n",
    "    Y_predict[clusters == k] = np.bincount(Y[clusters==k]).argmax()\n",
    "print sum(Y_predict == Y)*1.0 / len(Y_predict)"
   ]
  },
  {
   "cell_type": "code",
   "execution_count": null,
   "metadata": {
    "collapsed": true
   },
   "outputs": [],
   "source": []
  }
 ],
 "metadata": {
  "kernelspec": {
   "display_name": "Python 2",
   "language": "python",
   "name": "python2"
  },
  "language_info": {
   "codemirror_mode": {
    "name": "ipython",
    "version": 2
   },
   "file_extension": ".py",
   "mimetype": "text/x-python",
   "name": "python",
   "nbconvert_exporter": "python",
   "pygments_lexer": "ipython2",
   "version": "2.7.11"
  }
 },
 "nbformat": 4,
 "nbformat_minor": 0
}
