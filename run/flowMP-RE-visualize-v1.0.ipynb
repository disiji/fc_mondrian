{
 "cells": [
  {
   "cell_type": "code",
   "execution_count": 1,
   "metadata": {
    "collapsed": true
   },
   "outputs": [],
   "source": [
    "from joblib import Parallel, delayed\n",
    "import multiprocessing\n",
    "import numpy as np\n",
    "import pandas as pd\n",
    "from sklearn.utils import shuffle\n",
    "\n",
    "import sys\n",
    "sys.path.append('../')\n",
    "from src import *\n",
    "\n",
    "random.seed(1234)\n",
    "np.random.seed(1234)"
   ]
  },
  {
   "cell_type": "code",
   "execution_count": 2,
   "metadata": {
    "collapsed": true
   },
   "outputs": [],
   "source": [
    "PATH_DATA = '/extra/disij0/data/flow_cytometry/cytobank/levine_aml/CSV/'\n",
    "PATH_TABLE = '/home/disij/projects/acdc/data/AML_benchmark/'\n",
    "PATH_SAMPLES = \"/extra/disij0/data/flow_cytometry/flowMP_output/\"\n",
    "OUTPUT_DIR = \"/home/disij/projects/sandbox/fc_mondrian/output/\""
   ]
  },
  {
   "cell_type": "markdown",
   "metadata": {},
   "source": [
    "Load data..."
   ]
  },
  {
   "cell_type": "code",
   "execution_count": 12,
   "metadata": {
    "collapsed": false
   },
   "outputs": [],
   "source": [
    "# load data into a dictionary of pandas data frames\n",
    "user_ids = ['H1','H2','H3','H4','H5','SJ01','SJ02','SJ03','SJ04','SJ05','SJ06','SJ07','SJ08','SJ09','SJ10',\\\n",
    "           'SJ11','SJ12','SJ13','SJ14','SJ15','SJ16']\n",
    "\n",
    "data_dict = dict()\n",
    "for id in user_ids:\n",
    "    data_path = PATH_DATA + id\n",
    "    allFiles = glob.glob(data_path + \"/*fcsdim_42.csv\")\n",
    "    frame = pd.DataFrame()\n",
    "    list_ = []\n",
    "    for file_ in allFiles:\n",
    "        df = pd.read_csv(file_,index_col=None, header=0)\n",
    "        list_.append(df)\n",
    "    data_dict[id] = pd.concat(list_)\n",
    "    \n",
    "markers = ['HLA-DR','CD19','CD34','CD45','CD47','CD44','CD117','CD123','CD38','CD11b',\\\n",
    "                'CD7','CD15','CD3','CD64','CD33','CD41']\n",
    "    \n",
    "table = pd.read_csv(PATH_TABLE + 'AML_table.csv', sep=',', header=0, index_col=0)\n",
    "table = table.fillna(0)\n",
    "table = table[markers]\n",
    "\n",
    "cell_type_name2idx = {x:i for i,x in enumerate(table.index)}\n",
    "cell_type_idx2name = {i:x for i,x in enumerate(table.index)}\n",
    "\n",
    "table.at['Mature B cells','CD38'] = -1.0\n",
    "\n",
    "f = lambda x: np.arcsinh((x -1.)/5.)\n",
    "data = [data_dict[_].head(20000).applymap(f)[markers].values for _ in ['H1','H2','H3','H4',\\\n",
    "            'H5','SJ01','SJ02','SJ03','SJ04','SJ05','SJ06','SJ07','SJ08','SJ09','SJ10',\\\n",
    "            'SJ11','SJ12','SJ13','SJ14','SJ15','SJ16']]\n",
    "\n",
    "# compute data range \n",
    "data_ranges = np.array([[[data[_][:,d].min(),data[_][:,d].max()] \\\n",
    "                        for d in range(len(markers))]\n",
    "                        for _ in range(len(data))])\n",
    "\n",
    "theta_space = np.array([[data_ranges[:,d,0].min(), data_ranges[:,d,1].max()] \\\n",
    "                        for d in range(len(markers))])\n",
    "\n",
    "n_samples = len(data)"
   ]
  },
  {
   "cell_type": "markdown",
   "metadata": {},
   "source": [
    "Load accepted samples..."
   ]
  },
  {
   "cell_type": "code",
   "execution_count": 10,
   "metadata": {
    "collapsed": false
   },
   "outputs": [],
   "source": [
    "accepts_template_mp_H = load_chains_from_files(PATH_SAMPLES + \\\n",
    "                                               'MP_RE_accepted_template_samples_H')\n",
    "accepts_template_mp_SJ = load_chains_from_files(PATH_SAMPLES + \\\n",
    "                                               'MP_RE_accepted_template_samples_SJ')\n",
    "\n",
    "dir_path_H = PATH_SAMPLES + \"MP_RE_accepted_indiv_samples_H\"\n",
    "dir_path_SJ = PATH_SAMPLES + \"MP_RE_accepted_indiv_samples_SJ\"\n",
    "\n",
    "accepts_indiv_mp_lists_H = [load_chains_from_files(dir_path_H + str(id)) for id in range(1,6)]\n",
    "accepts_indiv_mp_lists_SJ = [load_chains_from_files(dir_path_SJ + str(id)) for id in range(1,17)]"
   ]
  },
  {
   "cell_type": "markdown",
   "metadata": {},
   "source": [
    "Compare log likelihood $P(data_i|MP_i)$ without or without random effects..."
   ]
  },
  {
   "cell_type": "code",
   "execution_count": 14,
   "metadata": {
    "collapsed": false
   },
   "outputs": [],
   "source": [
    "# fit 1 tree to pooled healthy samples, and 1 tree for pooled unhealthy samples\n",
    "global_MP_H = []\n",
    "global_MP_SJ = []\n",
    "n_iter = 1000\n",
    "mcmc_gaussin_std = 0.1\n",
    "data_H = np.concatenate(data[0:5])\n",
    "n_mcmc_chain = 32\n",
    "for chain in range(n_mcmc_chain):\n",
    "    global_MP_H.append(init_mp(theta_space, table, data_H, n_iter,mcmc_gaussin_std))\n",
    "    \n",
    "data_SJ = np.concatenate(data[5:])\n",
    "for chain in range(n_mcmc_chain):\n",
    "    global_MP_SJ.append(init_mp(theta_space, table, data_SJ, n_iter,mcmc_gaussin_std))"
   ]
  },
  {
   "cell_type": "code",
   "execution_count": 19,
   "metadata": {
    "collapsed": false
   },
   "outputs": [],
   "source": [
    "# individual MP with random effects\n",
    "\n",
    "log_lik_H = [[] for _ in range(5)] # 5 * n_chain\n",
    "log_lik_SJ = [[] for _ in range(16)] # 5 * n_chain\n",
    "\n",
    "for id in range(5):\n",
    "    data_subset = data[id]\n",
    "    burnt_samples = [i for _ in range(n_mcmc_chain) for i in \\\n",
    "                     accepts_indiv_mp_lists_H[id][_][-1:]]\n",
    "    for sample in burnt_samples:\n",
    "        log_lik_H[id].append(comp_log_p_sample(sample, data_subset))\n",
    "\n",
    "for id in range(16):\n",
    "    data_subset = data[5+id]\n",
    "    burnt_samples = [i for _ in range(n_mcmc_chain) for i in \\\n",
    "                     accepts_indiv_mp_lists_SJ[id][_][-1:]]\n",
    "    for sample in burnt_samples:\n",
    "        log_lik_SJ[id].append(comp_log_p_sample(sample, data_subset))\n",
    "\n",
    "log_lik = log_lik_H + log_lik_SJ "
   ]
  },
  {
   "cell_type": "code",
   "execution_count": null,
   "metadata": {
    "collapsed": true
   },
   "outputs": [],
   "source": []
  },
  {
   "cell_type": "code",
   "execution_count": 20,
   "metadata": {
    "collapsed": true
   },
   "outputs": [],
   "source": [
    "# individual MP without random effects\n",
    "\n",
    "log_lik_H_global = [[] for _ in range(5)] # 5 * n_chain * 2\n",
    "log_lik_SJ_global = [[] for _ in range(16)] # 5 * n_chain * 2\n",
    "\n",
    "for id in range(5):\n",
    "    data_subset = data[id]\n",
    "    for sample in global_MP_H:\n",
    "        log_lik_H_global[id].append(comp_log_p_sample(sample, data_subset))\n",
    "\n",
    "for id in range(16):\n",
    "    data_subset = data[5+id]\n",
    "    for sample in global_MP_SJ:\n",
    "        log_lik_SJ_global[id].append(comp_log_p_sample(sample, data_subset))\n",
    "\n",
    "log_lik_global = log_lik_H_global + log_lik_SJ_global"
   ]
  },
  {
   "cell_type": "code",
   "execution_count": 33,
   "metadata": {
    "collapsed": false
   },
   "outputs": [
    {
     "data": {
      "image/png": "[encoded data removed]",
      "text/plain": [
       "<matplotlib.figure.Figure at 0x4db5490>"
      ]
     },
     "metadata": {},
     "output_type": "display_data"
    }
   ],
   "source": [
    "def draw_plot(data, edge_color, fill_color):\n",
    "    bp = ax.boxplot(data, patch_artist=True)\n",
    "\n",
    "    for element in ['boxes', 'whiskers', 'fliers', 'means', 'medians', 'caps']:\n",
    "        plt.setp(bp[element], color=edge_color)\n",
    "\n",
    "    for patch in bp['boxes']:\n",
    "        patch.set(facecolor=fill_color)       \n",
    "\n",
    "fig, ax = plt.subplots(figsize=(6,3))\n",
    "draw_plot(np.array(log_lik).T, 'red', 'tan')\n",
    "draw_plot(np.array(log_lik_global).T, 'blue', 'cyan')\n",
    "\n",
    "ax.set_ylabel('log likelihood',fontsize=10)\n",
    "#plt.setp(ax.get_yticklabels(),visible=False)\n",
    "\n",
    "groups = ['H%s' % i for i in range(1,6)] + ['S%s' % i for i in range(1,17)]\n",
    "plt.plot([], c='#D7191C', label='MP-RE')\n",
    "plt.plot([], c='#2C7BB6', label='Global MP')\n",
    "plt.legend(fontsize=12)\n",
    "\n",
    "plt.plot([5.5, 5.5],[-400000, -150000], c = 'k', linestyle = ':')\n",
    "\n",
    "plt.xticks(range(1,22),groups)\n",
    "plt.xticks(fontsize=10)\n",
    "plt.yticks(fontsize=10)\n",
    "#plt.xlabel('Subjects')\n",
    "ax.yaxis.get_major_formatter().set_powerlimits((0,1))\n",
    "plt.tight_layout()\n",
    "plt.show()"
   ]
  },
  {
   "cell_type": "markdown",
   "metadata": {},
   "source": [
    "Random Effect Analysis..."
   ]
  },
  {
   "cell_type": "code",
   "execution_count": 24,
   "metadata": {
    "collapsed": true
   },
   "outputs": [],
   "source": [
    "def find_first_cut(theta_space):\n",
    "            \n",
    "    # find the dimension and location of first cut when there is a cut\n",
    "    root_rec = theta_space[0]\n",
    "    left_rec = theta_space[1][0]\n",
    "    \n",
    "    for _ in range(root_rec.shape[0]):\n",
    "        if root_rec[_,1] != left_rec[_,1]:\n",
    "            break    \n",
    "    dim, pos = _, left_rec[_,1]\n",
    "    return dim , pos\n",
    "\n",
    "def flatten_tree(tree):\n",
    "    if tree == None:\n",
    "        return []\n",
    "    if len(tree) == 1:\n",
    "        return tree\n",
    "    else:\n",
    "        return [tree[0]] + flatten_tree(tree[1]) + flatten_tree(tree[2])\n",
    "\"\"\"\n",
    "random_effect_H_flattened[patient_id][chain] = a list of unordered offsets\n",
    "random_effect_SJ_flattened[patient_id][chain] = a list of unordered offsets\n",
    "\"\"\"\n",
    "\n",
    "    \n",
    "def compute_diff_mp(template_mp,mp,theta_space):\n",
    "    \"\"\"\n",
    "    Input: 2 mondrian trees\n",
    "    Output:\n",
    "        returns mp - tempatlate_mp\n",
    "        D: tree structured (dimenison of cuts, shared across 2 mp trees), each node is an integer\n",
    "        C: tree structured (position of cuts), each node is a real value\n",
    "    \"\"\"\n",
    "    if mp[1] == None and mp[2] == None:\n",
    "        return None, None\n",
    "    d_0_template, c_0_template = find_first_cut(template_mp)\n",
    "    d_0_mp, c_0_mp = find_first_cut(mp)\n",
    "    d_0 = d_0_template\n",
    "    len_d_0 = theta_space[d_0][1] - theta_space[d_0][0]\n",
    "    c_0 = (c_0_mp - c_0_template)/len_d_0\n",
    "    \n",
    "    D_left, C_left = compute_diff_mp(template_mp[1],mp[1],theta_space)\n",
    "    D_right, C_right = compute_diff_mp(template_mp[2],mp[2],theta_space)\n",
    "    D = [d_0, D_left, D_right]\n",
    "    C = [c_0, C_left, C_right]\n",
    "    return D, C"
   ]
  },
  {
   "cell_type": "code",
   "execution_count": 26,
   "metadata": {
    "collapsed": false
   },
   "outputs": [],
   "source": [
    "random_effect_H = [[None for chain in range(n_mcmc_chain)] for id in range(5)]\n",
    "random_effect_SJ = [[None for chain in range(n_mcmc_chain)] for id in range(21)]\n",
    "\n",
    "for id in range(5):\n",
    "    for chain in range(n_mcmc_chain):\n",
    "        random_effect_H[id][chain] = compute_diff_mp(accepts_template_mp_H[chain][-1],\\\n",
    "                                                     accepts_indiv_mp_lists_H[id][chain][-1],\\\n",
    "                                                    theta_space)\n",
    "for id in range(16):\n",
    "    for chain in range(n_mcmc_chain):\n",
    "        random_effect_SJ[id][chain] = compute_diff_mp(accepts_template_mp_SJ[chain][-1],\\\n",
    "                                                     accepts_indiv_mp_lists_SJ[id][chain][-1],\\\n",
    "                                                     theta_space)\n",
    "\n",
    "random_effect_H_flattened = [[flatten_tree(random_effect_H[id][chain][1]) \\\n",
    "                              for chain in range(n_mcmc_chain)] for id in range(5)]\n",
    "random_effect_SJ_flattened = [[flatten_tree(random_effect_SJ[id][chain][1]) \\\n",
    "                              for chain in range(n_mcmc_chain)] for id in range(16)]"
   ]
  },
  {
   "cell_type": "code",
   "execution_count": 31,
   "metadata": {
    "collapsed": false
   },
   "outputs": [
    {
     "data": {
      "text/plain": [
       "<matplotlib.figure.Figure at 0x7192e250>"
      ]
     },
     "metadata": {},
     "output_type": "display_data"
    },
    {
     "data": {
      "image/png": "[encoded data removed]",
      "text/plain": [
       "<matplotlib.figure.Figure at 0x1f7da2d0>"
      ]
     },
     "metadata": {},
     "output_type": "display_data"
    }
   ],
   "source": [
    "import itertools\n",
    "import seaborn as sns\n",
    "sns.set_style(\"white\")\n",
    "from sklearn.neighbors import KernelDensity\n",
    "\n",
    "random_effect_H_set = [j for i in random_effect_H_flattened for _ in  i for j in _]\n",
    "random_effect_SJ_set = [j for i in random_effect_SJ_flattened for _ in  i for j in _]\n",
    "# bins = 20\n",
    "# plt.hist(random_effect_H_set,bins = bins)\n",
    "# plt.show()\n",
    "# plt.hist(random_effect_SJ_set, bins = bins)\n",
    "# plt.show()\n",
    "# kde_H = KernelDensity(kernel='gaussian', bandwidth=0.75).fit(random_effect_H_set)\n",
    "\n",
    "threshold = 0.3\n",
    "fig, ax = plt.subplots(figsize=(4,3))\n",
    "offset_H = sns.distplot([i for i in random_effect_H_set if abs(i) < threshold],label=\"Healthy\",hist=False)\n",
    "offset_SJ = sns.distplot([i for i in random_effect_SJ_set if abs(i) < threshold], label=\"AML\", hist=False)\n",
    "# plt.hist(random_effect_H_set,label='healthy',alpha = 0.5)\n",
    "# plt.hist(random_effect_SJ_set,label='AML',alpha = 0.5)\n",
    "plt.legend(fontsize = 12)\n",
    "plt.yticks([])\n",
    "#plt.xticks([])\n",
    "plt.tight_layout()\n",
    "plt.show()"
   ]
  },
  {
   "cell_type": "markdown",
   "metadata": {},
   "source": [
    "Visualize random effects(find chains and dimensions what random effects are obvious)..."
   ]
  },
  {
   "cell_type": "code",
   "execution_count": 28,
   "metadata": {
    "collapsed": false
   },
   "outputs": [
    {
     "name": "stdout",
     "output_type": "stream",
     "text": [
      "7 CD123\n",
      "7 CD123\n",
      "12 CD3\n",
      "12 CD3\n",
      "7 CD123\n",
      "7 CD123\n",
      "12 CD3\n",
      "12 CD3\n",
      "2 CD34\n",
      "2 CD34\n",
      "[0.46153846153846156, 0.3076923076923077, 0.23076923076923078]\n"
     ]
    }
   ],
   "source": [
    "for chain in range(5):\n",
    "    d,c =  find_first_cut(accepts_template_mp_H[chain][0])\n",
    "    print d, table.columns[d]\n",
    "    d,c =  find_first_cut(accepts_template_mp_SJ[chain][0])\n",
    "    print d, table.columns[d]\n",
    "    \n",
    "size = [6,4,3]\n",
    "print [i*1.0/sum(size) for i in size]"
   ]
  },
  {
   "cell_type": "code",
   "execution_count": 32,
   "metadata": {
    "collapsed": false
   },
   "outputs": [
    {
     "name": "stdout",
     "output_type": "stream",
     "text": [
      "[0.3150448864859028, 1.8375716835406724, 0.39501643026804667]\n",
      "3.431262599287564\n",
      "0\n",
      "1\n",
      "4\n"
     ]
    },
    {
     "data": {
      "image/png": "[encoded data removed]",
      "text/plain": [
       "<matplotlib.figure.Figure at 0x408b5150>"
      ]
     },
     "metadata": {},
     "output_type": "display_data"
    }
   ],
   "source": [
    "# plot subplots for Heathy group\n",
    "# choose chain 0, dim CD123 (dimension of first cut)\n",
    "\n",
    "chain = 3\n",
    "dim = 12\n",
    "\n",
    "first_cut_random_effect_H = [random_effect_H[id][chain][1][0] for id in range(5)]\n",
    "\n",
    "subjects = ['H1','H2','H5']\n",
    "#subjects = ['H1','H5']\n",
    "subjects_id = [0,1,4]\n",
    "fig,axarr = plt.subplots(len(subjects_id),1,figsize=(3,3),sharex=True)\n",
    "bins = 50\n",
    "\n",
    "cuts_re =  [find_first_cut(accepts_indiv_mp_lists_H[chain][id][-1])[1] for id in subjects_id]\n",
    "cuts_template = find_first_cut(accepts_template_mp_H[chain][-1])[1]\n",
    "print cuts_re\n",
    "print cuts_template\n",
    "\n",
    "\n",
    "bar_height = [8000,12000,4900]\n",
    "for i in range(len(subjects)):\n",
    "    print subjects_id[i]\n",
    "    data_1d = data[subjects_id[i]][:,dim]\n",
    "    axarr[i].plot([cuts_re[i],cuts_re[i]],[0,bar_height[i]], color='red',linewidth=3)\n",
    "    axarr[i].plot([cuts_template,cuts_template],[0,bar_height[i]], color='green',linewidth=3)\n",
    "    #sns.distplot(data_1d,ax = axarr[i],kde= False);\n",
    "    axarr[i].plot([], c='white', label=subjects[i])\n",
    "    axarr[i].legend(fontsize=12)\n",
    "    axarr[i].hist(data_1d,bins = 30)\n",
    "    axarr[i].yaxis.set_visible(False)\n",
    "\n",
    "# plt.xticks(fontsize=12)\n",
    "# axarr[i].plot([], c='green', label='Indiv MP')\n",
    "# axarr[i].plot([], c='red', label='MP+RE')\n",
    "plt.tight_layout()\n",
    "plt.xticks([])\n",
    "plt.show()"
   ]
  },
  {
   "cell_type": "code",
   "execution_count": null,
   "metadata": {
    "collapsed": true
   },
   "outputs": [],
   "source": []
  },
  {
   "cell_type": "code",
   "execution_count": null,
   "metadata": {
    "collapsed": true
   },
   "outputs": [],
   "source": []
  }
 ],
 "metadata": {
  "kernelspec": {
   "display_name": "Python 2",
   "language": "python",
   "name": "python2"
  },
  "language_info": {
   "codemirror_mode": {
    "name": "ipython",
    "version": 2
   },
   "file_extension": ".py",
   "mimetype": "text/x-python",
   "name": "python",
   "nbconvert_exporter": "python",
   "pygments_lexer": "ipython2",
   "version": "2.7.5"
  }
 },
 "nbformat": 4,
 "nbformat_minor": 0
}
