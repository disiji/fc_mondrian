{
 "cells": [
  {
   "cell_type": "code",
   "execution_count": 1,
   "metadata": {
    "collapsed": false
   },
   "outputs": [],
   "source": [
    "from joblib import Parallel, delayed\n",
    "import multiprocessing\n",
    "import numpy as np\n",
    "import pandas as pd\n",
    "\n",
    "import sys\n",
    "sys.path.append('../')\n",
    "from src import *"
   ]
  },
  {
   "cell_type": "code",
   "execution_count": 13,
   "metadata": {
    "collapsed": true
   },
   "outputs": [],
   "source": [
    "PATH_DATA = '/home/disij/projects/acdc/data/'\n",
    "OUTPUT_DIR = \"/extra/disij0/data/flow_cytometry/flowMP_output/\"\n",
    "PATH_SAMPLES = OUTPUT_DIR + \"AML_accepted_samples\"\n",
    "FILENAME_PREDICTIONS = OUTPUT_DIR + \"AML_predictions.csv.gz\"\n",
    "FILENAME_PREDICTIONS_CORRECTED_TABLE = OUTPUT_DIR + \"AML_predictions_corrected_table.csv.gz\""
   ]
  },
  {
   "cell_type": "markdown",
   "metadata": {},
   "source": [
    "Load AML dataset from [ACDC paper](https://www.ncbi.nlm.nih.gov/pmc/articles/PMC5447237/pdf/btx054.pdf)..."
   ]
  },
  {
   "cell_type": "code",
   "execution_count": 3,
   "metadata": {
    "collapsed": false
   },
   "outputs": [],
   "source": [
    "# load AML data and table\n",
    "\n",
    "### LOAD DATA ###\n",
    "path = PATH_DATA + 'AML_benchmark/'\n",
    "df = pd.read_csv( path + 'AML_benchmark.csv.gz', sep=',', header = 0, \\\n",
    "                 compression = 'gzip', engine='python')\n",
    "table = pd.read_csv(path + 'AML_table.csv', sep=',', header=0, index_col=0)\n",
    "\n",
    "### PROCESS: discard ungated events ###\n",
    "df = df[df.cell_type != 'NotGated']\n",
    "df = df.drop(['Time', 'Cell_length','file_number', 'event_number', 'DNA1(Ir191)Di',\n",
    "              'DNA2(Ir193)Di', 'Viability(Pt195)Di', 'subject'], axis = 1)\n",
    "channels = [item[:item.find('(')] for item in df.columns[:-1]]\n",
    "df.columns = channels + ['cell_type']\n",
    "df = df.loc[df['cell_type'] != 'NotDebrisSinglets']\n",
    "\n",
    "table = table.fillna(0)\n",
    "X = df[channels].values\n",
    "table_headers = list(table)\n",
    "\n",
    "### transform data\n",
    "data = np.arcsinh((X-1.)/5.)\n",
    "N, d = data.shape\n",
    "emp_bounds = np.array([[data[:,d].min(), data[:,d].max()] for d in range(data.shape[1])])\n",
    "ct2idx = {x:i for i,x in enumerate(table.index)}\n",
    "idx2ct = [key for idx, key in enumerate(table.index)]\n",
    "Y = np.array([ct2idx[_] for _ in df.cell_type])\n",
    "\n",
    "# rename table header 'HLA-DR' to 'HLADR' to prevent error from '-'\n",
    "temp_headers = list(table)\n",
    "temp_headers[29] = \"HLADR\"\n",
    "table.columns = temp_headers"
   ]
  },
  {
   "cell_type": "markdown",
   "metadata": {},
   "source": [
    "Learn MP trees and write accepted samples to file..."
   ]
  },
  {
   "cell_type": "code",
   "execution_count": 5,
   "metadata": {
    "collapsed": false,
    "scrolled": false
   },
   "outputs": [
    {
     "name": "stdout",
     "output_type": "stream",
     "text": [
      "Sampling Chain 0...\n",
      "Accuracy of cell classification on all data: 0.936\n",
      "Sampling Chain 1...\n",
      "Accuracy of cell classification on all data: 0.925\n",
      "Sampling Chain 2...\n",
      "Accuracy of cell classification on all data: 0.921\n",
      "Sampling Chain 3...\n",
      "Accuracy of cell classification on all data: 0.910\n",
      "Sampling Chain 4...\n",
      "Accuracy of cell classification on all data: 0.924\n",
      "Sampling Chain 5...\n",
      "Accuracy of cell classification on all data: 0.927\n",
      "Sampling Chain 6...\n",
      "Accuracy of cell classification on all data: 0.930\n",
      "Sampling Chain 7...\n",
      "Accuracy of cell classification on all data: 0.927\n",
      "Sampling Chain 8...\n",
      "Accuracy of cell classification on all data: 0.929\n",
      "Sampling Chain 9...\n",
      "Accuracy of cell classification on all data: 0.927\n",
      "Sampling Chain 10...\n",
      "Accuracy of cell classification on all data: 0.927\n",
      "Sampling Chain 11...\n",
      "Accuracy of cell classification on all data: 0.926\n",
      "Sampling Chain 12...\n",
      "Accuracy of cell classification on all data: 0.921\n",
      "Sampling Chain 13...\n",
      "Accuracy of cell classification on all data: 0.923\n",
      "Sampling Chain 14...\n",
      "Accuracy of cell classification on all data: 0.928\n",
      "Sampling Chain 15...\n",
      "Accuracy of cell classification on all data: 0.922\n",
      "Sampling Chain 16...\n",
      "Accuracy of cell classification on all data: 0.921\n",
      "Sampling Chain 17...\n",
      "Accuracy of cell classification on all data: 0.923\n",
      "Sampling Chain 18...\n",
      "Accuracy of cell classification on all data: 0.921\n",
      "Sampling Chain 19...\n",
      "Accuracy of cell classification on all data: 0.920\n",
      "Sampling Chain 20...\n",
      "Accuracy of cell classification on all data: 0.918\n",
      "Sampling Chain 21...\n",
      "Accuracy of cell classification on all data: 0.917\n",
      "Sampling Chain 22...\n",
      "Accuracy of cell classification on all data: 0.916\n",
      "Sampling Chain 23...\n",
      "Accuracy of cell classification on all data: 0.916\n",
      "Sampling Chain 24...\n",
      "Accuracy of cell classification on all data: 0.916\n",
      "Sampling Chain 25...\n",
      "Accuracy of cell classification on all data: 0.916\n",
      "Sampling Chain 26...\n",
      "Accuracy of cell classification on all data: 0.916\n",
      "Sampling Chain 27...\n",
      "Accuracy of cell classification on all data: 0.918\n",
      "Sampling Chain 28...\n",
      "Accuracy of cell classification on all data: 0.919\n",
      "Sampling Chain 29...\n",
      "Accuracy of cell classification on all data: 0.918\n",
      "Sampling Chain 30...\n",
      "Accuracy of cell classification on all data: 0.918\n",
      "Sampling Chain 31...\n",
      "Accuracy of cell classification on all data: 0.919\n",
      "Sampling Chain 32...\n",
      "Accuracy of cell classification on all data: 0.919\n",
      "Sampling Chain 33...\n",
      "Accuracy of cell classification on all data: 0.919\n",
      "Sampling Chain 34...\n",
      "Accuracy of cell classification on all data: 0.920\n",
      "Sampling Chain 35...\n",
      "Accuracy of cell classification on all data: 0.921\n",
      "Sampling Chain 36...\n",
      "Accuracy of cell classification on all data: 0.919\n",
      "Sampling Chain 37...\n",
      "Accuracy of cell classification on all data: 0.917\n",
      "Sampling Chain 38...\n",
      "Accuracy of cell classification on all data: 0.918\n",
      "Sampling Chain 39...\n",
      "Accuracy of cell classification on all data: 0.918\n",
      "Sampling Chain 40...\n",
      "Accuracy of cell classification on all data: 0.917\n",
      "Sampling Chain 41...\n",
      "Accuracy of cell classification on all data: 0.917\n",
      "Sampling Chain 42...\n",
      "Accuracy of cell classification on all data: 0.918\n",
      "Sampling Chain 43...\n",
      "Accuracy of cell classification on all data: 0.918\n",
      "Sampling Chain 44...\n",
      "Accuracy of cell classification on all data: 0.917\n",
      "Sampling Chain 45...\n",
      "Accuracy of cell classification on all data: 0.918\n",
      "Sampling Chain 46...\n",
      "Accuracy of cell classification on all data: 0.919\n",
      "Sampling Chain 47...\n",
      "Accuracy of cell classification on all data: 0.917\n",
      "Sampling Chain 48...\n",
      "Accuracy of cell classification on all data: 0.918\n",
      "Sampling Chain 49...\n",
      "Accuracy of cell classification on all data: 0.918\n",
      "CPU times: user 19h 37min 42s, sys: 1d 20h 59min 8s, total: 2d 16h 36min 50s\n",
      "Wall time: 9h 36min 29s\n"
     ]
    }
   ],
   "source": [
    "%%time\n",
    "\n",
    "\n",
    "###################### Parallel run #####################\n",
    "# n_mcmc_chain = 50\n",
    "# n_mcmc_samples = 3000\n",
    "# chains = range(n_mcmc_chain)\n",
    "# num_cores = multiprocessing.cpu_count()\n",
    "# accepted_MP = Parallel(n_jobs=num_cores)(delayed(MP_mcmc)\\\n",
    "#                 (data, emp_bounds, table, i, n_mcmc_samples) for i in chains)\n",
    "# write_chains_to_file(accepted_MP, PATH_SAMPLES)\n",
    "\n",
    "\n",
    "\n",
    "n_mcmc_chain = 50\n",
    "n_mcmc_samples = 3000\n",
    "accepted_MP = []\n",
    "for i in range(n_mcmc_chain):\n",
    "    print \"Sampling Chain %d...\" % i\n",
    "    accepted_MP.append(MP_mcmc(data, emp_bounds, table, i, n_mcmc_samples))\n",
    "    burnt_samples = [sample for chain in accepted_MP for sample in chain[-20:]]   \n",
    "    Y_predict = classify_cells_majority(data, burnt_samples, table, ct2idx)\n",
    "    accuracy = sum(Y == Y_predict)*1.0/ N\n",
    "    print \"Accuracy of cell classification on all data: %.3f\" % (accuracy)\n",
    "\n",
    "write_chains_to_file(accepted_MP, PATH_SAMPLES)"
   ]
  },
  {
   "cell_type": "markdown",
   "metadata": {},
   "source": [
    "Classify cells based on accepted MP trees, and write predictions to file..."
   ]
  },
  {
   "cell_type": "code",
   "execution_count": 15,
   "metadata": {
    "collapsed": false
   },
   "outputs": [
    {
     "name": "stdout",
     "output_type": "stream",
     "text": [
      "Accuracy of cell classification: 0.919\n"
     ]
    }
   ],
   "source": [
    "burnt_samples = [sample for chain in accepted_MP for sample in chain[-10:]]\n",
    "Y_predict = classify_cells_majority(data, burnt_samples, table, ct2idx)\n",
    "accuracy = sum(Y == Y_predict)*1.0/ N\n",
    "print \"Accuracy of cell classification: %.3f\" % (accuracy)\n",
    "\n",
    "df['MP_prediction'] = pd.Series([idx2ct[i] for i in Y_predict], index=df.index)\n",
    "df.to_csv(FILENAME_PREDICTIONS, compression='gzip', index = False)"
   ]
  },
  {
   "cell_type": "code",
   "execution_count": 7,
   "metadata": {
    "collapsed": false
   },
   "outputs": [
    {
     "name": "stdout",
     "output_type": "stream",
     "text": [
      "[70, 77, 49, 48, 55, 67, 50, 63, 50, 68, 55, 47, 53, 58, 62, 42, 100, 51, 69, 51, 88, 65, 56, 41, 55, 63, 48, 89, 24, 49, 55, 87, 51, 59, 86, 60, 46, 89, 63, 56, 50, 49, 66, 43, 66, 60, 42, 57, 80, 62]\n"
     ]
    }
   ],
   "source": [
    "print [len(i) for i in accepted_MP]"
   ]
  },
  {
   "cell_type": "code",
   "execution_count": 14,
   "metadata": {
    "collapsed": true
   },
   "outputs": [],
   "source": [
    "# compute accuracy of each sample on average"
   ]
  }
 ],
 "metadata": {
  "kernelspec": {
   "display_name": "Python 2",
   "language": "python",
   "name": "python2"
  },
  "language_info": {
   "codemirror_mode": {
    "name": "ipython",
    "version": 2
   },
   "file_extension": ".py",
   "mimetype": "text/x-python",
   "name": "python",
   "nbconvert_exporter": "python",
   "pygments_lexer": "ipython2",
   "version": "2.7.5"
  }
 },
 "nbformat": 4,
 "nbformat_minor": 1
}
