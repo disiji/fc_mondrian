{
 "cells": [
  {
   "cell_type": "code",
   "execution_count": 1,
   "metadata": {
    "collapsed": false
   },
   "outputs": [],
   "source": [
    "from joblib import Parallel, delayed\n",
    "import multiprocessing\n",
    "import numpy as np\n",
    "import pandas as pd\n",
    "\n",
    "import sys\n",
    "sys.path.append('../')\n",
    "from src import *\n",
    "\n",
    "random.seed(1234)\n",
    "np.random.seed(1234)"
   ]
  },
  {
   "cell_type": "code",
   "execution_count": 2,
   "metadata": {
    "collapsed": true
   },
   "outputs": [],
   "source": [
    "PATH_DATA = '/home/disij/projects/acdc/data/'\n",
    "OUTPUT_DIR = \"/extra/disij0/data/flow_cytometry/flowMP_output/\"\n",
    "PATH_SAMPLES = OUTPUT_DIR + \"BMMC_accepted_samples\"\n",
    "FILENAME_PREDICTIONS = OUTPUT_DIR + \"BMMC_predictions.csv.gz\""
   ]
  },
  {
   "cell_type": "markdown",
   "metadata": {},
   "source": [
    "Load BMMC dataset from [ACDC paper](https://www.ncbi.nlm.nih.gov/pmc/articles/PMC5447237/pdf/btx054.pdf)..."
   ]
  },
  {
   "cell_type": "code",
   "execution_count": 3,
   "metadata": {
    "collapsed": false
   },
   "outputs": [],
   "source": [
    "### LOAD DATA ###\n",
    "path = PATH_DATA + 'BMMC_benchmark/'\n",
    "df = pd.read_csv( path + 'BMMC_benchmark.csv.gz', sep=',', header = 0, \\\n",
    "                 compression = 'gzip', engine='python')\n",
    "table = pd.read_csv(path + 'BMMC_table.csv', sep=',', header=0, index_col=0)\n",
    "\n",
    "\n",
    "channels = ['CD45','CD45RA', 'CD19', 'CD11b', 'CD4', 'CD8', 'CD34',\n",
    "           'CD20', 'CD33', 'CD123', 'CD38', 'CD90', 'CD3']\n",
    "df.columns = channels + ['cell_type']\n",
    "df = df[df.cell_type != 'NotGated']\n",
    "\n",
    "### five cell types below are the ones that we do not have prior information about.\n",
    "### in acdc implementation, they are all catagorized as \"unknown\", yet since we are not able\n",
    "### to handle unknown cell types, we remove all instances of these types\n",
    "### proportion of \"unknown\" is 24.49% in total\n",
    "df = df.loc[df['cell_type'] != 'Megakaryocyte']\n",
    "df = df.loc[df['cell_type'] != 'CD11bmid Monocyte']\n",
    "df = df.loc[df['cell_type'] != 'Platelet']\n",
    "df = df.loc[df['cell_type'] != 'Myelocyte']\n",
    "df = df.loc[df['cell_type'] != 'Erythroblast']\n",
    "\n",
    "table = table.fillna(0)\n",
    "X = df[channels].values\n",
    "\n",
    "### transform data\n",
    "data = np.arcsinh((X-1.)/5.)\n",
    "N, d = data.shape\n",
    "emp_bounds = np.array([[data[:,d].min(), data[:,d].max()] for d in range(data.shape[1])])\n",
    "ct2idx = {x:i for i,x in enumerate(table.index)}\n",
    "idx2ct = [key for idx, key in enumerate(table.index)]\n",
    "Y = np.array([ct2idx[_] for _ in df.cell_type])"
   ]
  },
  {
   "cell_type": "markdown",
   "metadata": {},
   "source": [
    "Learn MP trees and write accepted samples to file..."
   ]
  },
  {
   "cell_type": "code",
   "execution_count": 4,
   "metadata": {
    "collapsed": false,
    "scrolled": false
   },
   "outputs": [
    {
     "name": "stdout",
     "output_type": "stream",
     "text": [
      "Sampling Chain 0...\n",
      "Accuracy of cell classification on all data: 0.897\n",
      "Sampling Chain 1...\n",
      "Accuracy of cell classification on all data: 0.842\n",
      "Sampling Chain 2...\n",
      "Accuracy of cell classification on all data: 0.793\n",
      "Sampling Chain 3...\n",
      "Accuracy of cell classification on all data: 0.832\n",
      "Sampling Chain 4...\n",
      "Accuracy of cell classification on all data: 0.775\n",
      "Sampling Chain 5...\n",
      "Accuracy of cell classification on all data: 0.774\n",
      "Sampling Chain 6...\n",
      "Accuracy of cell classification on all data: 0.798\n",
      "Sampling Chain 7...\n",
      "Accuracy of cell classification on all data: 0.657\n",
      "Sampling Chain 8...\n",
      "Accuracy of cell classification on all data: 0.844\n",
      "Sampling Chain 9...\n",
      "Accuracy of cell classification on all data: 0.752\n",
      "Sampling Chain 10...\n",
      "Accuracy of cell classification on all data: 0.825\n",
      "Sampling Chain 11...\n",
      "Accuracy of cell classification on all data: 0.880\n",
      "Sampling Chain 12...\n",
      "Accuracy of cell classification on all data: 0.841\n",
      "Sampling Chain 13...\n",
      "Accuracy of cell classification on all data: 0.797\n",
      "Sampling Chain 14...\n",
      "Accuracy of cell classification on all data: 0.887\n",
      "Sampling Chain 15...\n",
      "Accuracy of cell classification on all data: 0.874\n",
      "Sampling Chain 16...\n",
      "Accuracy of cell classification on all data: 0.789\n",
      "Sampling Chain 17...\n",
      "Accuracy of cell classification on all data: 0.762\n",
      "Sampling Chain 18...\n",
      "Accuracy of cell classification on all data: 0.799\n",
      "Sampling Chain 19...\n",
      "Accuracy of cell classification on all data: 0.793\n",
      "Sampling Chain 20...\n",
      "Accuracy of cell classification on all data: 0.782\n",
      "Sampling Chain 21...\n",
      "Accuracy of cell classification on all data: 0.818\n",
      "Sampling Chain 22...\n",
      "Accuracy of cell classification on all data: 0.860\n",
      "Sampling Chain 23...\n",
      "Accuracy of cell classification on all data: 0.834\n",
      "Sampling Chain 24...\n",
      "Accuracy of cell classification on all data: 0.839\n",
      "Sampling Chain 25...\n",
      "Accuracy of cell classification on all data: 0.823\n",
      "Sampling Chain 26...\n",
      "Accuracy of cell classification on all data: 0.773\n",
      "Sampling Chain 27...\n",
      "Accuracy of cell classification on all data: 0.610\n",
      "Sampling Chain 28...\n",
      "Accuracy of cell classification on all data: 0.776\n",
      "Sampling Chain 29...\n",
      "Accuracy of cell classification on all data: 0.846\n",
      "Sampling Chain 30...\n",
      "Accuracy of cell classification on all data: 0.830\n",
      "Sampling Chain 31...\n",
      "Accuracy of cell classification on all data: 0.680\n",
      "Sampling Chain 32...\n",
      "Accuracy of cell classification on all data: 0.895\n",
      "Sampling Chain 33...\n",
      "Accuracy of cell classification on all data: 0.760\n",
      "Sampling Chain 34...\n",
      "Accuracy of cell classification on all data: 0.890\n",
      "Sampling Chain 35...\n",
      "Accuracy of cell classification on all data: 0.831\n",
      "Sampling Chain 36...\n",
      "Accuracy of cell classification on all data: 0.841\n",
      "Sampling Chain 37...\n",
      "Accuracy of cell classification on all data: 0.772\n",
      "Sampling Chain 38...\n",
      "Accuracy of cell classification on all data: 0.784\n",
      "Sampling Chain 39...\n",
      "Accuracy of cell classification on all data: 0.858\n",
      "Sampling Chain 40...\n",
      "Accuracy of cell classification on all data: 0.821\n",
      "Sampling Chain 41...\n",
      "Accuracy of cell classification on all data: 0.891\n",
      "Sampling Chain 42...\n",
      "Accuracy of cell classification on all data: 0.850\n",
      "Sampling Chain 43...\n",
      "Accuracy of cell classification on all data: 0.785\n",
      "Sampling Chain 44...\n",
      "Accuracy of cell classification on all data: 0.831\n",
      "Sampling Chain 45...\n",
      "Accuracy of cell classification on all data: 0.772\n",
      "Sampling Chain 46...\n",
      "Accuracy of cell classification on all data: 0.762\n",
      "Sampling Chain 47...\n",
      "Accuracy of cell classification on all data: 0.831\n",
      "Sampling Chain 48...\n",
      "Accuracy of cell classification on all data: 0.805\n",
      "Sampling Chain 49...\n",
      "Accuracy of cell classification on all data: 0.863\n",
      "CPU times: user 2h 58min 10s, sys: 5h 29min 1s, total: 8h 27min 12s\n",
      "Wall time: 5h 28min 53s\n"
     ]
    }
   ],
   "source": [
    "%%time\n",
    "\n",
    "\n",
    "###################### Parallel run #####################\n",
    "# n_mcmc_chain = 50\n",
    "# n_mcmc_samples = 3000\n",
    "# chains = range(n_mcmc_chain)\n",
    "# num_cores = multiprocessing.cpu_count()\n",
    "# accepted_MP = Parallel(n_jobs=num_cores)(delayed(MP_mcmc)\\\n",
    "#                 (data, emp_bounds, table, i, n_mcmc_samples) for i in chains)\n",
    "# write_chains_to_file(accepted_MP, PATH_SAMPLES)\n",
    "\n",
    "\n",
    "\n",
    "### Here we run sequentially to monitor the effect of ensembling multiple chains\n",
    "n_mcmc_chain = 50\n",
    "n_mcmc_samples = 3000\n",
    "accepted_MP = []\n",
    "for i in range(n_mcmc_chain):\n",
    "    print \"Sampling Chain %d...\" % i\n",
    "    accepted_MP.append(MP_mcmc(data, emp_bounds, table, i, n_mcmc_samples))\n",
    "    burnt_samples = [sample for chain in accepted_MP[-1:] for sample in chain[-20:]]   \n",
    "    Y_predict = classify_cells_majority(data, burnt_samples, table, ct2idx)\n",
    "    accuracy = sum(Y == Y_predict)*1.0/ N\n",
    "    print \"Accuracy of cell classification on all data: %.3f\" % (accuracy)\n",
    "\n",
    "write_chains_to_file(accepted_MP, PATH_SAMPLES)"
   ]
  },
  {
   "cell_type": "markdown",
   "metadata": {},
   "source": [
    "Classify cells based on accepted MP trees, and write predictions to file..."
   ]
  },
  {
   "cell_type": "code",
   "execution_count": 5,
   "metadata": {
    "collapsed": false
   },
   "outputs": [
    {
     "name": "stdout",
     "output_type": "stream",
     "text": [
      "Accuracy of cell classification: 0.923\n"
     ]
    }
   ],
   "source": [
    "burnt_samples = [sample for chain in accepted_MP for sample in chain[-1:]]\n",
    "Y_predict = classify_cells_majority(data, burnt_samples, table, ct2idx)\n",
    "accuracy = sum(Y == Y_predict)*1.0/ N\n",
    "print \"Accuracy of cell classification: %.3f\" % (accuracy)\n",
    "\n",
    "df['MP_prediction'] = pd.Series([idx2ct[i] for i in Y_predict], index=df.index)\n",
    "df.to_csv(FILENAME_PREDICTIONS, compression='gzip', index = False)"
   ]
  },
  {
   "cell_type": "code",
   "execution_count": 6,
   "metadata": {
    "collapsed": false
   },
   "outputs": [
    {
     "name": "stdout",
     "output_type": "stream",
     "text": [
      "[100, 49, 99, 64, 79, 98, 86, 67, 61, 102, 79, 41, 82, 63, 70, 83, 103, 75, 95, 77, 72, 55, 49, 77, 70, 76, 96, 89, 53, 108, 92, 71, 43, 68, 84, 53, 63, 89, 73, 33, 112, 53, 81, 71, 71, 70, 55, 69, 77, 72]\n"
     ]
    }
   ],
   "source": [
    "print [len(i) for i in accepted_MP]"
   ]
  },
  {
   "cell_type": "code",
   "execution_count": 9,
   "metadata": {
    "collapsed": false
   },
   "outputs": [
    {
     "name": "stdout",
     "output_type": "stream",
     "text": [
      "(19, 13)\n"
     ]
    }
   ],
   "source": [
    "print table.shape"
   ]
  }
 ],
 "metadata": {
  "kernelspec": {
   "display_name": "Python 2",
   "language": "python",
   "name": "python2"
  },
  "language_info": {
   "codemirror_mode": {
    "name": "ipython",
    "version": 2
   },
   "file_extension": ".py",
   "mimetype": "text/x-python",
   "name": "python",
   "nbconvert_exporter": "python",
   "pygments_lexer": "ipython2",
   "version": "2.7.5"
  }
 },
 "nbformat": 4,
 "nbformat_minor": 1
}
